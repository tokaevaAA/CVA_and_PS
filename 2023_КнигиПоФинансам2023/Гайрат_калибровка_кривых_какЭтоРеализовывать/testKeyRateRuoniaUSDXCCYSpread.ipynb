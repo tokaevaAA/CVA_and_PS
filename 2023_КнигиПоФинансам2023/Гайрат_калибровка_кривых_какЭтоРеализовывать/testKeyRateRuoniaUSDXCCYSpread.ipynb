{
 "cells": [
  {
   "cell_type": "code",
   "execution_count": 1,
   "metadata": {},
   "outputs": [
    {
     "name": "stderr",
     "output_type": "stream",
     "text": [
      "[ERROR] 2023-02-20 07:29:29,424 - You do not have xbbg installed, some functionality will not be available\n",
      "[INFO] 2023-02-20 07:29:33,115 - ps client switched from prod_pvlss to dev\n"
     ]
    }
   ],
   "source": [
    "# set up ps environment\n",
    "import ps, ps_utils\n",
    "from ps_utils.env import ps\n",
    "from ps.message import GlobalID\n",
    "from ps_utils import env, market\n",
    "\n",
    "import math as m\n",
    "import numpy as np\n",
    "import datetime as dt\n",
    "import pandas as pd\n",
    "import os\n",
    "import subprocess\n",
    "directory = os.getcwd()\n",
    "from matplotlib import pyplot as plt\n",
    "ps_utils.switch_to_dev()\n",
    "ps_utils.logger.setLevel(ps_utils.logging.ERROR)\n",
    "ps_utils.logger.setLevel(ps_utils.logging.DEBUG)\n",
    "\n",
    "\n",
    "def toDate(x) :\n",
    " return dt.datetime.strptime(x, \"%Y/%m/%d\")\n"
   ]
  },
  {
   "cell_type": "markdown",
   "metadata": {},
   "source": [
    "# Set market data and static data set\n",
    "\n",
    "В текущем рынке нет фиксингов и кривой для RUONIA_ON пока добавим вручную. Значения не важны"
   ]
  },
  {
   "cell_type": "code",
   "execution_count": 2,
   "metadata": {},
   "outputs": [
    {
     "name": "stderr",
     "output_type": "stream",
     "text": [
      "[DEBUG] 2023-02-20 07:29:33,324 - MarketToCanonicalFormat request: 3efe43f2218be05ad3835794f84b9ba4673ad014\n"
     ]
    }
   ],
   "source": [
    "myAlgoId = '772a59f7d99193655515726134c37d49e598cf9d' #'c0ef448ff8c7ef92164d9588ad747adc5c7faa8b'\n",
    "\n",
    "price_dt = dt.date(2022, 8, 25) #Date for Market Data Set\n",
    "mdsInitial = ps_utils.get_mds(price_dt) #Setting MDS\n",
    "\n",
    "\n",
    "# add RUB_RUONIA_ON fixings and curve node for RUONIA_ON, currently we don't have it in Market data. Any fake data are fine.\n",
    "mdsInitial.Fixings.RUB_RUONIA_ON  = ps.new_cm()\n",
    "mdsInitial.Fixings.RUB_RUONIA_ON.TypeName = 'Fixings'\n",
    "mdsInitial.Fixings.RUB_RUONIA_ON.Identifier = 'RUB_RUONIA_ON'\n",
    "mdsInitial.Fixings.RUB_RUONIA_ON.Dates = [toDate('2022/03/09'),toDate('2022/03/10')]\n",
    "mdsInitial.Fixings.RUB_RUONIA_ON.Values = [0.0965,0.0965]\n",
    "\n",
    "mdsInitial.RatesCurvesBundles.RUB_RUONIA_ON  = ps.new_cm()\n",
    "mdsInitial.RatesCurvesBundles.RUB_RUONIA_ON.Identifier = 'RUB_RUONIA_ON'\n",
    "mdsInitial.RatesCurvesBundles.RUB_RUONIA_ON.TypeName = 'DiscountFactorCurve'\n",
    "mdsInitial.RatesCurvesBundles.RUB_RUONIA_ON.RatesSchedule = {    \n",
    "     'Rates':[1.0,1.0,1.0],     \n",
    "     'Dates':[price_dt,\tprice_dt + dt.timedelta(days=10),\tprice_dt + dt.timedelta(days=30)]\n",
    "    }\n",
    "mdsInitial.RatesCurvesBundles.RUB_RUONIA_ON.RateQuoteExpression = 'Percentage'\n",
    "\n",
    "\n",
    "# missed fixings in original market\n",
    "mdsInitial.Fixings.USD_SOFR  = ps.new_cm()\n",
    "mdsInitial.Fixings.USD_SOFR.TypeName = 'Fixings'\n",
    "mdsInitial.Fixings.USD_SOFR.Identifier = 'USD_SOFR'\n",
    "mdsInitial.Fixings.USD_SOFR.Dates = [toDate('2022/03/09'),toDate('2022/03/10')]\n",
    "mdsInitial.Fixings.USD_SOFR.Values = [0.0965,0.0965]\n",
    "\n",
    "mdsInitial.RatesCurvesBundles.USD_XCCY  = ps.new_cm()\n",
    "mdsInitial.RatesCurvesBundles.USD_XCCY.Identifier = 'USD_XCCY'\n",
    "mdsInitial.RatesCurvesBundles.USD_XCCY.TypeName = 'DiscountFactorCurve'\n",
    "mdsInitial.RatesCurvesBundles.USD_XCCY.RatesSchedule = {    \n",
    "     'Rates':[1.0,1.0,1.0],     \n",
    "     'Dates':[price_dt,\tprice_dt + dt.timedelta(days=10),\tprice_dt + dt.timedelta(days=30)]\n",
    "    }\n",
    "mdsInitial.RatesCurvesBundles.USD_XCCY.RateQuoteExpression = 'Percentage'\n",
    "\n",
    "mds=ps.put(mdsInitial)\n",
    "\n",
    "\n",
    "mds_id = mds._id\n",
    "sds_id = '3a488901da729b61b9b9e5313f13c5f3a5e47e1e'#'09d98b3bad8edbbdb16815ec1b7be13f76bb3a14'#edde27cc8f3f3b69c5986e565dae48dae5fa1549' #static data set with calibrating conventions\n",
    "sds = ps.get(sds_id)\n"
   ]
  },
  {
   "cell_type": "code",
   "execution_count": 3,
   "metadata": {},
   "outputs": [
    {
     "data": {
      "text/plain": [
       "'8feafe6ac3506b8f894c0c5ca8e9f91147839148'"
      ]
     },
     "execution_count": 3,
     "metadata": {},
     "output_type": "execute_result"
    }
   ],
   "source": [
    "mds_id"
   ]
  },
  {
   "cell_type": "markdown",
   "metadata": {},
   "source": [
    "# KeyRate & RUONIA\n",
    "## Set calibration request"
   ]
  },
  {
   "cell_type": "code",
   "execution_count": 4,
   "metadata": {},
   "outputs": [],
   "source": [
    "    \n",
    "calibrateCurves = ps.new_cm()\n",
    "calibrateCurves.RequestName = 'CalibrateCurves'\n",
    "\n",
    "calibrateCurves.DomesticForwardCurve = {\n",
    "    'Identifier':'RUB_KEY_RATE',\n",
    "    'Quotes' : {\n",
    "        'RATE:JUL22': 8.0,\n",
    "        'RATE:SEP22': 7.75,\n",
    "        'RATE:OCT22': 7.75,\n",
    "        'RATE:DEC22': 8.0,\n",
    "        'RATE:FEB23': 8.0,\n",
    "        'RATE:MAR23': 8.25,\n",
    "        'RATE:APR23': 8.25,\n",
    "        'RATE:JUN23': 8.5,\n",
    "        'RATE:JUL23': 8.5,\n",
    "        'RATE:SEP23': 8.75,\n",
    "        'OISW:2Y': 8.895,\n",
    "        'OISW:3Y': 9.166666667,\n",
    "        'OISW:4Y': 9.348333333,\n",
    "        'OISW:5Y': 9.48,\n",
    "        'OISW:6Y': 9.591,\n",
    "        'OISW:7Y': 9.662,\n",
    "        'OISW:8Y': 9.713,\n",
    "        'OISW:9Y': 9.754,\n",
    "        'OISW:10Y': 9.795\n",
    "        },\n",
    "\n",
    "# convert string dates to Dates\n",
    "    'MeetingSchedule' : {\n",
    "        'Keys':        ['JUL22',\t        'SEP22',\t        'OCT22',\t         'DEC22',\t          'FEB23',\t'MAR23',\t'APR23',\t       'JUN23',\t            'JUL23',\t        'SEP23'],\n",
    "        'StartDates' : [dt.date(2022,7,25),\tdt.date(2022,9,19),  dt.date(2022,10,31), dt.date(2022,12,19), dt.date(2023,2,13),\tdt.date(2023,3,20),\tdt.date(2023,5,2),\tdt.date(2023,6,12),\tdt.date(2023,7,24),\tdt.date(2023,9,18)],\n",
    "        'EndDates' :   [dt.date(2022,9,19),\tdt.date(2022,10,31), dt.date(2022,12,19), dt.date(2023,2,13),  dt.date(2023,3,20),\tdt.date(2023,5,2),\tdt.date(2023,6,12),\tdt.date(2023,7,24),\tdt.date(2023,9,18),\tdt.date(2023,10,30)]\n",
    "        }\n",
    "}\n",
    "\n",
    "\n",
    "calibrateCurves.DiscountFactorCurve = {\n",
    "    'Identifier' : 'RUB_RUONIA_ON',\n",
    "    'KeyRateSpreads' : {\n",
    "        'OIDG:1D': 1.0,\n",
    "        'OISW:1W': 1.0,\n",
    "        'OISW:2W': 1.0,\n",
    "        'OISW:1M': 1.0,\n",
    "        'OISW:2M': 1.0,\n",
    "        'OISW:3M': 1.0,\n",
    "        'OISW:6M': 1.0,\n",
    "        'OISW:9M': 1.0,\n",
    "        'OISW:12M': 1.0,\n",
    "        'OISW:2Y': 1.0,\n",
    "        'OISW:3Y': 1.0,\n",
    "        'OISW:4Y': 1.0,\n",
    "        'OISW:5Y': 1.0,\n",
    "        'OISW:6Y': 1.0,\n",
    "        'OISW:7Y': 1.0,\n",
    "        'OISW:8Y': 1.0,\n",
    "        'OISW:9Y': 1.0,\n",
    "        'OISW:10Y': 1.0}\n",
    "}\n",
    "calibrateCurves.RateQuoteExpression = 'Percentage'\n",
    "calibrateCurves.CalibrationUseGlobalSolver = False\n",
    "calibrateCurves.MarketDataSet = mds_id\n",
    "calibrateCurves.StaticDataSet = sds_id"
   ]
  },
  {
   "cell_type": "code",
   "execution_count": 5,
   "metadata": {},
   "outputs": [
    {
     "name": "stderr",
     "output_type": "stream",
     "text": [
      "[INFO] 2023-02-20 07:29:33,621 - Compute:2d537646366a383795138eb91cc3b0a38295b1a7->c5b0a5f6eace8cf4852d3bfbce8b74ce34ff6d93\n"
     ]
    }
   ],
   "source": [
    "result=ps_utils.compute(calibrateCurves,algo_id=myAlgoId)"
   ]
  },
  {
   "cell_type": "markdown",
   "metadata": {},
   "source": [
    "## Get instruments info"
   ]
  },
  {
   "cell_type": "code",
   "execution_count": 6,
   "metadata": {},
   "outputs": [],
   "source": [
    "keyRateInstruments=ps.get(result['Curve1']['Instruments']) # KeyRate instruments\n",
    "keyRateSwaps=ps.get(result['Curve1']['SwapInstruments']) # KeyRate swaps used for spread calculation\n",
    "ruoniaInstruments=ps.get(result['Curve1']['SwapInstruments']) # RUONIA instruments"
   ]
  },
  {
   "cell_type": "code",
   "execution_count": 7,
   "metadata": {},
   "outputs": [
    {
     "data": {
      "text/plain": [
       "['RATE:JUL22',\n",
       " 'RATE:SEP22',\n",
       " 'RATE:OCT22',\n",
       " 'RATE:DEC22',\n",
       " 'RATE:FEB23',\n",
       " 'RATE:MAR23',\n",
       " 'RATE:APR23',\n",
       " 'RATE:JUN23',\n",
       " 'RATE:JUL23',\n",
       " 'RATE:SEP23',\n",
       " 'OISW:2Y',\n",
       " 'OISW:3Y',\n",
       " 'OISW:4Y',\n",
       " 'OISW:5Y',\n",
       " 'OISW:6Y',\n",
       " 'OISW:7Y',\n",
       " 'OISW:8Y',\n",
       " 'OISW:9Y',\n",
       " 'OISW:10Y']"
      ]
     },
     "execution_count": 7,
     "metadata": {},
     "output_type": "execute_result"
    }
   ],
   "source": [
    "keyRateInstruments.Instruments['Tickers']"
   ]
  },
  {
   "cell_type": "markdown",
   "metadata": {},
   "source": [
    "## Get specific instrument argumrnts"
   ]
  },
  {
   "cell_type": "code",
   "execution_count": 8,
   "metadata": {},
   "outputs": [
    {
     "name": "stdout",
     "output_type": "stream",
     "text": [
      "RATE:SEP22\n"
     ]
    },
    {
     "data": {
      "text/plain": [
       "MessageMap([('Leg1IndexIdentifier', 'RUB_KEY_RATE'),\n",
       "            ('Leg2FixedRate', 0.07750000059604645),\n",
       "            ('Leg1FloatingRateSpread', 0.0),\n",
       "            ('TypeName', 'InterestRatesSwapProduct'),\n",
       "            ('Leg1Currency', 'RUB'),\n",
       "            ('Leg1DayCountConvention', 'ActAct'),\n",
       "            ('Leg2DayCountConvention', 'ActAct'),\n",
       "            ('Leg2Currency', 'RUB'),\n",
       "            ('Leg1IsReceiver', True),\n",
       "            ('Leg1Notionals', [1000000.0]),\n",
       "            ('Leg1PeriodStartDates',\n",
       "             [datetime.datetime(2022, 9, 19, 0, 0, tzinfo=datetime.timezone.utc)]),\n",
       "            ('Leg1PeriodEndDates',\n",
       "             [datetime.datetime(2022, 10, 31, 0, 0, tzinfo=datetime.timezone.utc)]),\n",
       "            ('Leg1PaymentDates',\n",
       "             [datetime.datetime(2022, 10, 31, 0, 0, tzinfo=datetime.timezone.utc)]),\n",
       "            ('Leg2Notionals', [1000000.0]),\n",
       "            ('Leg2PeriodStartDates',\n",
       "             [datetime.datetime(2022, 9, 19, 0, 0, tzinfo=datetime.timezone.utc)]),\n",
       "            ('Leg2PeriodEndDates',\n",
       "             [datetime.datetime(2022, 10, 31, 0, 0, tzinfo=datetime.timezone.utc)]),\n",
       "            ('Leg2PaymentDates',\n",
       "             [datetime.datetime(2022, 10, 31, 0, 0, tzinfo=datetime.timezone.utc)]),\n",
       "            ('Leg1FloatingRateAveragingType', 'SimpleAverage'),\n",
       "            ('Leg1FloatingRateAveragingPeriod', '1BD'),\n",
       "            ('Ticker', 'RATE:SEP22')])"
      ]
     },
     "execution_count": 8,
     "metadata": {},
     "output_type": "execute_result"
    }
   ],
   "source": [
    "print(keyRateInstruments.Instruments['Tickers'][1])\n",
    "ps.get(keyRateInstruments.Instruments['Arguments'][1])"
   ]
  },
  {
   "cell_type": "markdown",
   "metadata": {},
   "source": [
    "## View calibrated curves"
   ]
  },
  {
   "cell_type": "code",
   "execution_count": 9,
   "metadata": {},
   "outputs": [],
   "source": [
    "\n",
    "mds_id_withRUONIA = result['MarketId']\n",
    "newMarket=ps.get(result['MarketId'])\n",
    "\n",
    "KeyRateResults = pd.DataFrame({'Dates':result['Curve1']['Dates'],'Rates':result['Curve1']['Rates'],'Discnt':result['Curve1']['DiscountFactors'],'Errors':result['Curve1']['Errors']})\n",
    "RUONIAResults = pd.DataFrame({'Dates':result['Curve2']['Dates'],'Rates':result['Curve2']['Rates'],'Discnt':result['Curve2']['DiscountFactors'],'Errors':result['Curve2']['Errors']})\n",
    "\n",
    "pd.options.display.float_format = '{:,.10f}'.format\n",
    "\n"
   ]
  },
  {
   "cell_type": "code",
   "execution_count": 10,
   "metadata": {},
   "outputs": [
    {
     "data": {
      "text/plain": [
       "0    0.9944549814\n",
       "1    0.9856277810\n",
       "2    0.9754284942\n",
       "3    0.9635319708\n",
       "4    0.9561703556\n",
       "5    0.9467103761\n",
       "6    0.9379796809\n",
       "7    0.9290621448\n",
       "8    0.9170274022\n",
       "9    0.9078426784\n",
       "10   0.8405291471\n",
       "11   0.7647854324\n",
       "12   0.6942734923\n",
       "13   0.6294399223\n",
       "14   0.5696497029\n",
       "15   0.5157087759\n",
       "16   0.4672662805\n",
       "17   0.4232833222\n",
       "18   0.3828382896\n",
       "Name: Discnt, dtype: float64"
      ]
     },
     "execution_count": 10,
     "metadata": {},
     "output_type": "execute_result"
    }
   ],
   "source": [
    "KeyRateResults['Rates']\n",
    "KeyRateResults['Discnt']\n"
   ]
  },
  {
   "cell_type": "code",
   "execution_count": 11,
   "metadata": {},
   "outputs": [
    {
     "data": {
      "text/html": [
       "<style  type=\"text/css\" >\n",
       "</style>  \n",
       "<table id=\"T_2d20c7c0_b0d7_11ed_94cb_0050568575aa\" > \n",
       "<thead>    <tr> \n",
       "        <th class=\"blank level0\" ></th> \n",
       "        <th class=\"col_heading level0 col0\" >Dates</th> \n",
       "        <th class=\"col_heading level0 col1\" >Discnt</th> \n",
       "        <th class=\"col_heading level0 col2\" >Errors</th> \n",
       "        <th class=\"col_heading level0 col3\" >Rates</th> \n",
       "    </tr></thead> \n",
       "<tbody>    <tr> \n",
       "        <th id=\"T_2d20c7c0_b0d7_11ed_94cb_0050568575aa\" class=\"row_heading level0 row0\" >0</th> \n",
       "        <td id=\"T_2d20c7c0_b0d7_11ed_94cb_0050568575aarow0_col0\" class=\"data row0 col0\" >19/09/2022</td> \n",
       "        <td id=\"T_2d20c7c0_b0d7_11ed_94cb_0050568575aarow0_col1\" class=\"data row0 col1\" >0.994455</td> \n",
       "        <td id=\"T_2d20c7c0_b0d7_11ed_94cb_0050568575aarow0_col2\" class=\"data row0 col2\" >-1.27329e-10</td> \n",
       "        <td id=\"T_2d20c7c0_b0d7_11ed_94cb_0050568575aarow0_col3\" class=\"data row0 col3\" >0.0799828</td> \n",
       "    </tr>    <tr> \n",
       "        <th id=\"T_2d20c7c0_b0d7_11ed_94cb_0050568575aa\" class=\"row_heading level0 row1\" >1</th> \n",
       "        <td id=\"T_2d20c7c0_b0d7_11ed_94cb_0050568575aarow1_col0\" class=\"data row1 col0\" >31/10/2022</td> \n",
       "        <td id=\"T_2d20c7c0_b0d7_11ed_94cb_0050568575aarow1_col1\" class=\"data row1 col1\" >0.985628</td> \n",
       "        <td id=\"T_2d20c7c0_b0d7_11ed_94cb_0050568575aarow1_col2\" class=\"data row1 col2\" >-1.30967e-10</td> \n",
       "        <td id=\"T_2d20c7c0_b0d7_11ed_94cb_0050568575aarow1_col3\" class=\"data row1 col3\" >0.0784256</td> \n",
       "    </tr>    <tr> \n",
       "        <th id=\"T_2d20c7c0_b0d7_11ed_94cb_0050568575aa\" class=\"row_heading level0 row2\" >2</th> \n",
       "        <td id=\"T_2d20c7c0_b0d7_11ed_94cb_0050568575aarow2_col0\" class=\"data row2 col0\" >19/12/2022</td> \n",
       "        <td id=\"T_2d20c7c0_b0d7_11ed_94cb_0050568575aarow2_col1\" class=\"data row2 col1\" >0.975428</td> \n",
       "        <td id=\"T_2d20c7c0_b0d7_11ed_94cb_0050568575aarow2_col2\" class=\"data row2 col2\" >-0.00033086</td> \n",
       "        <td id=\"T_2d20c7c0_b0d7_11ed_94cb_0050568575aarow2_col3\" class=\"data row2 col3\" >0.078029</td> \n",
       "    </tr>    <tr> \n",
       "        <th id=\"T_2d20c7c0_b0d7_11ed_94cb_0050568575aa\" class=\"row_heading level0 row3\" >3</th> \n",
       "        <td id=\"T_2d20c7c0_b0d7_11ed_94cb_0050568575aarow3_col0\" class=\"data row3 col0\" >13/02/2023</td> \n",
       "        <td id=\"T_2d20c7c0_b0d7_11ed_94cb_0050568575aarow3_col1\" class=\"data row3 col1\" >0.963532</td> \n",
       "        <td id=\"T_2d20c7c0_b0d7_11ed_94cb_0050568575aarow3_col2\" class=\"data row3 col2\" >-1.70985e-10</td> \n",
       "        <td id=\"T_2d20c7c0_b0d7_11ed_94cb_0050568575aarow3_col3\" class=\"data row3 col3\" >0.0786634</td> \n",
       "    </tr>    <tr> \n",
       "        <th id=\"T_2d20c7c0_b0d7_11ed_94cb_0050568575aa\" class=\"row_heading level0 row4\" >4</th> \n",
       "        <td id=\"T_2d20c7c0_b0d7_11ed_94cb_0050568575aarow4_col0\" class=\"data row4 col0\" >20/03/2023</td> \n",
       "        <td id=\"T_2d20c7c0_b0d7_11ed_94cb_0050568575aarow4_col1\" class=\"data row4 col1\" >0.95617</td> \n",
       "        <td id=\"T_2d20c7c0_b0d7_11ed_94cb_0050568575aarow4_col2\" class=\"data row4 col2\" >3.61979e-10</td> \n",
       "        <td id=\"T_2d20c7c0_b0d7_11ed_94cb_0050568575aarow4_col3\" class=\"data row4 col3\" >0.0788861</td> \n",
       "    </tr>    <tr> \n",
       "        <th id=\"T_2d20c7c0_b0d7_11ed_94cb_0050568575aa\" class=\"row_heading level0 row5\" >5</th> \n",
       "        <td id=\"T_2d20c7c0_b0d7_11ed_94cb_0050568575aarow5_col0\" class=\"data row5 col0\" >03/05/2023</td> \n",
       "        <td id=\"T_2d20c7c0_b0d7_11ed_94cb_0050568575aarow5_col1\" class=\"data row5 col1\" >0.94671</td> \n",
       "        <td id=\"T_2d20c7c0_b0d7_11ed_94cb_0050568575aarow5_col2\" class=\"data row5 col2\" >9.05857e-10</td> \n",
       "        <td id=\"T_2d20c7c0_b0d7_11ed_94cb_0050568575aarow5_col3\" class=\"data row5 col3\" >0.0795153</td> \n",
       "    </tr>    <tr> \n",
       "        <th id=\"T_2d20c7c0_b0d7_11ed_94cb_0050568575aa\" class=\"row_heading level0 row6\" >6</th> \n",
       "        <td id=\"T_2d20c7c0_b0d7_11ed_94cb_0050568575aarow6_col0\" class=\"data row6 col0\" >13/06/2023</td> \n",
       "        <td id=\"T_2d20c7c0_b0d7_11ed_94cb_0050568575aarow6_col1\" class=\"data row6 col1\" >0.93798</td> \n",
       "        <td id=\"T_2d20c7c0_b0d7_11ed_94cb_0050568575aarow6_col2\" class=\"data row6 col2\" >7.93079e-10</td> \n",
       "        <td id=\"T_2d20c7c0_b0d7_11ed_94cb_0050568575aarow6_col3\" class=\"data row6 col3\" >0.0799311</td> \n",
       "    </tr>    <tr> \n",
       "        <th id=\"T_2d20c7c0_b0d7_11ed_94cb_0050568575aa\" class=\"row_heading level0 row7\" >7</th> \n",
       "        <td id=\"T_2d20c7c0_b0d7_11ed_94cb_0050568575aarow7_col0\" class=\"data row7 col0\" >24/07/2023</td> \n",
       "        <td id=\"T_2d20c7c0_b0d7_11ed_94cb_0050568575aarow7_col1\" class=\"data row7 col1\" >0.929062</td> \n",
       "        <td id=\"T_2d20c7c0_b0d7_11ed_94cb_0050568575aarow7_col2\" class=\"data row7 col2\" >5.45697e-12</td> \n",
       "        <td id=\"T_2d20c7c0_b0d7_11ed_94cb_0050568575aarow7_col3\" class=\"data row7 col3\" >0.0805596</td> \n",
       "    </tr>    <tr> \n",
       "        <th id=\"T_2d20c7c0_b0d7_11ed_94cb_0050568575aa\" class=\"row_heading level0 row8\" >8</th> \n",
       "        <td id=\"T_2d20c7c0_b0d7_11ed_94cb_0050568575aarow8_col0\" class=\"data row8 col0\" >18/09/2023</td> \n",
       "        <td id=\"T_2d20c7c0_b0d7_11ed_94cb_0050568575aarow8_col1\" class=\"data row8 col1\" >0.917027</td> \n",
       "        <td id=\"T_2d20c7c0_b0d7_11ed_94cb_0050568575aarow8_col2\" class=\"data row8 col2\" >6.58474e-10</td> \n",
       "        <td id=\"T_2d20c7c0_b0d7_11ed_94cb_0050568575aarow8_col3\" class=\"data row8 col3\" >0.0811956</td> \n",
       "    </tr>    <tr> \n",
       "        <th id=\"T_2d20c7c0_b0d7_11ed_94cb_0050568575aa\" class=\"row_heading level0 row9\" >9</th> \n",
       "        <td id=\"T_2d20c7c0_b0d7_11ed_94cb_0050568575aarow9_col0\" class=\"data row9 col0\" >30/10/2023</td> \n",
       "        <td id=\"T_2d20c7c0_b0d7_11ed_94cb_0050568575aarow9_col1\" class=\"data row9 col1\" >0.907843</td> \n",
       "        <td id=\"T_2d20c7c0_b0d7_11ed_94cb_0050568575aarow9_col2\" class=\"data row9 col2\" >1.16415e-10</td> \n",
       "        <td id=\"T_2d20c7c0_b0d7_11ed_94cb_0050568575aarow9_col3\" class=\"data row9 col3\" >0.0818075</td> \n",
       "    </tr>    <tr> \n",
       "        <th id=\"T_2d20c7c0_b0d7_11ed_94cb_0050568575aa\" class=\"row_heading level0 row10\" >10</th> \n",
       "        <td id=\"T_2d20c7c0_b0d7_11ed_94cb_0050568575aarow10_col0\" class=\"data row10 col0\" >26/08/2024</td> \n",
       "        <td id=\"T_2d20c7c0_b0d7_11ed_94cb_0050568575aarow10_col1\" class=\"data row10 col1\" >0.840529</td> \n",
       "        <td id=\"T_2d20c7c0_b0d7_11ed_94cb_0050568575aarow10_col2\" class=\"data row10 col2\" >-3.44851e-07</td> \n",
       "        <td id=\"T_2d20c7c0_b0d7_11ed_94cb_0050568575aarow10_col3\" class=\"data row10 col3\" >0.0865801</td> \n",
       "    </tr>    <tr> \n",
       "        <th id=\"T_2d20c7c0_b0d7_11ed_94cb_0050568575aa\" class=\"row_heading level0 row11\" >11</th> \n",
       "        <td id=\"T_2d20c7c0_b0d7_11ed_94cb_0050568575aarow11_col0\" class=\"data row11 col0\" >25/08/2025</td> \n",
       "        <td id=\"T_2d20c7c0_b0d7_11ed_94cb_0050568575aarow11_col1\" class=\"data row11 col1\" >0.764785</td> \n",
       "        <td id=\"T_2d20c7c0_b0d7_11ed_94cb_0050568575aarow11_col2\" class=\"data row11 col2\" >-1.89175e-10</td> \n",
       "        <td id=\"T_2d20c7c0_b0d7_11ed_94cb_0050568575aarow11_col3\" class=\"data row11 col3\" >0.0892746</td> \n",
       "    </tr>    <tr> \n",
       "        <th id=\"T_2d20c7c0_b0d7_11ed_94cb_0050568575aa\" class=\"row_heading level0 row12\" >12</th> \n",
       "        <td id=\"T_2d20c7c0_b0d7_11ed_94cb_0050568575aarow12_col0\" class=\"data row12 col0\" >25/08/2026</td> \n",
       "        <td id=\"T_2d20c7c0_b0d7_11ed_94cb_0050568575aarow12_col1\" class=\"data row12 col1\" >0.694273</td> \n",
       "        <td id=\"T_2d20c7c0_b0d7_11ed_94cb_0050568575aarow12_col2\" class=\"data row12 col2\" >-1.0003e-07</td> \n",
       "        <td id=\"T_2d20c7c0_b0d7_11ed_94cb_0050568575aarow12_col3\" class=\"data row12 col3\" >0.0911365</td> \n",
       "    </tr>    <tr> \n",
       "        <th id=\"T_2d20c7c0_b0d7_11ed_94cb_0050568575aa\" class=\"row_heading level0 row13\" >13</th> \n",
       "        <td id=\"T_2d20c7c0_b0d7_11ed_94cb_0050568575aarow13_col0\" class=\"data row13 col0\" >25/08/2027</td> \n",
       "        <td id=\"T_2d20c7c0_b0d7_11ed_94cb_0050568575aarow13_col1\" class=\"data row13 col1\" >0.62944</td> \n",
       "        <td id=\"T_2d20c7c0_b0d7_11ed_94cb_0050568575aarow13_col2\" class=\"data row13 col2\" >-4.85754e-06</td> \n",
       "        <td id=\"T_2d20c7c0_b0d7_11ed_94cb_0050568575aarow13_col3\" class=\"data row13 col3\" >0.0925153</td> \n",
       "    </tr>    <tr> \n",
       "        <th id=\"T_2d20c7c0_b0d7_11ed_94cb_0050568575aa\" class=\"row_heading level0 row14\" >14</th> \n",
       "        <td id=\"T_2d20c7c0_b0d7_11ed_94cb_0050568575aarow14_col0\" class=\"data row14 col0\" >25/08/2028</td> \n",
       "        <td id=\"T_2d20c7c0_b0d7_11ed_94cb_0050568575aarow14_col1\" class=\"data row14 col1\" >0.56965</td> \n",
       "        <td id=\"T_2d20c7c0_b0d7_11ed_94cb_0050568575aarow14_col2\" class=\"data row14 col2\" >9.06759e-07</td> \n",
       "        <td id=\"T_2d20c7c0_b0d7_11ed_94cb_0050568575aarow14_col3\" class=\"data row14 col3\" >0.0936873</td> \n",
       "    </tr>    <tr> \n",
       "        <th id=\"T_2d20c7c0_b0d7_11ed_94cb_0050568575aa\" class=\"row_heading level0 row15\" >15</th> \n",
       "        <td id=\"T_2d20c7c0_b0d7_11ed_94cb_0050568575aarow15_col0\" class=\"data row15 col0\" >27/08/2029</td> \n",
       "        <td id=\"T_2d20c7c0_b0d7_11ed_94cb_0050568575aarow15_col1\" class=\"data row15 col1\" >0.515709</td> \n",
       "        <td id=\"T_2d20c7c0_b0d7_11ed_94cb_0050568575aarow15_col2\" class=\"data row15 col2\" >1.61275e-05</td> \n",
       "        <td id=\"T_2d20c7c0_b0d7_11ed_94cb_0050568575aarow15_col3\" class=\"data row15 col3\" >0.0944402</td> \n",
       "    </tr>    <tr> \n",
       "        <th id=\"T_2d20c7c0_b0d7_11ed_94cb_0050568575aa\" class=\"row_heading level0 row16\" >16</th> \n",
       "        <td id=\"T_2d20c7c0_b0d7_11ed_94cb_0050568575aarow16_col0\" class=\"data row16 col0\" >26/08/2030</td> \n",
       "        <td id=\"T_2d20c7c0_b0d7_11ed_94cb_0050568575aarow16_col1\" class=\"data row16 col1\" >0.467266</td> \n",
       "        <td id=\"T_2d20c7c0_b0d7_11ed_94cb_0050568575aarow16_col2\" class=\"data row16 col2\" >3.5781e-07</td> \n",
       "        <td id=\"T_2d20c7c0_b0d7_11ed_94cb_0050568575aarow16_col3\" class=\"data row16 col3\" >0.0949972</td> \n",
       "    </tr>    <tr> \n",
       "        <th id=\"T_2d20c7c0_b0d7_11ed_94cb_0050568575aa\" class=\"row_heading level0 row17\" >17</th> \n",
       "        <td id=\"T_2d20c7c0_b0d7_11ed_94cb_0050568575aarow17_col0\" class=\"data row17 col0\" >25/08/2031</td> \n",
       "        <td id=\"T_2d20c7c0_b0d7_11ed_94cb_0050568575aarow17_col1\" class=\"data row17 col1\" >0.423283</td> \n",
       "        <td id=\"T_2d20c7c0_b0d7_11ed_94cb_0050568575aarow17_col2\" class=\"data row17 col2\" >-2.38244e-07</td> \n",
       "        <td id=\"T_2d20c7c0_b0d7_11ed_94cb_0050568575aarow17_col3\" class=\"data row17 col3\" >0.0954547</td> \n",
       "    </tr>    <tr> \n",
       "        <th id=\"T_2d20c7c0_b0d7_11ed_94cb_0050568575aa\" class=\"row_heading level0 row18\" >18</th> \n",
       "        <td id=\"T_2d20c7c0_b0d7_11ed_94cb_0050568575aarow18_col0\" class=\"data row18 col0\" >25/08/2032</td> \n",
       "        <td id=\"T_2d20c7c0_b0d7_11ed_94cb_0050568575aarow18_col1\" class=\"data row18 col1\" >0.382838</td> \n",
       "        <td id=\"T_2d20c7c0_b0d7_11ed_94cb_0050568575aarow18_col2\" class=\"data row18 col2\" >1.49995e-05</td> \n",
       "        <td id=\"T_2d20c7c0_b0d7_11ed_94cb_0050568575aarow18_col3\" class=\"data row18 col3\" >0.0959256</td> \n",
       "    </tr></tbody> \n",
       "</table> "
      ],
      "text/plain": [
       "<pandas.io.formats.style.Styler at 0x1d0ba6f9550>"
      ]
     },
     "execution_count": 11,
     "metadata": {},
     "output_type": "execute_result"
    }
   ],
   "source": [
    "KeyRateResults.style.format({\"Dates\": lambda t: t.strftime(\"%d/%m/%Y\")})"
   ]
  },
  {
   "cell_type": "code",
   "execution_count": 12,
   "metadata": {},
   "outputs": [
    {
     "data": {
      "text/html": [
       "<style  type=\"text/css\" >\n",
       "</style>  \n",
       "<table id=\"T_2d284210_b0d7_11ed_b8e0_0050568575aa\" > \n",
       "<thead>    <tr> \n",
       "        <th class=\"blank level0\" ></th> \n",
       "        <th class=\"col_heading level0 col0\" >Dates</th> \n",
       "        <th class=\"col_heading level0 col1\" >Discnt</th> \n",
       "        <th class=\"col_heading level0 col2\" >Errors</th> \n",
       "        <th class=\"col_heading level0 col3\" >Rates</th> \n",
       "    </tr></thead> \n",
       "<tbody>    <tr> \n",
       "        <th id=\"T_2d284210_b0d7_11ed_b8e0_0050568575aa\" class=\"row_heading level0 row0\" >0</th> \n",
       "        <td id=\"T_2d284210_b0d7_11ed_b8e0_0050568575aarow0_col0\" class=\"data row0 col0\" >26/08/2022</td> \n",
       "        <td id=\"T_2d284210_b0d7_11ed_b8e0_0050568575aarow0_col1\" class=\"data row0 col1\" >0.99972</td> \n",
       "        <td id=\"T_2d284210_b0d7_11ed_b8e0_0050568575aarow0_col2\" class=\"data row0 col2\" >-6.77149e-14</td> \n",
       "        <td id=\"T_2d284210_b0d7_11ed_b8e0_0050568575aarow0_col3\" class=\"data row0 col3\" >0.0699849</td> \n",
       "    </tr>    <tr> \n",
       "        <th id=\"T_2d284210_b0d7_11ed_b8e0_0050568575aa\" class=\"row_heading level0 row1\" >1</th> \n",
       "        <td id=\"T_2d284210_b0d7_11ed_b8e0_0050568575aarow1_col0\" class=\"data row1 col0\" >01/09/2022</td> \n",
       "        <td id=\"T_2d284210_b0d7_11ed_b8e0_0050568575aarow1_col1\" class=\"data row1 col1\" >0.998572</td> \n",
       "        <td id=\"T_2d284210_b0d7_11ed_b8e0_0050568575aarow1_col2\" class=\"data row1 col2\" >1.75727e-15</td> \n",
       "        <td id=\"T_2d284210_b0d7_11ed_b8e0_0050568575aarow1_col3\" class=\"data row1 col3\" >0.0699542</td> \n",
       "    </tr>    <tr> \n",
       "        <th id=\"T_2d284210_b0d7_11ed_b8e0_0050568575aa\" class=\"row_heading level0 row2\" >2</th> \n",
       "        <td id=\"T_2d284210_b0d7_11ed_b8e0_0050568575aarow2_col0\" class=\"data row2 col0\" >08/09/2022</td> \n",
       "        <td id=\"T_2d284210_b0d7_11ed_b8e0_0050568575aarow2_col1\" class=\"data row2 col1\" >0.997235</td> \n",
       "        <td id=\"T_2d284210_b0d7_11ed_b8e0_0050568575aarow2_col2\" class=\"data row2 col2\" >7.55819e-15</td> \n",
       "        <td id=\"T_2d284210_b0d7_11ed_b8e0_0050568575aarow2_col3\" class=\"data row2 col3\" >0.0699078</td> \n",
       "    </tr>    <tr> \n",
       "        <th id=\"T_2d284210_b0d7_11ed_b8e0_0050568575aa\" class=\"row_heading level0 row3\" >3</th> \n",
       "        <td id=\"T_2d284210_b0d7_11ed_b8e0_0050568575aarow3_col0\" class=\"data row3 col0\" >26/09/2022</td> \n",
       "        <td id=\"T_2d284210_b0d7_11ed_b8e0_0050568575aarow3_col1\" class=\"data row3 col1\" >0.99386</td> \n",
       "        <td id=\"T_2d284210_b0d7_11ed_b8e0_0050568575aarow3_col2\" class=\"data row3 col2\" >-1.87871e-15</td> \n",
       "        <td id=\"T_2d284210_b0d7_11ed_b8e0_0050568575aarow3_col3\" class=\"data row3 col3\" >0.069253</td> \n",
       "    </tr>    <tr> \n",
       "        <th id=\"T_2d284210_b0d7_11ed_b8e0_0050568575aa\" class=\"row_heading level0 row4\" >4</th> \n",
       "        <td id=\"T_2d284210_b0d7_11ed_b8e0_0050568575aarow4_col0\" class=\"data row4 col0\" >25/10/2022</td> \n",
       "        <td id=\"T_2d284210_b0d7_11ed_b8e0_0050568575aarow4_col1\" class=\"data row4 col1\" >0.988591</td> \n",
       "        <td id=\"T_2d284210_b0d7_11ed_b8e0_0050568575aarow4_col2\" class=\"data row4 col2\" >-2.61423e-15</td> \n",
       "        <td id=\"T_2d284210_b0d7_11ed_b8e0_0050568575aarow4_col3\" class=\"data row4 col3\" >0.0681489</td> \n",
       "    </tr>    <tr> \n",
       "        <th id=\"T_2d284210_b0d7_11ed_b8e0_0050568575aa\" class=\"row_heading level0 row5\" >5</th> \n",
       "        <td id=\"T_2d284210_b0d7_11ed_b8e0_0050568575aarow5_col0\" class=\"data row5 col0\" >25/11/2022</td> \n",
       "        <td id=\"T_2d284210_b0d7_11ed_b8e0_0050568575aarow5_col1\" class=\"data row5 col1\" >0.983019</td> \n",
       "        <td id=\"T_2d284210_b0d7_11ed_b8e0_0050568575aarow5_col2\" class=\"data row5 col2\" >-6.05592e-15</td> \n",
       "        <td id=\"T_2d284210_b0d7_11ed_b8e0_0050568575aarow5_col3\" class=\"data row5 col3\" >0.0676119</td> \n",
       "    </tr>    <tr> \n",
       "        <th id=\"T_2d284210_b0d7_11ed_b8e0_0050568575aa\" class=\"row_heading level0 row6\" >6</th> \n",
       "        <td id=\"T_2d284210_b0d7_11ed_b8e0_0050568575aarow6_col0\" class=\"data row6 col0\" >27/02/2023</td> \n",
       "        <td id=\"T_2d284210_b0d7_11ed_b8e0_0050568575aarow6_col1\" class=\"data row6 col1\" >0.966054</td> \n",
       "        <td id=\"T_2d284210_b0d7_11ed_b8e0_0050568575aarow6_col2\" class=\"data row6 col2\" >-1.49013e-15</td> \n",
       "        <td id=\"T_2d284210_b0d7_11ed_b8e0_0050568575aarow6_col3\" class=\"data row6 col3\" >0.067605</td> \n",
       "    </tr>    <tr> \n",
       "        <th id=\"T_2d284210_b0d7_11ed_b8e0_0050568575aa\" class=\"row_heading level0 row7\" >7</th> \n",
       "        <td id=\"T_2d284210_b0d7_11ed_b8e0_0050568575aarow7_col0\" class=\"data row7 col0\" >25/05/2023</td> \n",
       "        <td id=\"T_2d284210_b0d7_11ed_b8e0_0050568575aarow7_col1\" class=\"data row7 col1\" >0.95032</td> \n",
       "        <td id=\"T_2d284210_b0d7_11ed_b8e0_0050568575aarow7_col2\" class=\"data row7 col2\" >-2.10075e-15</td> \n",
       "        <td id=\"T_2d284210_b0d7_11ed_b8e0_0050568575aarow7_col3\" class=\"data row7 col3\" >0.0680148</td> \n",
       "    </tr>    <tr> \n",
       "        <th id=\"T_2d284210_b0d7_11ed_b8e0_0050568575aa\" class=\"row_heading level0 row8\" >8</th> \n",
       "        <td id=\"T_2d284210_b0d7_11ed_b8e0_0050568575aarow8_col0\" class=\"data row8 col0\" >25/08/2023</td> \n",
       "        <td id=\"T_2d284210_b0d7_11ed_b8e0_0050568575aarow8_col1\" class=\"data row8 col1\" >0.933655</td> \n",
       "        <td id=\"T_2d284210_b0d7_11ed_b8e0_0050568575aarow8_col2\" class=\"data row8 col2\" >1.56299e-15</td> \n",
       "        <td id=\"T_2d284210_b0d7_11ed_b8e0_0050568575aarow8_col3\" class=\"data row8 col3\" >0.0685625</td> \n",
       "    </tr>    <tr> \n",
       "        <th id=\"T_2d284210_b0d7_11ed_b8e0_0050568575aa\" class=\"row_heading level0 row9\" >9</th> \n",
       "        <td id=\"T_2d284210_b0d7_11ed_b8e0_0050568575aarow9_col0\" class=\"data row9 col0\" >26/08/2024</td> \n",
       "        <td id=\"T_2d284210_b0d7_11ed_b8e0_0050568575aarow9_col1\" class=\"data row9 col1\" >0.858195</td> \n",
       "        <td id=\"T_2d284210_b0d7_11ed_b8e0_0050568575aarow9_col2\" class=\"data row9 col2\" >-4.55382e-14</td> \n",
       "        <td id=\"T_2d284210_b0d7_11ed_b8e0_0050568575aarow9_col3\" class=\"data row9 col3\" >0.0762052</td> \n",
       "    </tr>    <tr> \n",
       "        <th id=\"T_2d284210_b0d7_11ed_b8e0_0050568575aa\" class=\"row_heading level0 row10\" >10</th> \n",
       "        <td id=\"T_2d284210_b0d7_11ed_b8e0_0050568575aarow10_col0\" class=\"data row10 col0\" >25/08/2025</td> \n",
       "        <td id=\"T_2d284210_b0d7_11ed_b8e0_0050568575aarow10_col1\" class=\"data row10 col1\" >0.789113</td> \n",
       "        <td id=\"T_2d284210_b0d7_11ed_b8e0_0050568575aarow10_col2\" class=\"data row10 col2\" >-1.18482e-15</td> \n",
       "        <td id=\"T_2d284210_b0d7_11ed_b8e0_0050568575aarow10_col3\" class=\"data row10 col3\" >0.0788437</td> \n",
       "    </tr>    <tr> \n",
       "        <th id=\"T_2d284210_b0d7_11ed_b8e0_0050568575aa\" class=\"row_heading level0 row11\" >11</th> \n",
       "        <td id=\"T_2d284210_b0d7_11ed_b8e0_0050568575aarow11_col0\" class=\"data row11 col0\" >25/08/2026</td> \n",
       "        <td id=\"T_2d284210_b0d7_11ed_b8e0_0050568575aarow11_col1\" class=\"data row11 col1\" >0.723983</td> \n",
       "        <td id=\"T_2d284210_b0d7_11ed_b8e0_0050568575aarow11_col2\" class=\"data row11 col2\" >3.71179e-14</td> \n",
       "        <td id=\"T_2d284210_b0d7_11ed_b8e0_0050568575aarow11_col3\" class=\"data row11 col3\" >0.0806663</td> \n",
       "    </tr>    <tr> \n",
       "        <th id=\"T_2d284210_b0d7_11ed_b8e0_0050568575aa\" class=\"row_heading level0 row12\" >12</th> \n",
       "        <td id=\"T_2d284210_b0d7_11ed_b8e0_0050568575aarow12_col0\" class=\"data row12 col0\" >25/08/2027</td> \n",
       "        <td id=\"T_2d284210_b0d7_11ed_b8e0_0050568575aarow12_col1\" class=\"data row12 col1\" >0.663377</td> \n",
       "        <td id=\"T_2d284210_b0d7_11ed_b8e0_0050568575aarow12_col2\" class=\"data row12 col2\" >1.89369e-12</td> \n",
       "        <td id=\"T_2d284210_b0d7_11ed_b8e0_0050568575aarow12_col3\" class=\"data row12 col3\" >0.0820169</td> \n",
       "    </tr>    <tr> \n",
       "        <th id=\"T_2d284210_b0d7_11ed_b8e0_0050568575aa\" class=\"row_heading level0 row13\" >13</th> \n",
       "        <td id=\"T_2d284210_b0d7_11ed_b8e0_0050568575aarow13_col0\" class=\"data row13 col0\" >25/08/2028</td> \n",
       "        <td id=\"T_2d284210_b0d7_11ed_b8e0_0050568575aarow13_col1\" class=\"data row13 col1\" >0.606792</td> \n",
       "        <td id=\"T_2d284210_b0d7_11ed_b8e0_0050568575aarow13_col2\" class=\"data row13 col2\" >-3.17127e-13</td> \n",
       "        <td id=\"T_2d284210_b0d7_11ed_b8e0_0050568575aarow13_col3\" class=\"data row13 col3\" >0.0831681</td> \n",
       "    </tr>    <tr> \n",
       "        <th id=\"T_2d284210_b0d7_11ed_b8e0_0050568575aa\" class=\"row_heading level0 row14\" >14</th> \n",
       "        <td id=\"T_2d284210_b0d7_11ed_b8e0_0050568575aarow14_col0\" class=\"data row14 col0\" >27/08/2029</td> \n",
       "        <td id=\"T_2d284210_b0d7_11ed_b8e0_0050568575aarow14_col1\" class=\"data row14 col1\" >0.555232</td> \n",
       "        <td id=\"T_2d284210_b0d7_11ed_b8e0_0050568575aarow14_col2\" class=\"data row14 col2\" >-5.24363e-12</td> \n",
       "        <td id=\"T_2d284210_b0d7_11ed_b8e0_0050568575aarow14_col3\" class=\"data row14 col3\" >0.0839064</td> \n",
       "    </tr>    <tr> \n",
       "        <th id=\"T_2d284210_b0d7_11ed_b8e0_0050568575aa\" class=\"row_heading level0 row15\" >15</th> \n",
       "        <td id=\"T_2d284210_b0d7_11ed_b8e0_0050568575aarow15_col0\" class=\"data row15 col0\" >26/08/2030</td> \n",
       "        <td id=\"T_2d284210_b0d7_11ed_b8e0_0050568575aarow15_col1\" class=\"data row15 col1\" >0.508435</td> \n",
       "        <td id=\"T_2d284210_b0d7_11ed_b8e0_0050568575aarow15_col2\" class=\"data row15 col2\" >-1.12748e-13</td> \n",
       "        <td id=\"T_2d284210_b0d7_11ed_b8e0_0050568575aarow15_col3\" class=\"data row15 col3\" >0.0844522</td> \n",
       "    </tr>    <tr> \n",
       "        <th id=\"T_2d284210_b0d7_11ed_b8e0_0050568575aa\" class=\"row_heading level0 row16\" >16</th> \n",
       "        <td id=\"T_2d284210_b0d7_11ed_b8e0_0050568575aarow16_col0\" class=\"data row16 col0\" >25/08/2031</td> \n",
       "        <td id=\"T_2d284210_b0d7_11ed_b8e0_0050568575aarow16_col1\" class=\"data row16 col1\" >0.465485</td> \n",
       "        <td id=\"T_2d284210_b0d7_11ed_b8e0_0050568575aarow16_col2\" class=\"data row16 col2\" >-6.06928e-14</td> \n",
       "        <td id=\"T_2d284210_b0d7_11ed_b8e0_0050568575aarow16_col3\" class=\"data row16 col3\" >0.0849003</td> \n",
       "    </tr>    <tr> \n",
       "        <th id=\"T_2d284210_b0d7_11ed_b8e0_0050568575aa\" class=\"row_heading level0 row17\" >17</th> \n",
       "        <td id=\"T_2d284210_b0d7_11ed_b8e0_0050568575aarow17_col0\" class=\"data row17 col0\" >25/08/2032</td> \n",
       "        <td id=\"T_2d284210_b0d7_11ed_b8e0_0050568575aarow17_col1\" class=\"data row17 col1\" >0.425522</td> \n",
       "        <td id=\"T_2d284210_b0d7_11ed_b8e0_0050568575aarow17_col2\" class=\"data row17 col2\" >-4.48105e-12</td> \n",
       "        <td id=\"T_2d284210_b0d7_11ed_b8e0_0050568575aarow17_col3\" class=\"data row17 col3\" >0.085363</td> \n",
       "    </tr></tbody> \n",
       "</table> "
      ],
      "text/plain": [
       "<pandas.io.formats.style.Styler at 0x1d0baa31ba8>"
      ]
     },
     "execution_count": 12,
     "metadata": {},
     "output_type": "execute_result"
    }
   ],
   "source": [
    "RUONIAResults.style.format({\"Dates\": lambda t: t.strftime(\"%d/%m/%Y\")})"
   ]
  },
  {
   "cell_type": "code",
   "execution_count": 13,
   "metadata": {},
   "outputs": [
    {
     "data": {
      "image/png": "[encoded data removed]",
      "text/plain": [
       "<matplotlib.figure.Figure at 0x1d0baa11eb8>"
      ]
     },
     "metadata": {},
     "output_type": "display_data"
    }
   ],
   "source": [
    "fig = plt.figure(figsize=(12, 4));\n",
    "plt.plot(KeyRateResults.Dates, KeyRateResults.Rates, c ='b', label = 'KeyRate');\n",
    "plt.plot(RUONIAResults.Dates, RUONIAResults.Rates, c ='r', label = 'RUONIA');\n",
    "plt.legend()\n",
    "plt.show()\n"
   ]
  },
  {
   "cell_type": "markdown",
   "metadata": {},
   "source": []
  },
  {
   "cell_type": "markdown",
   "metadata": {},
   "source": [
    "# USD_XCCY by Spreads"
   ]
  },
  {
   "cell_type": "code",
   "execution_count": 14,
   "metadata": {},
   "outputs": [
    {
     "data": {
      "text/plain": [
       "'8978674fa8ec07ee59e97fb37324fa07323b0452'"
      ]
     },
     "execution_count": 14,
     "metadata": {},
     "output_type": "execute_result"
    }
   ],
   "source": [
    "#mdsUSDXCCY= ps.get(resultSOFR.MarketId)\n",
    "mdsUSDXCCY= ps.get(mds_id_withRUONIA)\n",
    "mdsUSDXCCY.RatesCurvesBundles.USD_XCCY_Spread  = ps.new_cm()\n",
    "mdsUSDXCCY.RatesCurvesBundles.USD_XCCY_Spread.Identifier = 'USD_XCCY_Spread'\n",
    "mdsUSDXCCY.RatesCurvesBundles.USD_XCCY_Spread.TypeName = 'DiscountFactorCurve'\n",
    "mdsUSDXCCY.RatesCurvesBundles.USD_XCCY_Spread.RatesSchedule = {    \n",
    "     'Rates':[1.0,1.0,1.0],     \n",
    "     'Dates':[price_dt,\tprice_dt + dt.timedelta(days=10),\tprice_dt + dt.timedelta(days=30)]\n",
    "    }\n",
    "mdsUSDXCCY.RatesCurvesBundles.USD_XCCY_Spread.RateQuoteExpression = 'Percentage'\n",
    "mdsUSDXCCY.RatesCurvesBundles.USD_XCCY_Spread.Quotes  = {\n",
    "    'Tickers':['FxFwd:O/N', 'FxFwd:1D', 'FxFwd:1W', 'FxFwd:2W', 'FxFwd:1M', 'FxFwd:2M', 'FxFwd:3M', 'FxFwd:6M', 'FxFwd:9M',\n",
    "                \"OISWF:1Y\",\t\"OISWF:2Y\",\t\"OISWF:3Y\",\t\"OISWF:4Y\",\t\"OISWF:5Y\",\t\"OISWF:6Y\",\t\"OISWF:7Y\",\t\"OISWF:8Y\",\t\"OISWF:9Y\",\t\"OISWF:10Y\", \"OISWF:12Y\", \"OISWF:15Y\"],    \n",
    "    'Values':[150.999999993896,\t390.01721010032,\t909.041095923558,\t1818.08219180946,\t3974.92288741207,\t7508.11011797928,\t11227.8567914607,\t21692.6882474997,\t31566.5488111604,\n",
    "              1.444113275,\t1.995,\t1.216666667,\t1.398333333,\t1.48,\t1.591,\t1.662,\t1.713,\t1.754,\t1.795,\t1.836,\t1.877]\n",
    "    }\n",
    "\n",
    "\n",
    "mdsUSDXCCY.Fixings.USD_XCCY_Spread  = ps.new_cm()\n",
    "mdsUSDXCCY.Fixings.USD_XCCY_Spread.TypeName = 'Fixings'\n",
    "mdsUSDXCCY.Fixings.USD_XCCY_Spread.Identifier = 'USD_XCCY_Spread'\n",
    "mdsUSDXCCY.Fixings.USD_XCCY_Spread.Dates = [toDate('2022/03/09'),toDate('2022/03/10')]\n",
    "mdsUSDXCCY.Fixings.USD_XCCY_Spread.Values = [0.0965,0.0965]\n",
    "\n",
    "\n",
    "newMDS=ps.put(mdsUSDXCCY)\n",
    "newMDS._id"
   ]
  },
  {
   "cell_type": "code",
   "execution_count": 15,
   "metadata": {},
   "outputs": [
    {
     "name": "stderr",
     "output_type": "stream",
     "text": [
      "[INFO] 2023-02-20 07:29:34,530 - Compute:fef66a0b2ebe85fa435e3bfa21374bdbfb0ebc80->d306987669d39f63b9894a4554d49831f98232e0\n"
     ]
    }
   ],
   "source": [
    "calibrateUSDXCCY = ps.new_cm()\n",
    "calibrateUSDXCCY.RequestName = 'CalibrateCurveUsingMarketDataSet'\n",
    "\n",
    "calibrateUSDXCCY.MarketDataSet = newMDS._id\n",
    "calibrateUSDXCCY.StaticDataSet = sds_id\n",
    "calibrateUSDXCCY.Identifier = 'USD_XCCY_Spread'\n",
    "calibrateUSDXCCY.CalibrationUseGlobalSolver = False\n",
    "\n",
    "resultUSDXCCY=ps_utils.compute(calibrateUSDXCCY,algo_id=myAlgoId)"
   ]
  },
  {
   "cell_type": "code",
   "execution_count": 16,
   "metadata": {},
   "outputs": [
    {
     "name": "stderr",
     "output_type": "stream",
     "text": [
      "[INFO] 2023-02-20 07:29:34,600 - Compute:fef66a0b2ebe85fa435e3bfa21374bdbfb0ebc80->d306987669d39f63b9894a4554d49831f98232e0\n"
     ]
    },
    {
     "data": {
      "text/plain": [
       "Dict([('MarketId', '6a86a8c8be1295c11156fd77aa40d9f17468be75'),\n",
       "      ('Dates',\n",
       "       [datetime.datetime(2022, 8, 26, 0, 0, 1, tzinfo=datetime.timezone.utc),\n",
       "        datetime.datetime(2022, 8, 29, 0, 0, tzinfo=datetime.timezone.utc),\n",
       "        datetime.datetime(2022, 9, 2, 0, 0, tzinfo=datetime.timezone.utc),\n",
       "        datetime.datetime(2022, 9, 9, 0, 0, tzinfo=datetime.timezone.utc),\n",
       "        datetime.datetime(2022, 9, 26, 0, 0, tzinfo=datetime.timezone.utc),\n",
       "        datetime.datetime(2022, 10, 26, 0, 0, tzinfo=datetime.timezone.utc),\n",
       "        datetime.datetime(2022, 11, 28, 0, 0, tzinfo=datetime.timezone.utc),\n",
       "        datetime.datetime(2023, 2, 27, 0, 0, tzinfo=datetime.timezone.utc),\n",
       "        datetime.datetime(2023, 5, 26, 0, 0, tzinfo=datetime.timezone.utc),\n",
       "        datetime.datetime(2023, 8, 28, 0, 0, tzinfo=datetime.timezone.utc),\n",
       "        datetime.datetime(2024, 8, 27, 0, 0, tzinfo=datetime.timezone.utc),\n",
       "        datetime.datetime(2025, 8, 26, 0, 0, tzinfo=datetime.timezone.utc),\n",
       "        datetime.datetime(2026, 8, 26, 0, 0, tzinfo=datetime.timezone.utc),\n",
       "        datetime.datetime(2027, 8, 26, 0, 0, tzinfo=datetime.timezone.utc),\n",
       "        datetime.datetime(2028, 8, 28, 0, 0, tzinfo=datetime.timezone.utc),\n",
       "        datetime.datetime(2029, 8, 28, 0, 0, tzinfo=datetime.timezone.utc),\n",
       "        datetime.datetime(2030, 8, 27, 0, 0, tzinfo=datetime.timezone.utc),\n",
       "        datetime.datetime(2031, 8, 26, 0, 0, tzinfo=datetime.timezone.utc),\n",
       "        datetime.datetime(2032, 8, 26, 0, 0, tzinfo=datetime.timezone.utc),\n",
       "        datetime.datetime(2034, 8, 28, 0, 0, tzinfo=datetime.timezone.utc),\n",
       "        datetime.datetime(2037, 8, 26, 0, 0, tzinfo=datetime.timezone.utc)]),\n",
       "      ('DiscountFactors',\n",
       "       [1.000059370193128,\n",
       "        1.0001327160460263,\n",
       "        1.0002284023555597,\n",
       "        1.0003984751155213,\n",
       "        1.0007668103706904,\n",
       "        1.001084942893741,\n",
       "        1.001151256109672,\n",
       "        1.0012354049408465,\n",
       "        1.000346532989468,\n",
       "        0.9129055431754254,\n",
       "        0.8319457922723545,\n",
       "        0.7363264107419597,\n",
       "        0.668372431094738,\n",
       "        0.6045834196879853,\n",
       "        0.5472120180313171,\n",
       "        0.49506722907723955,\n",
       "        0.4472781570458678,\n",
       "        0.40331140228121654,\n",
       "        0.3627771582347812,\n",
       "        0.29319649140835236,\n",
       "        0.2103080243458051]),\n",
       "      ('Rates',\n",
       "       [-0.021669226436218457,\n",
       "        -0.012109535652828404,\n",
       "        -0.010419667579396141,\n",
       "        -0.009694296471311306,\n",
       "        -0.008743079077079632,\n",
       "        -0.006383701460008265,\n",
       "        -0.004420702965547157,\n",
       "        -0.002422819873496078,\n",
       "        -0.00046154244775340966,\n",
       "        0.0903800119650515,\n",
       "        0.09161748668191712,\n",
       "        0.10184124383281493,\n",
       "        0.10058963828233797,\n",
       "        0.10053295102668988,\n",
       "        0.10025759307541338,\n",
       "        0.10024122027385436,\n",
       "        0.10043424417249225,\n",
       "        0.10080197729386359,\n",
       "        0.1012856542612046,\n",
       "        0.10210282275189042,\n",
       "        0.10385062859931796]),\n",
       "      ('CalibrationErrors',\n",
       "       [0.0,\n",
       "        -7.450580596923828e-09,\n",
       "        -7.450580596923828e-09,\n",
       "        0.0,\n",
       "        -4.470348358154297e-08,\n",
       "        -6.183981895446777e-07,\n",
       "        7.450580596923828e-09,\n",
       "        0.0,\n",
       "        -7.450580596923828e-09,\n",
       "        0.0007198601961135864,\n",
       "        4.991888999938965e-07,\n",
       "        0.00030346959829330444,\n",
       "        0.007907673716545105,\n",
       "        3.725290298461914e-07,\n",
       "        1.0445713996887207e-05,\n",
       "        0.00016699358820915222,\n",
       "        0.0017845630645751953,\n",
       "        0.014091234654188156,\n",
       "        3.5762786865234375e-07,\n",
       "        4.78401780128479e-05,\n",
       "        0.014796871691942215]),\n",
       "      ('Instruments', b0e0f2d2d3e1330cfe75d9dbe2de34c4b4c2a30c)])"
      ]
     },
     "execution_count": 16,
     "metadata": {},
     "output_type": "execute_result"
    }
   ],
   "source": [
    "ps_utils.compute(calibrateUSDXCCY,algo_id=myAlgoId)"
   ]
  },
  {
   "cell_type": "code",
   "execution_count": null,
   "metadata": {},
   "outputs": [],
   "source": []
  }
 ],
 "metadata": {
  "interpreter": {
   "hash": "bc874047be1db3cf5e115696b3858ded6e22dd77b8c8a07de26bb66a504a6dde"
  },
  "kernelspec": {
   "display_name": "Python 3.9.7 ('base')",
   "language": "python",
   "name": "python3"
  },
  "language_info": {
   "codemirror_mode": {
    "name": "ipython",
    "version": 3
   },
   "file_extension": ".py",
   "mimetype": "text/x-python",
   "name": "python",
   "nbconvert_exporter": "python",
   "pygments_lexer": "ipython3",
   "version": "3.6.1"
  },
  "orig_nbformat": 4
 },
 "nbformat": 4,
 "nbformat_minor": 2
}
