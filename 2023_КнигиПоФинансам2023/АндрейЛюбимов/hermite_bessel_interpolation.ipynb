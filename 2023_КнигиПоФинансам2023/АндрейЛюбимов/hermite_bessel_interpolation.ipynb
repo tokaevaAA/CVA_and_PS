{
 "cells": [
  {
   "cell_type": "code",
   "execution_count": 44,
   "metadata": {},
   "outputs": [
    {
     "name": "stderr",
     "output_type": "stream",
     "text": [
      "[INFO] 2023-08-31 17:51:31,870 - Nothing to do: current environment is already dev\n"
     ]
    },
    {
     "data": {
      "text/plain": [
       "datetime.date(2023, 8, 17)"
      ]
     },
     "execution_count": 44,
     "metadata": {},
     "output_type": "execute_result"
    }
   ],
   "source": [
    "import ps\n",
    "import ps_utils\n",
    "import datetime as dt\n",
    "import pandas as pd\n",
    "import numpy as np\n",
    "import bisect\n",
    "\n",
    "ps_utils.switch_to_dev()\n",
    "pricing_date = dt.date(2023, 8, 17)\n",
    "pricing_date"
   ]
  },
  {
   "cell_type": "code",
   "execution_count": 45,
   "metadata": {},
   "outputs": [
    {
     "data": {
      "text/html": [
       "<div>\n",
       "<style scoped>\n",
       "    .dataframe tbody tr th:only-of-type {\n",
       "        vertical-align: middle;\n",
       "    }\n",
       "\n",
       "    .dataframe tbody tr th {\n",
       "        vertical-align: top;\n",
       "    }\n",
       "\n",
       "    .dataframe thead th {\n",
       "        text-align: right;\n",
       "    }\n",
       "</style>\n",
       "<table border=\"1\" class=\"dataframe\">\n",
       "  <thead>\n",
       "    <tr style=\"text-align: right;\">\n",
       "      <th></th>\n",
       "      <th>0</th>\n",
       "      <th>1</th>\n",
       "      <th>2</th>\n",
       "      <th>3</th>\n",
       "      <th>4</th>\n",
       "      <th>5</th>\n",
       "      <th>6</th>\n",
       "      <th>7</th>\n",
       "      <th>8</th>\n",
       "      <th>9</th>\n",
       "      <th>10</th>\n",
       "      <th>11</th>\n",
       "      <th>12</th>\n",
       "      <th>13</th>\n",
       "      <th>14</th>\n",
       "      <th>15</th>\n",
       "      <th>16</th>\n",
       "      <th>17</th>\n",
       "      <th>18</th>\n",
       "      <th>19</th>\n",
       "    </tr>\n",
       "  </thead>\n",
       "  <tbody>\n",
       "    <tr>\n",
       "      <th>0</th>\n",
       "      <td>0.003</td>\n",
       "      <td>0.022</td>\n",
       "      <td>0.041</td>\n",
       "      <td>0.088</td>\n",
       "      <td>0.170</td>\n",
       "      <td>0.260</td>\n",
       "      <td>0.510</td>\n",
       "      <td>0.759</td>\n",
       "      <td>1.008</td>\n",
       "      <td>2.005</td>\n",
       "      <td>3.005</td>\n",
       "      <td>4.005</td>\n",
       "      <td>5.008</td>\n",
       "      <td>6.014</td>\n",
       "      <td>7.011</td>\n",
       "      <td>8.008</td>\n",
       "      <td>9.011</td>\n",
       "      <td>10.011</td>\n",
       "      <td>12.016</td>\n",
       "      <td>15.014</td>\n",
       "    </tr>\n",
       "    <tr>\n",
       "      <th>1</th>\n",
       "      <td>11.768</td>\n",
       "      <td>11.959</td>\n",
       "      <td>11.959</td>\n",
       "      <td>11.934</td>\n",
       "      <td>11.879</td>\n",
       "      <td>11.603</td>\n",
       "      <td>11.137</td>\n",
       "      <td>10.874</td>\n",
       "      <td>10.741</td>\n",
       "      <td>10.505</td>\n",
       "      <td>10.391</td>\n",
       "      <td>10.339</td>\n",
       "      <td>10.297</td>\n",
       "      <td>10.252</td>\n",
       "      <td>10.221</td>\n",
       "      <td>10.190</td>\n",
       "      <td>10.174</td>\n",
       "      <td>10.164</td>\n",
       "      <td>10.136</td>\n",
       "      <td>10.193</td>\n",
       "    </tr>\n",
       "  </tbody>\n",
       "</table>\n",
       "</div>"
      ],
      "text/plain": [
       "       0       1       2       3       4       5       6       7       8   \\\n",
       "0   0.003   0.022   0.041   0.088   0.170   0.260   0.510   0.759   1.008   \n",
       "1  11.768  11.959  11.959  11.934  11.879  11.603  11.137  10.874  10.741   \n",
       "\n",
       "       9       10      11      12      13      14      15      16      17  \\\n",
       "0   2.005   3.005   4.005   5.008   6.014   7.011   8.008   9.011  10.011   \n",
       "1  10.505  10.391  10.339  10.297  10.252  10.221  10.190  10.174  10.164   \n",
       "\n",
       "       18      19  \n",
       "0  12.016  15.014  \n",
       "1  10.136  10.193  "
      ]
     },
     "execution_count": 45,
     "metadata": {},
     "output_type": "execute_result"
    }
   ],
   "source": [
    "mds = ps_utils.get_mds(pricing_date)\n",
    "m_x = [(x.date()-pricing_date).days/365. for x in mds.RatesCurvesBundles.RUB_RUONIA_OIS.RatesSchedule.Dates]\n",
    "m_y = [y for y in mds.RatesCurvesBundles.RUB_RUONIA_OIS.RatesSchedule.Rates]\n",
    "pd.reset_option('display.float_format')\n",
    "pd.set_option(\"display.precision\", 3)\n",
    "pd.DataFrame([m_x, m_y])"
   ]
  },
  {
   "cell_type": "code",
   "execution_count": 46,
   "metadata": {},
   "outputs": [],
   "source": [
    "def cubic_hermite(x, m_x, m_y, deriv_method = 'Bessel', left_extrap = 'Flat', right_extrap = 'Flat'):\n",
    "    # only flat extrapolation at this stage\n",
    "    if x <= m_x[0]:\n",
    "        if left_extrap == 'Flat':\n",
    "            return m_y[0]\n",
    "        else:\n",
    "            raise ValueError('left extrapolation type '+left_extrap+' is not supported')\n",
    "    elif x >= m_x[-1]:\n",
    "        if right_extrap == 'Flat':\n",
    "            return m_y[-1]\n",
    "        else:\n",
    "            raise ValueError('right extrapolation type '+right_extrap+' is not supported')        \n",
    "    # get the index of the previous point\n",
    "    i = bisect.bisect_right(m_x, x)-1\n",
    "    x0 = m_x[i]\n",
    "    x1 = m_x[i+1]\n",
    "    y0 = m_y[i]\n",
    "    y1 = m_y[i+1]\n",
    "    tan = (y1-y0)/(x1-x0)\n",
    "    # === here we set derivatives in the pillars according to Bessel method\n",
    "    # === there can be other approaches as well\n",
    "    if deriv_method == 'Bessel':\n",
    "        # get left derivative\n",
    "        if i == 0:\n",
    "            z0 = tan\n",
    "        else:\n",
    "            tan_prev = (y0-m_y[i-1])/(x0-m_x[i-1])\n",
    "            z0 = ((x0-m_x[i-1])*tan+(x1-x0)*tan_prev)/(x1-m_x[i-1])\n",
    "        # get right derivative\n",
    "        if i == len(m_x) -2:\n",
    "            z1 = tan\n",
    "        else:\n",
    "            tan_next = (m_y[i+2]-y1)/(m_x[i+2]-x1)\n",
    "            z1 = ((m_x[i+2]-x1)*tan+(x1-x0)*tan_next)/(m_x[i+2]-x0)\n",
    "    else:\n",
    "        raise ValueError('method '+deriv_method+' is not supported') \n",
    "    # yf coefficients\n",
    "    t = (x-x0)/(x1-x0)\n",
    "    t3 = t**3.\n",
    "    t2 = t**2.\n",
    "    h00 = 2.*t3 - 3.*t2 + 1.\n",
    "    h10 = t3 - 2.*t2 + t\n",
    "    h01 = -2.*t3 + 3.*t2\n",
    "    h11 = t3 - t2\n",
    "    # calculate\n",
    "    return h00*y0 + h10*z0*(x1-x0) + h01*y1 + h11*z1*(x1-x0)"
   ]
  },
  {
   "cell_type": "markdown",
   "metadata": {},
   "source": [
    "## Test versus Murex"
   ]
  },
  {
   "cell_type": "code",
   "execution_count": 47,
   "metadata": {
    "scrolled": true
   },
   "outputs": [],
   "source": [
    "# murex_rates_pd = pd.read_csv('hermite_rates_170823.csv')\n",
    "# murex_rates = ps.put(ps.new_cm({'yf': murex_rates_pd['yf'].to_list(),'rates':murex_rates_pd['rates'].to_list()}))\n",
    "murex_rates = ps.get('8e03418ffcb3d51a3951e60c2414a3e8fa7dc8fc')"
   ]
  },
  {
   "cell_type": "code",
   "execution_count": 49,
   "metadata": {},
   "outputs": [],
   "source": [
    "recalc_rates = []\n",
    "for yf in murex_rates['yf']:\n",
    "    recalc_rates += [cubic_hermite(yf,m_x, m_y, deriv_method = 'Bessel')]"
   ]
  },
  {
   "cell_type": "code",
   "execution_count": 50,
   "metadata": {},
   "outputs": [
    {
     "data": {
      "text/plain": [
       "(-3.47455397786689e-12, 1.0835776720341528e-13)"
      ]
     },
     "execution_count": 50,
     "metadata": {},
     "output_type": "execute_result"
    }
   ],
   "source": [
    "result = pd.DataFrame(index=murex_rates['yf'])\n",
    "result['mx_rates'] = murex_rates['rates']\n",
    "result['recalc_rates']=recalc_rates\n",
    "result['diff'] = result['recalc_rates']-result['mx_rates']\n",
    "(result['diff'].min(),result['diff'].max())"
   ]
  }
 ],
 "metadata": {
  "kernelspec": {
   "display_name": "Python 3 (ipykernel)",
   "language": "python",
   "name": "python3"
  },
  "language_info": {
   "codemirror_mode": {
    "name": "ipython",
    "version": 3
   },
   "file_extension": ".py",
   "mimetype": "text/x-python",
   "name": "python",
   "nbconvert_exporter": "python",
   "pygments_lexer": "ipython3",
   "version": "3.10.5"
  }
 },
 "nbformat": 4,
 "nbformat_minor": 2
}
