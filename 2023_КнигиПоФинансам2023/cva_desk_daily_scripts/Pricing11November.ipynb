{
 "cells": [
  {
   "cell_type": "code",
   "execution_count": 25,
   "metadata": {},
   "outputs": [
    {
     "name": "stderr",
     "output_type": "stream",
     "text": [
      "[INFO] 2023-11-09 12:22:38,558 - Your ps_utils version is 23.1.1, it is up to date\n",
      "[WARNING] 2023-11-09 12:22:38,562 - You do not have xbbg installed, some functionality will not be available\n",
      "[INFO] 2023-11-09 12:22:41,487 - Nothing to do: current environment is already dev\n"
     ]
    },
    {
     "name": "stdout",
     "output_type": "stream",
     "text": [
      "4378aad7661ecd69fcd1b35066a0aa8da52739a5\n",
      "/Users/19865272/Documents/ПрограммыПитон/gitrepositoriesMAC_strat/strat/src/ps_utils/__init__.py\n",
      "http://tkles-dealm0004.vm.esrt.cloud.sbrf.ru\n"
     ]
    }
   ],
   "source": [
    "import ps\n",
    "import ps_utils\n",
    "import numpy as np\n",
    "import pandas as pd\n",
    "import datetime\n",
    "#ps_utils.switch_to_prod_pvlss()\n",
    "#ps_utils.switch_to_prod_sigma()\n",
    "ps_utils.switch_to_dev()\n",
    "#ps_utils.switch_to_psi()\n",
    "import matplotlib.pyplot as plt\n",
    "#ps_utils.switch_to_psi()\n",
    "dupire_model='DupireLocalVolatilityModel'\n",
    "no_skew_model = 'HybridLGM1FDupireLocalVolatilityModel'\n",
    "skew_model = 'HybridCheyette1FactorLocalVolatilityModel'\n",
    "tarn_model = 'Cheyette1FactorModelMC'\n",
    "mc_model = 'HybridCheyette1FactorMCLocalVolatilityModel'\n",
    "an_model = 'HybridCheyette1FactorANLocalVolatilityModel'\n",
    "\n",
    "float_formatter = \"{:.2f}\".format\n",
    "np.set_printoptions(formatter={'float_kind':float_formatter})\n",
    "\n",
    "print(ps_utils.global_algo_id())\n",
    "\n",
    "print(ps_utils.__file__)\n",
    "print(ps_utils.get_env_url('psi'))\n",
    "\n",
    "# tek=ps_utils.pricing.XVA(ps.get('545ed88abf05761382a40cf175c503f700d8bd59'))\n",
    "# prev=ps_utils.pricing.XVA(ps.get('5794aa54598727d3b90024f981d88ce272d29054'))\n",
    "# ps_utils.run_generic_revaluation_based_metric_change_explain(['BCVA'],'USD',tek, prev)\n",
    "\n",
    "# lambd=(100+319)/10000/(1-0.25)\n",
    "# #lambd=np.log((1-0.25)/(1-0.25-(100+1655)/10000))\n",
    "# #N=45.4*1e6/r.Model.MarketDataSet.Spots['USDRUB']\n",
    "# N1=sum(r.Product.NettingSets[0].MarginSets[0].Products[0].RollingPremiums)/r.Model.MarketDataSet.Spots['USDRUB']\n",
    "# N2=(sum(r.Product.NettingSets[0].MarginSets[0].Products[0].RollingPremiums) +221000)/r.Model.MarketDataSet.Spots['USDRUB']\n",
    "# print(\"N1=\",N1,\"N2=\",N2)\n",
    "# T1=(datetime.datetime(2023,7,28)-datetime.datetime.now()).days/365\n",
    "# T2=(datetime.datetime(2023,10,30)-datetime.datetime.now()).days/365\n",
    "# (1-0.25)*(N2*(1-np.exp(-lambd*T2))- N1*(1-np.exp(-lambd*T1)))"
   ]
  },
  {
   "cell_type": "code",
   "execution_count": 26,
   "metadata": {},
   "outputs": [],
   "source": [
    "def get_bcva_df(a):\n",
    "    print('PV=',a['ProductValue'])\n",
    "    cva_vals=[]\n",
    "    cva_mas1=[]\n",
    "    cva_mas2=[]\n",
    "    dva_vals=[]\n",
    "    dva_mas1=[]\n",
    "    dva_mas2=[]\n",
    "    for el in a:\n",
    "        if el.startswith('CVA'):\n",
    "            if type(a[el])!=ps.message.Dict:\n",
    "                cva_mas1.append(el[1:])\n",
    "                cva_mas2.append(el[1:])\n",
    "                cva_vals.append(a[el])\n",
    "            if type(a[el])==ps.message.Dict:\n",
    "                for k in a[el]:\n",
    "                    cva_mas1.append(el[4:])\n",
    "                    cva_mas2.append(k)\n",
    "                    if (el.endswith('Exposure')):\n",
    "                        cva_vals.append(a[el][k])\n",
    "                    elif (el.endswith('CreditDelta') or el.endswith('Rho') or el.endswith('RatesVega')):\n",
    "                        cva_vals.append(a[el][k]/10000)\n",
    "                    elif (el.endswith('ExchangeVega')):\n",
    "                        cva_vals.append(a[el][k]/100)\n",
    "                    else:\n",
    "                        print('Unexpected item:',el)\n",
    "                        #cva_vals.append(a[el][k])\n",
    "        elif el.startswith('DVA'):\n",
    "            if type(a[el])!=ps.message.Dict:\n",
    "                dva_mas1.append(el[1:])\n",
    "                dva_mas2.append(el[1:])\n",
    "                dva_vals.append(a[el])\n",
    "            if type(a[el])==ps.message.Dict:\n",
    "                for k in a[el]:\n",
    "                    dva_mas1.append(el[4:])\n",
    "                    dva_mas2.append(k)\n",
    "                    if (el.endswith('Exposure')):\n",
    "                        dva_vals.append(a[el][k])\n",
    "                    elif (el.endswith('CreditDelta') or el.endswith('Rho') or el.endswith('RatesVega')):\n",
    "                        dva_vals.append(a[el][k]/10000)\n",
    "                    elif (el.endswith('ExchangeVega')):\n",
    "                        dva_vals.append(a[el][k]/100)\n",
    "                    else:\n",
    "                        print('Unexpected item:',el)\n",
    "                        #dva_vals.append(a[el][k])\n",
    "        else:\n",
    "            print('Unexpected item:',el)\n",
    "                        \n",
    "    cva_arrays = [np.array(cva_mas1),np.array(cva_mas2)]\n",
    "    cva_df=pd.DataFrame(cva_vals, index=cva_arrays)\n",
    "    dva_arrays = [np.array(dva_mas1),np.array(dva_mas2)]\n",
    "    dva_df=pd.DataFrame(dva_vals, index=dva_arrays)\n",
    "   \n",
    "    vals=np.zeros(len(cva_df.values)*3).reshape(-1,3)\n",
    "    vals[:,0]=cva_df.values.flatten()\n",
    "    vals[:,1]=dva_df.values.flatten()\n",
    "    vals[:,2]=(cva_df.values+dva_df.values).flatten()\n",
    "    \n",
    "    \n",
    "    otv=pd.DataFrame(vals, index=cva_df.index)\n",
    "    otv=otv.rename(columns={0:'CVA',1:'DVA',2:'BCVA'})\n",
    "    return otv\n",
    "\n",
    "\n",
    "def get_pv_df(a):\n",
    "    print('PV=',a['ProductValue'])\n",
    "    pv_vals=[]\n",
    "    pv_mas1=[]\n",
    "    pv_mas2=[]\n",
    "    for el in a:\n",
    "        if type(a[el])!=ps.message.Dict and el not in ['StandardError','ReportingCurrency','CashToSettleToday','BCVA']:\n",
    "            print(el)\n",
    "            pv_mas1.append(el[1:])\n",
    "            pv_mas2.append(el[1:])\n",
    "            pv_vals.append(a[el])\n",
    "        if type(a[el])==ps.message.Dict:\n",
    "            for k in a[el]:\n",
    "                pv_mas1.append(el[4:])\n",
    "                pv_mas2.append(k)\n",
    "                if (el.endswith('Exposure')):\n",
    "                    pv_vals.append(a[el][k])\n",
    "                elif (el.endswith('CreditDelta') or el.endswith('Rho') or el.endswith('RatesVega')):\n",
    "                    pv_vals.append(a[el][k]/10000)\n",
    "                elif (el.endswith('ExchangeVega')):\n",
    "                    pv_vals.append(a[el][k]/100)\n",
    "                else:\n",
    "                    print('Unexpected item:',el)\n",
    "                    \n",
    "    \n",
    "    pv_arrays = [np.array(pv_mas1),np.array(pv_mas2)]\n",
    "    pv_df=pd.DataFrame(pv_vals, index=pv_arrays)\n",
    "  \n",
    "    \n",
    "    vals=np.zeros(len(pv_df.values)*1).reshape(-1,1)\n",
    "    vals[:,0]=pv_df.values.flatten()\n",
    "   \n",
    "    otv=pd.DataFrame(vals, index=pv_df.index)\n",
    "    otv=otv.rename(columns={0:'PV'})\n",
    "    return otv\n",
    "\n",
    "def get_tenored_dv01(r,ircurvename,algo_id,use_aad=True, use_bump=False, use_bump_updown=False,\n",
    "                     only_pv_greeks=False, is_batch=False):\n",
    "    if ircurvename not in ['RUB_KEY_RATE','RUB_RUONIA_OIS']:\n",
    "            raise Exception(\"Only RUB_KEY_RATE and RUB_RUONIA_OIS DV01 are supported\")\n",
    "    r=ps.get(r) \n",
    "    if not is_batch:\n",
    "        if r.Model.TypeName in ['Cheyette1FactorModelMC','HybridCheyette1FactorMCLocalVolatilityModel']:\n",
    "            if 'NettingSets' in r.Product:\n",
    "                r.Product=r.Product.NettingSets[0].MarginSets[0].Products[0]\n",
    "            r.Model.LocalVolatilityMinimum=1e-13\n",
    "            r.Model.CalibrationFrequencyInDays=30\n",
    "            r.Model.LocalVolNumberOfTimeStepsPerYear=250\n",
    "            r.Model.MonteCarloMaxStepInHours=24\n",
    "        if use_aad:\n",
    "            r.Queries=[\"Rho\",'CVA_Rho','DVA_Rho']\n",
    "        if only_pv_greeks:\n",
    "            r.Queries.remove('CVA_Rho')\n",
    "            r.Queries.remove('DVA_Rho')\n",
    "        if use_bump:\n",
    "            r.Queries.append('RhoBump')\n",
    "        if use_bump_updown:\n",
    "            r.Queries.append('RhoBumpUpDown')\n",
    "        z=ps_utils.compute(ps.put(r),algo_id=algo_id)\n",
    "        dates=list(map(lambda x: x.date(),r.Model.MarketDataSet.RatesCurvesBundles[ircurvename].RatesSchedule.Dates))\n",
    "        tenors=list(map(lambda x: (x-datetime.datetime.now().date()).days/365, dates))\n",
    "        column_names=['Dates','Tenors']\n",
    "        mas_of_column_values=[dates,tenors]\n",
    "        if 'Rho' in z:\n",
    "            column_names.append('PV_Rho')\n",
    "            mas_of_column_values.append(np.array(z['Rho'][ircurvename])/10000)\n",
    "        if 'RhoBump' in z:\n",
    "            column_names.append('PV_RhoBump')\n",
    "            mas_of_column_values.append(np.array(z['RhoBump'][ircurvename])/10000)\n",
    "        if 'RhoBumpUpDown' in z:\n",
    "            column_names.append('PV_RhoBumpUpDown')\n",
    "            mas_of_column_values.append(np.array(z['RhoBumpUpDown'][ircurvename])/10000)\n",
    "        if 'CVA_Rho' in z:\n",
    "            column_names.append('CVA_Rho')\n",
    "            mas_of_column_values.append(np.array(z['CVA_Rho'][ircurvename])/10000)\n",
    "        if 'DVA_Rho' in z:\n",
    "            column_names.append('DVA_Rho')\n",
    "            mas_of_column_values.append(np.array(z['DVA_Rho'][ircurvename])/10000)\n",
    "        if 'CVA_Rho' in z and 'DVA_Rho' in z:\n",
    "            column_names.append('BCVA_Rho')\n",
    "            mas_of_column_values.append(np.array(z['CVA_Rho'][ircurvename])/10000 + np.array(z['DVA_Rho'][ircurvename])/10000  )\n",
    "\n",
    "    else: #это батч - считаем для PV,CVA,DVA,BCVA\n",
    "        for el in r:\n",
    "            el.Queries=[\"Rho\",'CVA_Rho','DVA_Rho']\n",
    "        r=ps.get(ps.put(r))\n",
    "        z=ps.make_result_id(algo_id, r._id)\n",
    "        try:\n",
    "            ps_utils.compute(ps.put(r),algo_id=algo_id)\n",
    "        except:\n",
    "            print(\"Batch has some failed cpties\")\n",
    "        dates=list(map(lambda x: x.date(),r[0].Model.MarketDataSet.RatesCurvesBundles[ircurvename].RatesSchedule.Dates))\n",
    "        tenors=list(map(lambda x: (x-datetime.datetime.now().date()).days/365, dates))\n",
    "        column_names=['Dates','Tenors','PV_Rho','CVA_Rho','DVA_Rho','BCVA_Rho']\n",
    "        mas_of_column_values=[dates,tenors]\n",
    "        mas_pv_dv01=np.zeros(len(dates))\n",
    "        mas_cva_dv01=np.zeros(len(dates))\n",
    "        mas_dva_dv01=np.zeros(len(dates))\n",
    "        mas_bcva_dv01=np.zeros(len(dates))\n",
    "        for el in ps.get(z).Result:\n",
    "            try:\n",
    "                s=el.StatusText\n",
    "            except:\n",
    "                s=None\n",
    "            if s=='done':\n",
    "                mas_pv_dv01+=np.array(el.Result['Rho'][ircurvename])/10000\n",
    "                try:\n",
    "                    mas_cva_dv01+=np.array(el.Result['CVA_Rho'][ircurvename])/10000\n",
    "                    mas_dva_dv01+=np.array(el.Result['DVA_Rho'][ircurvename])/10000\n",
    "                    mas_bcva_dv01+=(np.array(el.Result['CVA_Rho'][ircurvename])/10000+np.array(el.Result['DVA_Rho'][ircurvename])/10000)\n",
    "                except:\n",
    "                    pass\n",
    "        mas_of_column_values.append(mas_pv_dv01)\n",
    "        mas_of_column_values.append(mas_cva_dv01)\n",
    "        mas_of_column_values.append(mas_dva_dv01)\n",
    "        mas_of_column_values.append(mas_bcva_dv01)\n",
    "    df=pd.DataFrame({a:b for (a,b) in zip(column_names, mas_of_column_values)})\n",
    "    totals=['Total','Total']\n",
    "    totals+=list(map(lambda x: sum(x), [df[col_name] for col_name in df.columns[2:]]))\n",
    "    df=df.append({a:b for (a,b) in zip(df.columns, totals)},ignore_index=True)\n",
    "    return df\n",
    "\n",
    "\n",
    "def get_tenored_vega(r,ircurvename, algo_id, use_aad=True, use_bump=False, use_bump_updown=False,\n",
    "                     only_pv_greeks=False, is_batch=False):\n",
    "    if ircurvename not in ['RUB_KEY_RATE','RUB_RUONIA_OIS']:\n",
    "            raise Exception(\"Only RUB_KEY_RATE and RUB_RUONIA_OIS Vega are supported\")\n",
    "    r=ps.get(r) \n",
    "    if not is_batch:\n",
    "        if r.Model.TypeName in ['Cheyette1FactorModelMC','HybridCheyette1FactorMCLocalVolatilityModel']:\n",
    "            if 'NettingSets' in r.Product:\n",
    "                r.Product=r.Product.NettingSets[0].MarginSets[0].Products[0]\n",
    "            r.Model.LocalVolatilityMinimum=1e-13\n",
    "            r.Model.CalibrationFrequencyInDays=30\n",
    "            r.Model.LocalVolNumberOfTimeStepsPerYear=250\n",
    "            r.Model.MonteCarloMaxStepInHours=24\n",
    "        if use_aad:\n",
    "            r.Queries=[\"InterestRatesVega\",'CVA_InterestRatesVega','DVA_InterestRatesVega']\n",
    "        if only_pv_greeks:\n",
    "            r.Queries.remove('CVA_InterestRatesVega')\n",
    "            r.Queries.remove('DVA_InterestRatesVega')\n",
    "        if use_bump:\n",
    "            r.Queries.append('VegaBump')\n",
    "        if use_bump_updown:\n",
    "            r.Queries.append('VegaBumpUpDown')\n",
    "        z=ps_utils.compute(ps.put(r),algo_id=algo_id)\n",
    "        tenors=r.Model.MarketDataSet.VolatilitySurfaces[ircurvename].Tenors\n",
    "        column_names=['Tenors']\n",
    "        mas_of_column_values=[tenors]\n",
    "        if 'InterestRatesVega' in z:\n",
    "            column_names.append('PV_Vega')\n",
    "            mas_of_column_values.append(np.array(z['InterestRatesVega'][ircurvename]).flatten().reshape(len(tenors),-1).sum(axis=1)/10000)\n",
    "        if 'VegaBump' in z:\n",
    "            column_names.append('PV_VegaBump')\n",
    "            mas_of_column_values.append(np.array(z['VegaBump'][ircurvename]).flatten().reshape(len(tenors),-1).sum(axis=1)/10000)\n",
    "        if 'VegaBumpUpDown' in z:\n",
    "            column_names.append('PV_VegaBumpUpDown')\n",
    "            mas_of_column_values.append(np.array(z['VegaBumpUpDown'][ircurvename]).flatten().reshape(len(tenors),-1).sum(axis=1)/10000)\n",
    "        if 'CVA_InterestRatesVega' in z:\n",
    "            column_names.append('CVA_Vega')\n",
    "            mas_of_column_values.append(np.array(z['CVA_InterestRatesVega'][ircurvename]).flatten().reshape(len(tenors),-1).sum(axis=1)/10000)\n",
    "        if 'DVA_InterestRatesVega' in z:\n",
    "            column_names.append('DVA_Vega')\n",
    "            mas_of_column_values.append(np.array(z['DVA_InterestRatesVega'][ircurvename]).flatten().reshape(len(tenors),-1).sum(axis=1)/10000)\n",
    "        if 'CVA_InterestRatesVega' in z and 'DVA_InterestRatesVega' in z:\n",
    "            column_names.append('BCVA_Vega')\n",
    "            mas_of_column_values.append(np.array(z['CVA_InterestRatesVega'][ircurvename]).flatten().reshape(len(tenors),-1).sum(axis=1)/10000 \\\n",
    "                                        + np.array(z['DVA_InterestRatesVega'][ircurvename]).flatten().reshape(len(tenors),-1).sum(axis=1)/10000  )\n",
    "    else: #это батч - считаем для PV,CVA,DVA,BCVA\n",
    "        for el in r:\n",
    "            el.Queries=[\"InterestRatesVega\",'CVA_InterestRatesVega','DVA_InterestRatesVega']\n",
    "        r=ps.get(ps.put(r))\n",
    "        z=ps.make_result_id(algo_id, r._id)\n",
    "        try:\n",
    "            ps_utils.compute(ps.put(r),algo_id=algo_id)\n",
    "        except:\n",
    "            print(\"Batch has some failed cpties\")\n",
    "        tenors=r[0].Model.MarketDataSet.VolatilitySurfaces[ircurvename].Tenors\n",
    "        column_names=['Tenors','PV_InterestRatesVega','CVA_InterestRatesVega','DVA_InterestRatesVega','BCVA_InterestRatesVega']\n",
    "        mas_of_column_values=[tenors]\n",
    "        mas_pv_vega=np.zeros(len(tenors))\n",
    "        mas_cva_vega=np.zeros(len(tenors))\n",
    "        mas_dva_vega=np.zeros(len(tenors))\n",
    "        mas_bcva_vega=np.zeros(len(tenors))\n",
    "        for el in ps.get(z).Result:\n",
    "            try:\n",
    "                s=el.StatusText\n",
    "            except:\n",
    "                s=None\n",
    "            if s=='done':\n",
    "                mas_pv_vega+=np.array(el.Result['InterestRatesVega'][ircurvename]).flatten().reshape(len(tenors),-1).sum(axis=1)/10000\n",
    "                try:\n",
    "                    mas_cva_vega+=np.array(el.Result['CVA_InterestRatesVega'][ircurvename]).flatten().reshape(len(tenors),-1).sum(axis=1)/10000\n",
    "                    mas_dva_vega+=np.array(el.Result['DVA_InterestRatesVega'][ircurvename]).flatten().reshape(len(tenors),-1).sum(axis=1)/10000\n",
    "                    mas_bcva_vega+=np.array(el.Result['CVA_InterestRatesVega'][ircurvename]).flatten().reshape(len(tenors),-1).sum(axis=1)/10000\n",
    "                    mas_bcva_vega+=np.array(el.Result['DVA_InterestRatesVega'][ircurvename]).flatten().reshape(len(tenors),-1).sum(axis=1)/10000\n",
    "                \n",
    "                except:\n",
    "                    pass\n",
    "        mas_of_column_values.append(mas_pv_vega)\n",
    "        mas_of_column_values.append(mas_cva_vega)\n",
    "        mas_of_column_values.append(mas_dva_vega)\n",
    "        mas_of_column_values.append(mas_bcva_vega)\n",
    "    \n",
    "    df=pd.DataFrame({a:b for (a,b) in zip(column_names, mas_of_column_values)})\n",
    "    totals=['Total']\n",
    "    totals+=list(map(lambda x: sum(x), [df[col_name] for col_name in df.columns[1:]]))\n",
    "    df=df.append({a:b for (a,b) in zip(df.columns, totals)},ignore_index=True)\n",
    "    return df\n",
    "    \n",
    "    \n",
    "def get_matrix_vega(r,ircurvename, metric_name, algo_id, is_batch=False):\n",
    "    if ircurvename not in ['RUB_KEY_RATE','RUB_RUONIA_OIS']:\n",
    "            raise Exception(\"Only RUB_KEY_RATE and RUB_RUONIA_OIS DV01 are supported\")\n",
    "    r=ps.get(r) \n",
    "    metric_name+='_InterestRatesVega'\n",
    "    if metric_name=='PV_InterestRatesVega':\n",
    "        metric_name='InterestRatesVega'\n",
    "    if not is_batch:\n",
    "        raise Exeption('Only bucketed requsets are supported!')\n",
    "    else:\n",
    "        for el in r:\n",
    "                el.Queries=['InterestRatesVega','CVA_InterestRatesVega','DVA_InterestRatesVega']\n",
    "        r=ps.get(ps.put(r))\n",
    "        z=ps.make_result_id(algo_id, r._id)\n",
    "        try:\n",
    "            ps_utils.compute(ps.put(r),algo_id=algo_id)\n",
    "        except:\n",
    "            print(\"Batch has some failed cpties\")\n",
    "        tenors=r[0].Model.MarketDataSet.VolatilitySurfaces[ircurvename].Tenors\n",
    "        strikes=r[0].Model.MarketDataSet.VolatilitySurfaces[ircurvename].Strikes\n",
    "        column_names=['Tenors']+[el for el in strikes]\n",
    "        mas_of_column_values=[tenors]\n",
    "        matrix=np.zeros(len(tenors)*len(strikes)).reshape(len(tenors),-1)\n",
    "        for el in ps.get(z).Result:\n",
    "            try:\n",
    "                s=el.StatusText\n",
    "            except:\n",
    "                s=None\n",
    "            if s=='done':\n",
    "                try:\n",
    "                    matrix+=np.array(el.Result[metric_name][ircurvename]).flatten().reshape(len(tenors),-1)/10000\n",
    "                except:\n",
    "                    if metric_name=='BCVA_InterestRatesVega':\n",
    "                        try:\n",
    "                            matrix+=np.array(el.Result['CVA_InterestRatesVega'][ircurvename]).flatten().reshape(len(tenors),-1)/10000\n",
    "                            matrix+=np.array(el.Result['DVA_InterestRatesVega'][ircurvename]).flatten().reshape(len(tenors),-1)/10000\n",
    "                        except:\n",
    "                            pass\n",
    "        for i in range(len(strikes)):\n",
    "            mas_of_column_values.append(matrix[:,i])\n",
    "        df=pd.DataFrame({a:b for (a,b) in zip(column_names, mas_of_column_values)})\n",
    "        totals=['Total']\n",
    "        totals+=list(map(lambda x: sum(x), [df[col_name] for col_name in df.columns[1:]]))\n",
    "        df=df.append({a:b for (a,b) in zip(df.columns, totals)},ignore_index=True)\n",
    "        df=df.set_index('Tenors')\n",
    "        return df\n",
    "    \n",
    "    \n",
    "\n",
    "\n",
    "\n",
    "    \n",
    "def get_mds_with_shifted_ir_or_credit_curve(r, ircurvename=None, creditcurvename=None, shift_in_bp=None, level_in_bp=None):\n",
    "    r=ps.get(r) \n",
    "    if type(r)==ps.message.MessageList:\n",
    "        mds=r[0].Model.MarketDataSet\n",
    "    elif type(r)==ps.message.GlobalID:\n",
    "        mds=r.Model.MarketDataSet\n",
    "    else:\n",
    "        raise Exception('Unsupported type of r!!!!')\n",
    "        \n",
    "    if shift_in_bp is not None:\n",
    "        if ircurvename is not None:\n",
    "            mds.RatesCurvesBundles[ircurvename].RatesSchedule.Rates = [x+0.01*shift_in_bp for x in \\\n",
    "                                                    mds.RatesCurvesBundles[ircurvename].RatesSchedule.Rates]\n",
    "        elif creditcurvename is not None:\n",
    "            mds.CreditCurves[creditcurvename].RatesSchedule.Rates = [ x + 0.01*shift_in_bp/0.75 for x in\\\n",
    "                                                        mds.CreditCurves[creditcurvename].RatesSchedule.Rates]\n",
    "            mds.CreditCurves[creditcurvename].Quotes.Values = [ x*0.75 for x in\\\n",
    "                                                  mds.CreditCurves[creditcurvename].RatesSchedule.Rates]\n",
    "    elif level_in_bp is not None:\n",
    "        if ircurvename is not None:\n",
    "            mds.RatesCurvesBundles[ircurvename].RatesSchedule.Rates = [ 0.01*level_in_bp for x in \\\n",
    "                                                    mds.RatesCurvesBundles[ircurvename].RatesSchedule.Rates]\n",
    "        elif creditcurvename is not None:\n",
    "            mds.CreditCurves[creditcurvename].RatesSchedule.Rates = [0.01*level_in_bp/0.75 for x in\\\n",
    "                                                        mds.CreditCurves[creditcurvename].RatesSchedule.Rates]\n",
    "            mds.CreditCurves[creditcurvename].Quotes.Values = [ x*0.75 for x in\\\n",
    "                                                  mds.CreditCurves[creditcurvename].RatesSchedule.Rates]\n",
    "    mds=ps.put(mds)\n",
    "    return mds"
   ]
  },
  {
   "cell_type": "code",
   "execution_count": null,
   "metadata": {},
   "outputs": [],
   "source": [
    "#how to get dv01 of a batch request\n",
    "\n",
    "r=ps.get('dae32fc68cf183bdb1da561f3439be0724b3d8d8')\n",
    " \n",
    "#r.Model.TypeName=no_skew_model\n",
    " \n",
    "df=get_tenored_dv01(r,'RUB_KEY_RATE',algo_id='4b6e60a41ed694ddf8b13153d2bffc38ec6fcad0',\\\n",
    "                    use_aad=True, use_bump=False, use_bump_updown=False, is_batch=True)\n",
    " \n",
    "df"
   ]
  },
  {
   "cell_type": "code",
   "execution_count": 11,
   "metadata": {},
   "outputs": [
    {
     "name": "stderr",
     "output_type": "stream",
     "text": [
      "[INFO] 2023-10-06 11:24:36,541 - Nothing to do: current environment is already dev\n"
     ]
    }
   ],
   "source": [
    "ps_utils.switch_to_dev()\n",
    "mas=[]\n",
    "r=ps.get('cfbfe0a30787626087d50657dc93caefc37ea370')\n",
    "for el in r.Result:\n",
    "    if(ps.get(el._nonce)['_Counterparty'] in ['FOTON']):\n",
    "        print(ps.get(el._nonce)['_Counterparty'],el._id)\n",
    "        break\n",
    "        #mas.append(ps.get(el._nonce)._id)\n",
    "#ps.put(ps.new_cm(mas))"
   ]
  },
  {
   "cell_type": "code",
   "execution_count": null,
   "metadata": {},
   "outputs": [],
   "source": [
    "r=ps.get('df264acf68e68c5e648f0b86ed20721009294b89')\n",
    "ps_utils.compute(ps.put(r),algo_id='e4fe902c3d2e3233571dc28142c37e87a9554d7b')\n",
    "#ps.compute_raw('e4fe902c3d2e3233571dc28142c37e87a9554d7b',r)"
   ]
  },
  {
   "cell_type": "code",
   "execution_count": null,
   "metadata": {},
   "outputs": [],
   "source": [
    "#wanted=['MKSMO','FRTGS','GRIDD','SIBRH','ROSNB','SZPPB','POLU','SZKOL','PRMMH','MBPGL','PROOM']\n",
    "wanted=['AMRZT','UELMD','ALBNR','URBEN','POKRR','SZARR','BAVER' 'NERUS', 'LUMYE']\n",
    "mas=[]\n",
    "r=ps.get('8c2bd60d5535ec1663d0478f6398c57f208ee2b7')\n",
    "for el in r.Result:\n",
    "    if(ps.get(el._nonce)['_Counterparty'] in wanted ):\n",
    "        mas.append(ps.get(el._nonce)._id)\n",
    "r=ps.get(ps.put(ps.new_cm(mas)))\n",
    "for el in r:\n",
    "    el.Queries=['ProductValue','BCVA']\n",
    "z=ps_utils.compute(ps.put(r))\n",
    "for i,el in enumerate(z):\n",
    "    print(el['ProductValue'],el['BCVA'],ps.get(r[i]._id)['_Counterparty'])"
   ]
  },
  {
   "cell_type": "code",
   "execution_count": null,
   "metadata": {},
   "outputs": [],
   "source": [
    "ps_utils.switch_to_dev()\n",
    "#mas=[]\n",
    "r=ps.get('034733b0f1e050103cb78ca36d448a41b3fe8be9')\n",
    "for el in r.Result:\n",
    "    try:\n",
    "        s=el.StatusText\n",
    "    except:\n",
    "        s='None'\n",
    "    if (s!='done'):\n",
    "        #print(el._id,s[0:65])\n",
    "        #print(ps.get(el._nonce)['_Counterparty'], el._id,s[0:65])\n",
    "        print(ps.get(el._nonce)['_Counterparty'], ps.get(el._nonce).Product.CounterpartyCreditRating, el._id,s[0:65])\n",
    "        #mas.append(ps.get(el._nonce)._id)\n",
    "#ps_utils.compute(ps.put(ps.new_cm(mas)), algo_id='1879d93d4ae4cfddc51b58f0218426de4e6f5da8')\n",
    "#ps.put(ps.new_cm(mas))"
   ]
  },
  {
   "cell_type": "code",
   "execution_count": null,
   "metadata": {},
   "outputs": [],
   "source": [
    "import ps, ps_utils\n",
    "#_from = 'psi'; _to = 'prod_pvlss'\n",
    "_from = 'prod_pvlss'; _to = 'dev'\n",
    "_id = '5187db871f5bc97976c35ff44250b15a9333746e'\n",
    "\n",
    "ps_utils.upload_message(_id, _from, _to)\n",
    "\n",
    "ps_utils.switch_to_env(_to)\n",
    "print(f\"check result\")\n",
    "n, not_found = ps_utils.chk_msg_tree(ps.get(_id))\n",
    "print(f\"\\ndone: {n}, not found: {not_found}\\n\")\n",
    "if not_found:\n",
    "    print(f\"copy missing messages\")\n",
    "    for m_id in not_found:\n",
    "        ps_utils.upload_message(m_id, _from, _to)\n",
    "    print(f\"check result\")\n",
    "    n, not_found = ps_utils.chk_msg_tree(ps.get(_id))\n",
    "    print(f\"\\ndone: {n}, not found: {not_found}\\n\")\n"
   ]
  },
  {
   "cell_type": "code",
   "execution_count": null,
   "metadata": {},
   "outputs": [],
   "source": [
    "#Крос \n",
    "ps_utils.switch_to_prod_pvlss()\n",
    "\n",
    "print(\"Product number\",1)\n",
    "r=ps_utils.pricing.XVA(ps.get('88ddc65ff27a820e07ebb8d3442e727d2298f9ec')[0])\n",
    "r.Product.NettingSets[0].MarginSets[0].Products=[r.Product.NettingSets[0].MarginSets[0].Products[2]]\n",
    "\n",
    "\n",
    "r.set_queries([\"ProductValue\",\"CVA\",\"DVA\",\"BCVA\",\"CVA_ParallelInterestRatesVega\",\"DVA_ParallelInterestRatesVega\",\"CVA_ParallelForeignExchangeVega\",\"DVA_ParallelForeignExchangeVega\",\"CVA_ParallelCreditDelta\",\"DVA_ParallelCreditDelta\",\"CVA_ParallelRho\",\"DVA_ParallelRho\",\"CVA_CurrencyExposure\",\"DVA_CurrencyExposure\"])\n",
    "\n",
    "\n",
    "r.Model.MarketDataSet.RatesCurvesBundles['RUB_KEY_RATE'].InterpolationMethod='Linear'\n",
    "r.Model.MarketDataSet.RatesCurvesBundles['EUR_XCCY'].InterpolationMethod='Linear'\n",
    "r.Model.MarketDataSet.RatesCurvesBundles['CNH_FX'].InterpolationMethod='Linear'\n",
    "r.Model.MarketDataSet.RatesCurvesBundles['RUB_SOFR'].InterpolationMethod='Linear'\n",
    "r.Model.MarketDataSet.RatesCurvesBundles['USD_SOFR'].InterpolationMethod='Linear'\n",
    "r.Model.MarketDataSet.RatesCurvesBundles['RUB_RUONIA_OIS'].InterpolationMethod='Linear'\n",
    "r.Model.MarketDataSet.RatesCurvesBundles['EUR_EURIBOR_6M'].InterpolationMethod='Linear'\n",
    "r.Model.MarketDataSet.RatesCurvesBundles['EUR_RUB'].InterpolationMethod='Linear'\n",
    "r.Model.MarketDataSet.RatesCurvesBundles['USD_SOFR'].InterpolationMethod='Linear'\n",
    "r.Model.MarketDataSet.RatesCurvesBundles['USD_LIBOR_3M'].InterpolationMethod='Linear'\n",
    "r.Model.MarketDataSet.RatesCurvesBundles['USD_XCCY'].InterpolationMethod='Linear'\n",
    "r.Model.MarketDataSet.RatesCurvesBundles['XAU_USD'].InterpolationMethod='Linear'\n",
    "r.Model.MarketDataSet.RatesCurvesBundles['CNH_SOFR'].InterpolationMethod='Linear'\n",
    "\n",
    "\n",
    "new_credit_values = {'RUB_SBER_OFZ_SNR_CR': 0.8, 'RUB_CHMF_OFZ_SNR_CR': 6.00}\n",
    "for cr_curve, cr_value in new_credit_values.items():\n",
    "    r.Model.MarketDataSet.CreditCurves[cr_curve].RatesSchedule.Rates = [cr_value / 0.75] * \\\n",
    "                                                                       len(r.Model.MarketDataSet.CreditCurves[\n",
    "                                                                               cr_curve].RatesSchedule.Rates)\n",
    "\n",
    "\n",
    "\n",
    "print(r)\n",
    "\n",
    "z=r.price(algo_id='e4fe902c3d2e3233571dc28142c37e87a9554d7b')\n",
    "bcva=abs(z['BCVA'])\n",
    "vega=abs((z['CVA_ParallelForeignExchangeVega']['EURRUB']/100 + z['DVA_ParallelForeignExchangeVega']['EURRUB']/100))+abs((z['CVA_ParallelForeignExchangeVega']['USDRUB']/100 + z['DVA_ParallelForeignExchangeVega']['USDRUB']/100))\n",
    "delta=abs((z['CVA_CurrencyExposure']['EUR'] + z['DVA_CurrencyExposure']['EUR']))\n",
    "rho=abs((z['CVA_ParallelRho']['EUR_XCCY']/10000 + z['DVA_ParallelRho']['EUR_XCCY']/10000))\n",
    "bcva+=vega*3\n",
    "bcva+=delta*0.025\n",
    "bcva+=rho*50*2\n",
    "bpv=117268\n",
    "rate=r.Product.NettingSets[0].MarginSets[0].Products[0].Leg2FixedRates[0]\n",
    "rate_new=rate+bcva/bpv/10000\n",
    "print(\"bcva with greeks charge=\",bcva, \"bcva all-in in bp=\",bcva/bpv, \"vega=\",vega, \"delta=\",delta, \"rho\",rho*2, \"rate_old=\",rate,\"rate_new\",rate_new)\n",
    "\n",
    "for i in range (1):\n",
    "    r.Product.NettingSets[0].MarginSets[0].Products[0].Leg2FixedRates=[rate_new for i in range(len(r.Product.NettingSets[0].MarginSets[0].Products[0].Leg2FixedRates))]\n",
    "    z=r.price(algo_id='e4fe902c3d2e3233571dc28142c37e87a9554d7b')\n",
    "    bcva=abs(z['BCVA'])\n",
    "    vega=abs((z['CVA_ParallelForeignExchangeVega']['EURRUB']/100 + z['DVA_ParallelForeignExchangeVega']['EURRUB']/100))+abs((z['CVA_ParallelForeignExchangeVega']['USDRUB']/100 + z['DVA_ParallelForeignExchangeVega']['USDRUB']/100))\n",
    "    delta=abs((z['CVA_CurrencyExposure']['EUR'] + z['DVA_CurrencyExposure']['EUR']))\n",
    "    rho=abs((z['CVA_ParallelRho']['EUR_XCCY']/10000 + z['DVA_ParallelRho']['EUR_XCCY']/10000))\n",
    "    bcva+=vega*3\n",
    "    bcva+=delta*0.025\n",
    "    bcva+=rho*50*2\n",
    "    bpv=117268\n",
    "    rate=r.Product.NettingSets[0].MarginSets[0].Products[0].Leg2FixedRates[0]\n",
    "    rate_new=rate+bcva/bpv/10000\n",
    "    print(\"iteration=\", i+1, \"bcva with greeks charge=\",bcva, \"bcva all-in in bp=\",bcva/bpv, \"vega=\",vega, \"delta=\",delta, \"rho\",rho*2, \"rate_old=\",rate,\"rate_new\",rate_new)\n",
    "\n"
   ]
  },
  {
   "cell_type": "code",
   "execution_count": null,
   "metadata": {},
   "outputs": [],
   "source": [
    "#форвард \n",
    "r=ps_utils.pricing.XVA(ps.get('3c317cbab3a4b26e0d6ad7b01263ca00c9618cd8'))\n",
    "\n",
    "\n",
    "r.set_queries([\"ProductValue\",\"CVA\",\"DVA\",\"BCVA\",\"CVA_ParallelInterestRatesVega\",\"DVA_ParallelInterestRatesVega\",\"CVA_ParallelForeignExchangeVega\",\"DVA_ParallelForeignExchangeVega\",\"CVA_ParallelCreditDelta\",\"DVA_ParallelCreditDelta\",\"CVA_ParallelRho\",\"DVA_ParallelRho\",\"CVA_CurrencyExposure\",\"DVA_CurrencyExposure\"])\n",
    "\n",
    "\n",
    "\n",
    "\n",
    "new_credit_values = {'RUB_SBER_OFZ_SNR_CR': 0.8, 'RUB_CHMF_OFZ_SNR_CR': 6.00}\n",
    "for cr_curve, cr_value in new_credit_values.items():\n",
    "    r.Model.MarketDataSet.CreditCurves[cr_curve].RatesSchedule.Rates = [cr_value / 0.75] * \\\n",
    "                                                                       len(r.Model.MarketDataSet.CreditCurves[\n",
    "                                                                               cr_curve].RatesSchedule.Rates)\n",
    "    \n",
    "r.Product.NettingSets[0].MarginSets[0].Products=[r.Product.NettingSets[0].MarginSets[0].Products[0]]\n",
    "\n",
    "z=r.price(algo_id='e444e5c23f460ab1a8bb318afb4416c1d0573cf1')\n",
    "bcva=abs(z['BCVA'])\n",
    "vega=abs((z['CVA_ParallelForeignExchangeVega']['CNHRUB']/100 + z['DVA_ParallelForeignExchangeVega']['CNHRUB']/100))\n",
    "delta=abs((z['CVA_CurrencyExposure']['CNH']/100 + z['DVA_CurrencyExposure']['CNH']/100))\n",
    "bcva+=vega*3\n",
    "bcva+=delta*r.Model.MarketDataSet.Spots['USDCNH']*0.02/r.Model.MarketDataSet.Spots['USDRUB']\n",
    "N=abs(r.Product.NettingSets[0].MarginSets[0].Products[0].Notional)\n",
    "strike=r.Product.NettingSets[0].MarginSets[0].Products[0].Strike\n",
    "strike_new=(1+bcva/N)*strike\n",
    "print(\"bcva=\",bcva, \"vega=\",vega, \"delta=\",delta, \"strike_old=\",strike,\"strike_new\",strike_new)\n",
    "\n",
    "r.Product.NettingSets[0].MarginSets[0].Products[0].Strike=strike_new\n",
    "z=r.price(algo_id='e444e5c23f460ab1a8bb318afb4416c1d0573cf1')\n",
    "bcva=abs(z['BCVA'])\n",
    "vega=abs((z['CVA_ParallelForeignExchangeVega']['CNHRUB']/100 + z['DVA_ParallelForeignExchangeVega']['CNHRUB']/100))\n",
    "delta=abs((z['CVA_CurrencyExposure']['CNH']/100 + z['DVA_CurrencyExposure']['CNH']/100))\n",
    "bcva+=vega*3\n",
    "bcva+=delta*r.Model.MarketDataSet.Spots['USDCNH']*0.02/r.Model.MarketDataSet.Spots['USDRUB']\n",
    "N=abs(r.Product.NettingSets[0].MarginSets[0].Products[0].Notional)\n",
    "strike=r.Product.NettingSets[0].MarginSets[0].Products[0].Strike\n",
    "print(\"bcva=\",bcva, \"vega=\",vega, \"delta=\",delta, \"strike_all_in=\",strike, \"bcva_all_in=\",bcva)\n",
    "\n",
    "#get_bcva_df(z)\n"
   ]
  },
  {
   "cell_type": "code",
   "execution_count": null,
   "metadata": {},
   "outputs": [],
   "source": [
    "#make pnl explain request\n",
    "ps_utils.switch_to_dev()\n",
    "import ps, ps_utils\n",
    "\n",
    "layer2_algo_id = 'dbb2472abfde197ecd5e14b030fdc84207a5b92c'\n",
    "\n",
    "layer1_algo_id = 'e4fe902c3d2e3233571dc28142c37e87a9554d7b'\n",
    "\n",
    "prev_response = '61597888dd3187725035150670042f746a7e033b'\n",
    "response = '1a333661f0b02b4d2ce9e989961563ffda9f3332'\n",
    "\n",
    "request = ps.new_cm({\n",
    "\n",
    "    'RequestName':  'PortfolioPnLExplain',\n",
    "\n",
    "    'PricingAlgoID': layer1_algo_id,\n",
    "\n",
    "    'ReportingCurrency': 'USD',\n",
    "\n",
    "    '_Method': 'Revaluation',\n",
    "\n",
    "    'Queries': ['BCVA', 'CVA', 'DVA'],\n",
    "\n",
    "    'PreviousResponse': prev_response,\n",
    "\n",
    "    'Response': response,\n",
    "\n",
    "})\n",
    "\n",
    "ps.put(request)\n",
    "\n",
    "print(\"Request=\", request._id)\n",
    "\n",
    "ps_utils.compute(request, algo_id=layer2_algo_id)"
   ]
  },
  {
   "cell_type": "markdown",
   "metadata": {},
   "source": [
    "# 01-11-2023 среда"
   ]
  },
  {
   "cell_type": "code",
   "execution_count": null,
   "metadata": {},
   "outputs": [],
   "source": [
    "# даша яблокова AEDRUB "
   ]
  },
  {
   "cell_type": "code",
   "execution_count": 24,
   "metadata": {},
   "outputs": [
    {
     "name": "stderr",
     "output_type": "stream",
     "text": [
      "[INFO] 2023-11-02 11:28:08,234 - Nothing to do: current environment is already dev\n",
      "[INFO] 2023-11-02 11:28:11,754 - Compute:839147e01274dfabce9c036138a56e2176c607b4->1193585894cf99fb4c3f1a811724631cee40f638\n"
     ]
    },
    {
     "data": {
      "text/plain": [
       "Dict([('BCVA', -134312.09112523877),\n",
       "      ('LegBCVA',\n",
       "       [-336.148658943853,\n",
       "        -16179.46009892193,\n",
       "        -2772.3010205693813,\n",
       "        -55690.851275418616,\n",
       "        -2772.3010205693813,\n",
       "        -47577.73974200466,\n",
       "        -336.148658943853,\n",
       "        -14611.929810274078]),\n",
       "      ('Legs',\n",
       "       [170e68fc3f1386c6e101da425489b494345b141a,\n",
       "        8db1e36e0e37613143b3c971d960a6e300e65eef,\n",
       "        19fec62bbea142a5c325df8222833f7384c5d528,\n",
       "        18d60a1bbc07762ddf098ed1143511691e6c045e,\n",
       "        8b098d8ef4c331fb378cbea78bebf529b8e9dfbc,\n",
       "        e3db75fc494f832e8b9c91f276e26a01c407387c,\n",
       "        4b977420e29d86dc3c694fdfe09641f060497e95,\n",
       "        04856c02d7716429a7e2b34e6269678b5c80d93b]),\n",
       "      ('CVA', -148753.2541682156),\n",
       "      ('DVA', 14441.16304297682),\n",
       "      ('LegPresentValues',\n",
       "       [33521.003841435304,\n",
       "        2027855.1250902712,\n",
       "        102945.02614385495,\n",
       "        3522095.5789550394,\n",
       "        102945.02614385495,\n",
       "        2156130.152210012,\n",
       "        33521.003841435304,\n",
       "        1398813.4773244858]),\n",
       "      ('ProductValue', 9377826.393550389),\n",
       "      ('ReportingCurrency', 'USD'),\n",
       "      ('StandardError', 67674.0164577186),\n",
       "      ('CashToSettleToday', 0.0)])"
      ]
     },
     "execution_count": 24,
     "metadata": {},
     "output_type": "execute_result"
    }
   ],
   "source": [
    "#как есть \n",
    "\n",
    "ps_utils.switch_to_dev()         \n",
    "r=ps_utils.pricing.XVA(ps.get('127affe9a1f686c1a3ff89b98bcbf2dcec9f2a2c')[0])\n",
    "# r.Queries.append('LegBCVA')\n",
    "# r.Queries.append('LegPresentValues')\n",
    "\n",
    "# r.Model.TypeName='HybridCheyette1FactorMCLocalVolatilityModel'\n",
    "# r.Model.LocalVolatilityMinimum=1e-13\n",
    "# r.Model.CalibrationFrequencyInDays=30\n",
    "# r.Model.LocalVolNumberOfTimeStepsPerYear=250\n",
    "# r.Model.MonteCarloMaxStepInHours=24\n",
    "\n",
    "# r.NumberOfPaths=700000\n",
    "# r.Model.AmericanMonteCarloNumberOfPaths=2000\n",
    "\n",
    "#r.Model.TypeName='HybridCheyette1FactorANLocalVolatilityModel'\n",
    "\n",
    "new_credit_values = {'RUB_SBER_OFZ_SNR_CR': 0.7, 'RUB_MINFIN_OFZ': 1.30}\n",
    "for cr_curve, cr_value in new_credit_values.items():\n",
    "    r.Model.MarketDataSet.CreditCurves[cr_curve].RatesSchedule.Rates = [cr_value / 0.75] * \\\n",
    "                                                                       len(r.Model.MarketDataSet.CreditCurves[\n",
    "                                                                               cr_curve].RatesSchedule.Rates)\n",
    "#r.StaticDataSet='961c90aa9d7f9fedc21b12a42ff53ab29d107d4c'\n",
    "    \n",
    "r.Model.CalibrationUnderlyings['AED']='AED_FX'  \n",
    "r.Model.MarketDataSet.VolatilitySurfaces['AED_FX']=r.Model.MarketDataSet.VolatilitySurfaces['CNH_FX']\n",
    "r.set_correlation('AEDRUB','USDRUB',0.6)\n",
    "r.set_correlation('AEDRUB','AED_FX',0.0)\n",
    "r.set_correlation('AED_FX','USDRUB',0.0)\n",
    "r.set_correlation('AEDRUB','RUB_KEY_RATE',0.0)\n",
    "r.set_correlation('AED_FX','RUB_KEY_RATE',0.0)\n",
    "r.set_correlation('AEDRUB','USD_LIBOR_3M',0.0)\n",
    "r.set_correlation('AED_FX','USD_LIBOR_3M',0.0)\n",
    "\n",
    "\n",
    "    \n",
    "z=r.price(algo_id='0534e2d4a32283b9777c8d6a640bd1c1c9470ec7')\n",
    "\n",
    "z\n",
    "\n",
    "\n"
   ]
  },
  {
   "cell_type": "code",
   "execution_count": null,
   "metadata": {},
   "outputs": [],
   "source": []
  },
  {
   "cell_type": "markdown",
   "metadata": {},
   "source": [
    "# Тая PRMMH restruct 9 рейтинг"
   ]
  },
  {
   "cell_type": "code",
   "execution_count": 3,
   "metadata": {},
   "outputs": [
    {
     "data": {
      "text/plain": [
       "28791.0"
      ]
     },
     "execution_count": 3,
     "metadata": {},
     "output_type": "execute_result"
    }
   ],
   "source": [
    "(215113-187693)*1.05*7162088"
   ]
  },
  {
   "cell_type": "code",
   "execution_count": 4,
   "metadata": {},
   "outputs": [
    {
     "data": {
      "text/plain": [
       "18066.3"
      ]
     },
     "execution_count": 4,
     "metadata": {},
     "output_type": "execute_result"
    }
   ],
   "source": [
    "(204899-187693)*1.05"
   ]
  },
  {
   "cell_type": "code",
   "execution_count": 5,
   "metadata": {},
   "outputs": [
    {
     "data": {
      "text/plain": [
       "28812.0"
      ]
     },
     "execution_count": 5,
     "metadata": {},
     "output_type": "execute_result"
    }
   ],
   "source": [
    "(215133-187693)*1.05"
   ]
  },
  {
   "cell_type": "code",
   "execution_count": 7,
   "metadata": {},
   "outputs": [
    {
     "name": "stderr",
     "output_type": "stream",
     "text": [
      "[INFO] 2023-11-01 15:27:36,597 - Nothing to do: current environment is already dev\n",
      "[INFO] 2023-11-01 15:27:44,791 - Compute:0bd4dd57c6fd8e991860ee19636b2ead02916ba7->c6473e04349a52d8952e888004621080d919e880\n"
     ]
    },
    {
     "data": {
      "text/plain": [
       "Dict([('BCVA', -879770.9806473947),\n",
       "      ('LegBCVA',\n",
       "       [-200241.74103374415,\n",
       "        -230109.30052178176,\n",
       "        -219218.1009774479,\n",
       "        -230201.83811442074]),\n",
       "      ('Legs',\n",
       "       [a312dd8845242de3d0cecfe360d55766681f4bab,\n",
       "        9b25bafef1b252efcbd1036f4e433afbe60a9954,\n",
       "        b663d0a63d02764a85cd1e6d25f27276d57e2557,\n",
       "        63fbc361e1b29452516aae5552cd48f85cd2d081]),\n",
       "      ('CVA', -879972.2959730863),\n",
       "      ('DVA', 201.31532569157793),\n",
       "      ('LegPresentValues',\n",
       "       [5340502.181594783,\n",
       "        6895335.52240276,\n",
       "        6766345.66131072,\n",
       "        6929940.809816146]),\n",
       "      ('ProductValue', 25932124.175124414),\n",
       "      ('ReportingCurrency', 'USD'),\n",
       "      ('StandardError', 49713.244084295446),\n",
       "      ('CashToSettleToday', 0.0)])"
      ]
     },
     "execution_count": 7,
     "metadata": {},
     "output_type": "execute_result"
    }
   ],
   "source": [
    "#как есть \n",
    "\n",
    "ps_utils.switch_to_dev()         \n",
    "r=ps_utils.pricing.XVA(ps.get('b6c780a9fc68e8c141f8769bc082c1e648725f42')[0])\n",
    "# r.Queries.append('LegBCVA')\n",
    "# r.Queries.append('LegPresentValues')\n",
    "\n",
    "r.Model.TypeName='HybridCheyette1FactorMCLocalVolatilityModel'\n",
    "r.Model.LocalVolatilityMinimum=1e-13\n",
    "r.Model.CalibrationFrequencyInDays=30\n",
    "r.Model.LocalVolNumberOfTimeStepsPerYear=250\n",
    "r.Model.MonteCarloMaxStepInHours=24\n",
    "\n",
    "# r.NumberOfPaths=700000\n",
    "# r.Model.AmericanMonteCarloNumberOfPaths=2000\n",
    "\n",
    "#r.Model.TypeName='HybridCheyette1FactorANLocalVolatilityModel'\n",
    "\n",
    "new_credit_values = {'RUB_SBER_OFZ_SNR_CR': 0.7, 'RUB_MINFIN_OFZ': 1.30}\n",
    "for cr_curve, cr_value in new_credit_values.items():\n",
    "    r.Model.MarketDataSet.CreditCurves[cr_curve].RatesSchedule.Rates = [cr_value / 0.75] * \\\n",
    "                                                                       len(r.Model.MarketDataSet.CreditCurves[\n",
    "                                                                               cr_curve].RatesSchedule.Rates)\n",
    "\n",
    "\n",
    "\n",
    "    \n",
    "z=r.price(algo_id='0534e2d4a32283b9777c8d6a640bd1c1c9470ec7')\n",
    "\n",
    "z\n",
    "\n",
    "\n"
   ]
  },
  {
   "cell_type": "code",
   "execution_count": 9,
   "metadata": {},
   "outputs": [
    {
     "data": {
      "text/plain": [
       "31361.4"
      ]
     },
     "execution_count": 9,
     "metadata": {},
     "output_type": "execute_result"
    }
   ],
   "source": [
    "(230109-200241)*1.05"
   ]
  },
  {
   "cell_type": "code",
   "execution_count": 10,
   "metadata": {},
   "outputs": [
    {
     "data": {
      "text/plain": [
       "19925.850000000002"
      ]
     },
     "execution_count": 10,
     "metadata": {},
     "output_type": "execute_result"
    }
   ],
   "source": [
    "(219218-200241)*1.05"
   ]
  },
  {
   "cell_type": "code",
   "execution_count": 12,
   "metadata": {},
   "outputs": [
    {
     "data": {
      "text/plain": [
       "31458.0"
      ]
     },
     "execution_count": 12,
     "metadata": {},
     "output_type": "execute_result"
    }
   ],
   "source": [
    "(230201-200241)*1.05"
   ]
  },
  {
   "cell_type": "code",
   "execution_count": 45,
   "metadata": {},
   "outputs": [
    {
     "name": "stderr",
     "output_type": "stream",
     "text": [
      "[INFO] 2023-11-01 16:07:26,694 - Nothing to do: current environment is already dev\n",
      "[INFO] 2023-11-01 16:07:27,975 - Compute:7629a113805681aacbd67bcf0f7602bd0cc5644b->46d8ffd420491ac3d116324e7b19bf276b30d1c3\n"
     ]
    },
    {
     "data": {
      "text/plain": [
       "Dict([('BCVA', -230370.54280733285),\n",
       "      ('LegBCVA', [-230370.54280733285]),\n",
       "      ('Legs', [f9911da6cf3d6798aa9c6be9c64288ca4e2b4895]),\n",
       "      ('CVA', -230420.87163875575),\n",
       "      ('DVA', 50.32883142289448),\n",
       "      ('LegPresentValues', [6927611.992422452]),\n",
       "      ('ProductValue', 6927611.992422452),\n",
       "      ('ReportingCurrency', 'USD'),\n",
       "      ('StandardError', 13129.440481306594),\n",
       "      ('CashToSettleToday', 0.0)])"
      ]
     },
     "execution_count": 45,
     "metadata": {},
     "output_type": "execute_result"
    }
   ],
   "source": [
    "#как есть \n",
    "\n",
    "ps_utils.switch_to_dev()         \n",
    "r=ps_utils.pricing.XVA(ps.get('b6c780a9fc68e8c141f8769bc082c1e648725f42')[0])\n",
    "# r.Queries.append('LegBCVA')\n",
    "# r.Queries.append('LegPresentValues')\n",
    "\n",
    "r.Model.TypeName='HybridCheyette1FactorMCLocalVolatilityModel'\n",
    "r.Model.LocalVolatilityMinimum=1e-13\n",
    "r.Model.CalibrationFrequencyInDays=30\n",
    "r.Model.LocalVolNumberOfTimeStepsPerYear=250\n",
    "r.Model.MonteCarloMaxStepInHours=24\n",
    "\n",
    "# r.NumberOfPaths=700000\n",
    "# r.Model.AmericanMonteCarloNumberOfPaths=2000\n",
    "\n",
    "#r.Model.TypeName='HybridCheyette1FactorANLocalVolatilityModel'\n",
    "\n",
    "new_credit_values = {'RUB_SBER_OFZ_SNR_CR': 0.7, 'RUB_MINFIN_OFZ': 1.30}\n",
    "for cr_curve, cr_value in new_credit_values.items():\n",
    "    r.Model.MarketDataSet.CreditCurves[cr_curve].RatesSchedule.Rates = [cr_value / 0.75] * \\\n",
    "                                                                       len(r.Model.MarketDataSet.CreditCurves[\n",
    "                                                                               cr_curve].RatesSchedule.Rates)\n",
    "mas=r.Product.NettingSets[0].MarginSets[0].Products\n",
    "\n",
    "\n",
    "\n",
    "prem=mas[1].RollingPremiums\n",
    "newprem=[]\n",
    "for i in range(len(prem)):\n",
    "    if (i>=8 and i<=22):\n",
    "        newprem.append(4.614/4.6*prem[i])\n",
    "    else:\n",
    "        newprem.append(prem[i])\n",
    "\n",
    "r.Product.NettingSets[0].MarginSets[0].Products=[mas[1]]\n",
    "r.Product.NettingSets[0].MarginSets[0].Products[0].RollingPremiums=newprem\n",
    "    \n",
    "z=r.price(algo_id='0534e2d4a32283b9777c8d6a640bd1c1c9470ec7')\n",
    "\n",
    "z\n",
    "\n",
    "\n"
   ]
  },
  {
   "cell_type": "code",
   "execution_count": 46,
   "metadata": {},
   "outputs": [
    {
     "data": {
      "text/plain": [
       "32276"
      ]
     },
     "execution_count": 46,
     "metadata": {},
     "output_type": "execute_result"
    }
   ],
   "source": [
    "6927611-6895335"
   ]
  },
  {
   "cell_type": "code",
   "execution_count": 43,
   "metadata": {},
   "outputs": [
    {
     "name": "stderr",
     "output_type": "stream",
     "text": [
      "[INFO] 2023-11-01 16:06:48,239 - Nothing to do: current environment is already dev\n",
      "[INFO] 2023-11-01 16:06:49,457 - Compute:30563d73bdcc103e21135a37d0b0f7a04030a6b6->fb1e3fcdac658cd58635ead11be40efcbc3d4081\n"
     ]
    },
    {
     "data": {
      "text/plain": [
       "Dict([('BCVA', -219367.72166955768),\n",
       "      ('LegBCVA', [-219367.72166955768]),\n",
       "      ('Legs', [86874255a33f08fe414a6c4481e6f9b598f72b52]),\n",
       "      ('CVA', -219418.05050098058),\n",
       "      ('DVA', 50.32883142289448),\n",
       "      ('LegPresentValues', [6786487.94839298]),\n",
       "      ('ProductValue', 6786487.94839298),\n",
       "      ('ReportingCurrency', 'USD'),\n",
       "      ('StandardError', 12963.155793840655),\n",
       "      ('CashToSettleToday', 0.0)])"
      ]
     },
     "execution_count": 43,
     "metadata": {},
     "output_type": "execute_result"
    }
   ],
   "source": [
    "#как есть \n",
    "\n",
    "ps_utils.switch_to_dev()         \n",
    "r=ps_utils.pricing.XVA(ps.get('b6c780a9fc68e8c141f8769bc082c1e648725f42')[0])\n",
    "# r.Queries.append('LegBCVA')\n",
    "# r.Queries.append('LegPresentValues')\n",
    "\n",
    "r.Model.TypeName='HybridCheyette1FactorMCLocalVolatilityModel'\n",
    "r.Model.LocalVolatilityMinimum=1e-13\n",
    "r.Model.CalibrationFrequencyInDays=30\n",
    "r.Model.LocalVolNumberOfTimeStepsPerYear=250\n",
    "r.Model.MonteCarloMaxStepInHours=24\n",
    "\n",
    "# r.NumberOfPaths=700000\n",
    "# r.Model.AmericanMonteCarloNumberOfPaths=2000\n",
    "\n",
    "#r.Model.TypeName='HybridCheyette1FactorANLocalVolatilityModel'\n",
    "\n",
    "new_credit_values = {'RUB_SBER_OFZ_SNR_CR': 0.7, 'RUB_MINFIN_OFZ': 1.30}\n",
    "for cr_curve, cr_value in new_credit_values.items():\n",
    "    r.Model.MarketDataSet.CreditCurves[cr_curve].RatesSchedule.Rates = [cr_value / 0.75] * \\\n",
    "                                                                       len(r.Model.MarketDataSet.CreditCurves[\n",
    "                                                                               cr_curve].RatesSchedule.Rates)\n",
    "mas=r.Product.NettingSets[0].MarginSets[0].Products\n",
    "\n",
    "prem=mas[2].RollingPremiums\n",
    "\n",
    "newprem=[]\n",
    "for i in range(len(prem)):\n",
    "    if (i>=8 and i<=22):\n",
    "        newprem.append(5.34/5.33*prem[i])\n",
    "    else:\n",
    "        newprem.append(prem[i])\n",
    "\n",
    "r.Product.NettingSets[0].MarginSets[0].Products=[mas[2]]\n",
    "r.Product.NettingSets[0].MarginSets[0].Products[0].RollingPremiums=newprem\n",
    "    \n",
    "z=r.price(algo_id='0534e2d4a32283b9777c8d6a640bd1c1c9470ec7')\n",
    "\n",
    "z\n",
    "\n",
    "\n"
   ]
  },
  {
   "cell_type": "code",
   "execution_count": 34,
   "metadata": {},
   "outputs": [
    {
     "data": {
      "text/plain": [
       "19201"
      ]
     },
     "execution_count": 34,
     "metadata": {},
     "output_type": "execute_result"
    }
   ],
   "source": [
    "(219442-200241)"
   ]
  },
  {
   "cell_type": "code",
   "execution_count": 44,
   "metadata": {},
   "outputs": [
    {
     "data": {
      "text/plain": [
       "20142"
      ]
     },
     "execution_count": 44,
     "metadata": {},
     "output_type": "execute_result"
    }
   ],
   "source": [
    "6786487-6766345"
   ]
  },
  {
   "cell_type": "code",
   "execution_count": 56,
   "metadata": {},
   "outputs": [
    {
     "name": "stderr",
     "output_type": "stream",
     "text": [
      "[INFO] 2023-11-01 16:12:02,811 - Nothing to do: current environment is already dev\n",
      "[INFO] 2023-11-01 16:12:03,976 - Compute:8ee603b78b8bd2ed09d2307c4509e30c08563e0e->0cb0f34bbfcad7b4597f7b8f061aa7cff8669dab\n"
     ]
    },
    {
     "data": {
      "text/plain": [
       "Dict([('BCVA', -230464.56366796244),\n",
       "      ('LegBCVA', [-230464.56366796244]),\n",
       "      ('Legs', [72b6b9dd41c009a81712cfcc6a6f4e5892470f87]),\n",
       "      ('CVA', -230514.89249938534),\n",
       "      ('DVA', 50.32883142289448),\n",
       "      ('LegPresentValues', [6962310.656646999]),\n",
       "      ('ProductValue', 6962310.656646999),\n",
       "      ('ReportingCurrency', 'USD'),\n",
       "      ('StandardError', 12959.02242764012),\n",
       "      ('CashToSettleToday', 0.0)])"
      ]
     },
     "execution_count": 56,
     "metadata": {},
     "output_type": "execute_result"
    }
   ],
   "source": [
    "#как есть \n",
    "\n",
    "ps_utils.switch_to_dev()         \n",
    "r=ps_utils.pricing.XVA(ps.get('b6c780a9fc68e8c141f8769bc082c1e648725f42')[0])\n",
    "# r.Queries.append('LegBCVA')\n",
    "# r.Queries.append('LegPresentValues')\n",
    "\n",
    "r.Model.TypeName='HybridCheyette1FactorMCLocalVolatilityModel'\n",
    "r.Model.LocalVolatilityMinimum=1e-13\n",
    "r.Model.CalibrationFrequencyInDays=30\n",
    "r.Model.LocalVolNumberOfTimeStepsPerYear=250\n",
    "r.Model.MonteCarloMaxStepInHours=24\n",
    "\n",
    "# r.NumberOfPaths=700000\n",
    "# r.Model.AmericanMonteCarloNumberOfPaths=2000\n",
    "\n",
    "#r.Model.TypeName='HybridCheyette1FactorANLocalVolatilityModel'\n",
    "\n",
    "new_credit_values = {'RUB_SBER_OFZ_SNR_CR': 0.7, 'RUB_MINFIN_OFZ': 1.30}\n",
    "for cr_curve, cr_value in new_credit_values.items():\n",
    "    r.Model.MarketDataSet.CreditCurves[cr_curve].RatesSchedule.Rates = [cr_value / 0.75] * \\\n",
    "                                                                       len(r.Model.MarketDataSet.CreditCurves[\n",
    "                                                                               cr_curve].RatesSchedule.Rates)\n",
    "mas=r.Product.NettingSets[0].MarginSets[0].Products\n",
    "\n",
    "prem=mas[3].RollingPremiums\n",
    "\n",
    "newprem=[]\n",
    "for i in range(len(prem)):\n",
    "    if (i>=8 and i<=22):\n",
    "        newprem.append(4.214/4.2*prem[i])\n",
    "    else:\n",
    "        newprem.append(prem[i])\n",
    "\n",
    "r.Product.NettingSets[0].MarginSets[0].Products=[mas[3]]\n",
    "r.Product.NettingSets[0].MarginSets[0].Products[0].RollingPremiums=newprem\n",
    "    \n",
    "z=r.price(algo_id='0534e2d4a32283b9777c8d6a640bd1c1c9470ec7')\n",
    "\n",
    "z\n",
    "\n",
    "\n"
   ]
  },
  {
   "cell_type": "code",
   "execution_count": 57,
   "metadata": {},
   "outputs": [
    {
     "data": {
      "text/plain": [
       "32370"
      ]
     },
     "execution_count": 57,
     "metadata": {},
     "output_type": "execute_result"
    }
   ],
   "source": [
    "6962310-6929940"
   ]
  },
  {
   "cell_type": "code",
   "execution_count": 60,
   "metadata": {},
   "outputs": [
    {
     "name": "stderr",
     "output_type": "stream",
     "text": [
      "[INFO] 2023-11-01 16:16:38,649 - Nothing to do: current environment is already dev\n",
      "[INFO] 2023-11-01 16:16:40,052 - Compute:4efcd9389cd25af467cd0e11b53e29c9f0d957bf->19a9472c6fc347d22b7e1c9be705e14250c1d74b\n"
     ]
    },
    {
     "data": {
      "text/plain": [
       "Dict([('BCVA', -1577813.564961714),\n",
       "      ('CVA', -1577814.4352816243),\n",
       "      ('DVA', 0.8703199103126104),\n",
       "      ('ProductValue', 6668859.465981768),\n",
       "      ('ReportingCurrency', 'USD'),\n",
       "      ('StandardError', 11289.216261431147),\n",
       "      ('CashToSettleToday', 0.0)])"
      ]
     },
     "execution_count": 60,
     "metadata": {},
     "output_type": "execute_result"
    }
   ],
   "source": [
    "#как есть \n",
    "\n",
    "ps_utils.switch_to_dev()         \n",
    "r=ps_utils.pricing.XVA(ps.get('702c8b76e5ced8d2777bec8ae2484383e0aa860f')[0])\n",
    "# r.Queries.append('LegBCVA')\n",
    "# r.Queries.append('LegPresentValues')\n",
    "\n",
    "r.Model.TypeName='HybridCheyette1FactorMCLocalVolatilityModel'\n",
    "r.Model.LocalVolatilityMinimum=1e-13\n",
    "r.Model.CalibrationFrequencyInDays=30\n",
    "r.Model.LocalVolNumberOfTimeStepsPerYear=250\n",
    "r.Model.MonteCarloMaxStepInHours=24\n",
    "\n",
    "# r.NumberOfPaths=700000\n",
    "# r.Model.AmericanMonteCarloNumberOfPaths=2000\n",
    "\n",
    "#r.Model.TypeName='HybridCheyette1FactorANLocalVolatilityModel'\n",
    "\n",
    "new_credit_values = {'RUB_SBER_OFZ_SNR_CR': 0.7, 'RUB_MINFIN_OFZ': 1.30}\n",
    "for cr_curve, cr_value in new_credit_values.items():\n",
    "    r.Model.MarketDataSet.CreditCurves[cr_curve].RatesSchedule.Rates = [cr_value / 0.75] * \\\n",
    "                                                                       len(r.Model.MarketDataSet.CreditCurves[\n",
    "                                                                               cr_curve].RatesSchedule.Rates)\n",
    "\n",
    "# mas=r.Product.NettingSets[0].MarginSets[0].Products\n",
    "\n",
    "# prem=mas[3].RollingPremiums\n",
    "\n",
    "# newprem=[]\n",
    "# for i in range(len(prem)):\n",
    "#     if (i>=8 and i<=22):\n",
    "#         newprem.append(4.214/4.2*prem[i])\n",
    "#     else:\n",
    "#         newprem.append(prem[i])\n",
    "\n",
    "# r.Product.NettingSets[0].MarginSets[0].Products=[mas[3]]\n",
    "# r.Product.NettingSets[0].MarginSets[0].Products[0].RollingPremiums=newprem\n",
    "    \n",
    "z=r.price(algo_id='0534e2d4a32283b9777c8d6a640bd1c1c9470ec7')\n",
    "\n",
    "z\n",
    "\n",
    "\n"
   ]
  },
  {
   "cell_type": "code",
   "execution_count": null,
   "metadata": {},
   "outputs": [],
   "source": [
    "3086266"
   ]
  },
  {
   "cell_type": "code",
   "execution_count": 61,
   "metadata": {},
   "outputs": [
    {
     "name": "stderr",
     "output_type": "stream",
     "text": [
      "[INFO] 2023-11-01 16:18:27,122 - Compute:b8622046359ae9b9c23469df03192cb21494fd71->4d0358cafac5bf3f140996a2d539cc420c6d5def\n"
     ]
    }
   ],
   "source": [
    "z=r.run_xva_breakdown(show=True)"
   ]
  },
  {
   "cell_type": "markdown",
   "metadata": {},
   "source": [
    "# 02-11-2023 четверг "
   ]
  },
  {
   "cell_type": "markdown",
   "metadata": {},
   "source": [
    "# Паша HIMPP 15 рейтинг менем барьер в будущем с 1.49 на 6.07 без cva-aal-in"
   ]
  },
  {
   "cell_type": "code",
   "execution_count": 4,
   "metadata": {},
   "outputs": [
    {
     "name": "stderr",
     "output_type": "stream",
     "text": [
      "[INFO] 2023-11-02 11:15:26,778 - Nothing to do: current environment is already dev\n",
      "[INFO] 2023-11-02 11:15:29,618 - Compute:8559d064baacc1bc3fae29a02c274a1180c3dee5->7c2d3fb34161214dcb11c39240a232875bdb0221\n"
     ]
    },
    {
     "data": {
      "text/plain": [
       "Dict([('BCVA', -199.3825747572276),\n",
       "      ('LegBCVA', [-199.3825747572276]),\n",
       "      ('Legs', [a3a8134303503198293a51b38c4369035307431b]),\n",
       "      ('CVA', -231.54189783137866),\n",
       "      ('DVA', 32.15932307415108),\n",
       "      ('LegPresentValues', [23290.033617141024]),\n",
       "      ('ProductValue', 23290.033617141024),\n",
       "      ('ReportingCurrency', 'USD'),\n",
       "      ('StandardError', 56.224080453421),\n",
       "      ('CashToSettleToday', 0.0)])"
      ]
     },
     "execution_count": 4,
     "metadata": {},
     "output_type": "execute_result"
    }
   ],
   "source": [
    "#как есть \n",
    "\n",
    "ps_utils.switch_to_dev()         \n",
    "r=ps_utils.pricing.XVA(ps.get('1a4922bfb4665f46cc3cce27f533e4b6843e9fbd')[0])\n",
    "# r.Queries.append('LegBCVA')\n",
    "# r.Queries.append('LegPresentValues')\n",
    "\n",
    "r.Model.TypeName='HybridCheyette1FactorMCLocalVolatilityModel'\n",
    "r.Model.LocalVolatilityMinimum=1e-13\n",
    "r.Model.CalibrationFrequencyInDays=30\n",
    "r.Model.LocalVolNumberOfTimeStepsPerYear=250\n",
    "r.Model.MonteCarloMaxStepInHours=24\n",
    "\n",
    "# r.NumberOfPaths=700000\n",
    "# r.Model.AmericanMonteCarloNumberOfPaths=2000\n",
    "\n",
    "#r.Model.TypeName='HybridCheyette1FactorANLocalVolatilityModel'\n",
    "\n",
    "new_credit_values = {'RUB_SBER_OFZ_SNR_CR': 0.7, 'RUB_MINFIN_OFZ': 1.30}\n",
    "for cr_curve, cr_value in new_credit_values.items():\n",
    "    r.Model.MarketDataSet.CreditCurves[cr_curve].RatesSchedule.Rates = [cr_value / 0.75] * \\\n",
    "                                                                       len(r.Model.MarketDataSet.CreditCurves[\n",
    "                                                                               cr_curve].RatesSchedule.Rates)\n",
    "\n",
    "mas=r.Product.NettingSets[0].MarginSets[0].Products\n",
    "\n",
    "# prem=mas[3].RollingPremiums\n",
    "\n",
    "# newprem=[]\n",
    "# for i in range(len(prem)):\n",
    "#     if (i>=8 and i<=22):\n",
    "#         newprem.append(4.214/4.2*prem[i])\n",
    "#     else:\n",
    "#         newprem.append(prem[i])\n",
    "\n",
    "r.Product.NettingSets[0].MarginSets[0].Products=[mas[0]]\n",
    "# r.Product.NettingSets[0].MarginSets[0].Products[0].RollingPremiums=newprem\n",
    "    \n",
    "z=r.price(algo_id='0534e2d4a32283b9777c8d6a640bd1c1c9470ec7')\n",
    "\n",
    "z\n",
    "\n",
    "\n"
   ]
  },
  {
   "cell_type": "code",
   "execution_count": 14,
   "metadata": {},
   "outputs": [
    {
     "name": "stderr",
     "output_type": "stream",
     "text": [
      "[INFO] 2023-11-02 11:19:39,131 - Nothing to do: current environment is already dev\n",
      "[INFO] 2023-11-02 11:19:40,300 - Compute:04c303f9aef82745c2d31dc796e35a3f1e83b9b4->cf078d8a7597a0de5c19fa735fc6f59ce8419f5c\n"
     ]
    },
    {
     "data": {
      "text/plain": [
       "Dict([('BCVA', -1749.806621595292),\n",
       "      ('LegBCVA', [-1749.806621595292]),\n",
       "      ('Legs', [6fe34ff407fabdcd1180e66f6c8c97f34bf26ef8]),\n",
       "      ('CVA', -1749.82400662765),\n",
       "      ('DVA', 0.01738503235806632),\n",
       "      ('LegPresentValues', [43049.8196707491]),\n",
       "      ('ProductValue', 43049.8196707491),\n",
       "      ('ReportingCurrency', 'USD'),\n",
       "      ('StandardError', 114.02575568437308),\n",
       "      ('CashToSettleToday', 0.0)])"
      ]
     },
     "execution_count": 14,
     "metadata": {},
     "output_type": "execute_result"
    }
   ],
   "source": [
    "#как есть \n",
    "\n",
    "ps_utils.switch_to_dev()         \n",
    "r=ps_utils.pricing.XVA(ps.get('1a4922bfb4665f46cc3cce27f533e4b6843e9fbd')[0])\n",
    "# r.Queries.append('LegBCVA')\n",
    "# r.Queries.append('LegPresentValues')\n",
    "\n",
    "r.Model.TypeName='HybridCheyette1FactorMCLocalVolatilityModel'\n",
    "r.Model.LocalVolatilityMinimum=1e-13\n",
    "r.Model.CalibrationFrequencyInDays=30\n",
    "r.Model.LocalVolNumberOfTimeStepsPerYear=250\n",
    "r.Model.MonteCarloMaxStepInHours=24\n",
    "\n",
    "# r.NumberOfPaths=700000\n",
    "# r.Model.AmericanMonteCarloNumberOfPaths=2000\n",
    "\n",
    "#r.Model.TypeName='HybridCheyette1FactorANLocalVolatilityModel'\n",
    "\n",
    "new_credit_values = {'RUB_SBER_OFZ_SNR_CR': 0.7, 'RUB_MINFIN_OFZ': 1.30}\n",
    "for cr_curve, cr_value in new_credit_values.items():\n",
    "    r.Model.MarketDataSet.CreditCurves[cr_curve].RatesSchedule.Rates = [cr_value / 0.75] * \\\n",
    "                                                                       len(r.Model.MarketDataSet.CreditCurves[\n",
    "                                                                               cr_curve].RatesSchedule.Rates)\n",
    "\n",
    "mas=r.Product.NettingSets[0].MarginSets[0].Products\n",
    "\n",
    "prem=mas[1].RollingPremiums\n",
    "\n",
    "newprem=[]\n",
    "for i in range(len(prem)):\n",
    "    if (i>=9):\n",
    "        newprem.append(6.13/6.07*prem[i])\n",
    "    else:\n",
    "        newprem.append(prem[i])\n",
    "\n",
    "r.Product.NettingSets[0].MarginSets[0].Products=[mas[1]]\n",
    "r.Product.NettingSets[0].MarginSets[0].Products[0].RollingPremiums=newprem\n",
    "    \n",
    "z=r.price(algo_id='0534e2d4a32283b9777c8d6a640bd1c1c9470ec7')\n",
    "\n",
    "z\n",
    "\n",
    "\n"
   ]
  },
  {
   "cell_type": "code",
   "execution_count": 8,
   "metadata": {},
   "outputs": [
    {
     "data": {
      "text/plain": [
       "1770"
      ]
     },
     "execution_count": 8,
     "metadata": {},
     "output_type": "execute_result"
    }
   ],
   "source": [
    "(1969-199)"
   ]
  },
  {
   "cell_type": "code",
   "execution_count": 15,
   "metadata": {},
   "outputs": [
    {
     "data": {
      "text/plain": [
       "1809"
      ]
     },
     "execution_count": 15,
     "metadata": {},
     "output_type": "execute_result"
    }
   ],
   "source": [
    "43049-41240"
   ]
  },
  {
   "cell_type": "markdown",
   "metadata": {},
   "source": [
    "# Женя Васин норникель 13 рейтинг крос AEDRUB"
   ]
  },
  {
   "cell_type": "code",
   "execution_count": 29,
   "metadata": {},
   "outputs": [
    {
     "name": "stderr",
     "output_type": "stream",
     "text": [
      "[INFO] 2023-11-02 14:05:32,458 - Nothing to do: current environment is already dev\n",
      "[INFO] 2023-11-02 14:05:33,989 - Compute:d16c3205a8e1d7e1842395f2ea62b6007896f86c->fd30168e5b4f5eda224b0b3dc83a392ef1d0d672\n"
     ]
    },
    {
     "data": {
      "text/plain": [
       "Dict([('BCVA', -87573.21470555157),\n",
       "      ('CVA', -102876.30652836987),\n",
       "      ('DVA', 15303.091822818293),\n",
       "      ('ProductValue', 1952895.1945933849),\n",
       "      ('ReportingCurrency', 'USD'),\n",
       "      ('StandardError', 43688.44200850977),\n",
       "      ('CashToSettleToday', 0.0)])"
      ]
     },
     "execution_count": 29,
     "metadata": {},
     "output_type": "execute_result"
    }
   ],
   "source": [
    "#как есть \n",
    "\n",
    "ps_utils.switch_to_dev()         \n",
    "r=ps_utils.pricing.XVA(ps.get('4ba9639b3e3606a309808bb2e6031e3dd3f196c3')[0])\n",
    "# r.Queries.append('LegBCVA')\n",
    "# r.Queries.append('LegPresentValues')\n",
    "\n",
    "# r.Model.TypeName='HybridCheyette1FactorMCLocalVolatilityModel'\n",
    "# r.Model.LocalVolatilityMinimum=1e-13\n",
    "# r.Model.CalibrationFrequencyInDays=30\n",
    "# r.Model.LocalVolNumberOfTimeStepsPerYear=250\n",
    "# r.Model.MonteCarloMaxStepInHours=24\n",
    "\n",
    "# r.NumberOfPaths=700000\n",
    "# r.Model.AmericanMonteCarloNumberOfPaths=2000\n",
    "\n",
    "#r.Model.TypeName='HybridCheyette1FactorANLocalVolatilityModel'\n",
    "\n",
    "new_credit_values = {'RUB_SBER_OFZ_SNR_CR': 0.7, 'RUB_MINFIN_OFZ': 1.30}\n",
    "for cr_curve, cr_value in new_credit_values.items():\n",
    "    r.Model.MarketDataSet.CreditCurves[cr_curve].RatesSchedule.Rates = [cr_value / 0.75] * \\\n",
    "                                                                       len(r.Model.MarketDataSet.CreditCurves[\n",
    "                                                                               cr_curve].RatesSchedule.Rates)\n",
    "r.Model.CalibrationUnderlyings['AED']='AED_FX'  \n",
    "\n",
    "    \n",
    "z=r.price(algo_id='0534e2d4a32283b9777c8d6a640bd1c1c9470ec7')\n",
    "\n",
    "z\n",
    "\n",
    "\n"
   ]
  },
  {
   "cell_type": "code",
   "execution_count": 30,
   "metadata": {},
   "outputs": [
    {
     "name": "stderr",
     "output_type": "stream",
     "text": [
      "[INFO] 2023-11-02 14:06:36,448 - Compute:9cac1a417d6deb874be1e7d1955c0d3a07126fb1->e18bb63c592a99b62d0e58f42cd0415bc30b0282\n"
     ]
    }
   ],
   "source": [
    "z=r.run_xva_breakdown(show=True)"
   ]
  },
  {
   "cell_type": "code",
   "execution_count": 31,
   "metadata": {},
   "outputs": [
    {
     "name": "stderr",
     "output_type": "stream",
     "text": [
      "[INFO] 2023-11-02 14:07:33,555 - Nothing to do: current environment is already dev\n",
      "[INFO] 2023-11-02 14:07:34,615 - Compute:a34f3bc59bcb2dd808a8b948a6571259df9deca7->f23fba965f9c7a877bd36f03a47cced2906b476d\n"
     ]
    },
    {
     "name": "stdout",
     "output_type": "stream",
     "text": [
      "PV= 1950022.1279349178\n",
      "Unexpected item: ProductValue\n",
      "Unexpected item: ReportingCurrency\n",
      "Unexpected item: StandardError\n",
      "Unexpected item: CashToSettleToday\n",
      "Unexpected item: BCVA\n"
     ]
    },
    {
     "data": {
      "text/html": [
       "<div>\n",
       "<style scoped>\n",
       "    .dataframe tbody tr th:only-of-type {\n",
       "        vertical-align: middle;\n",
       "    }\n",
       "\n",
       "    .dataframe tbody tr th {\n",
       "        vertical-align: top;\n",
       "    }\n",
       "\n",
       "    .dataframe thead th {\n",
       "        text-align: right;\n",
       "    }\n",
       "</style>\n",
       "<table border=\"1\" class=\"dataframe\">\n",
       "  <thead>\n",
       "    <tr style=\"text-align: right;\">\n",
       "      <th></th>\n",
       "      <th></th>\n",
       "      <th>CVA</th>\n",
       "      <th>DVA</th>\n",
       "      <th>BCVA</th>\n",
       "    </tr>\n",
       "  </thead>\n",
       "  <tbody>\n",
       "    <tr>\n",
       "      <th>VA</th>\n",
       "      <th>VA</th>\n",
       "      <td>-97,799.71</td>\n",
       "      <td>26,028.49</td>\n",
       "      <td>-71,771.22</td>\n",
       "    </tr>\n",
       "    <tr>\n",
       "      <th rowspan=\"2\" valign=\"top\">ParallelInterestRatesVega</th>\n",
       "      <th>AED_FX</th>\n",
       "      <td>-0.15</td>\n",
       "      <td>0.18</td>\n",
       "      <td>0.03</td>\n",
       "    </tr>\n",
       "    <tr>\n",
       "      <th>RUB_KEY_RATE</th>\n",
       "      <td>-1.90</td>\n",
       "      <td>1.20</td>\n",
       "      <td>-0.70</td>\n",
       "    </tr>\n",
       "    <tr>\n",
       "      <th>ParallelForeignExchangeVega</th>\n",
       "      <th>AEDRUB</th>\n",
       "      <td>-3,853.96</td>\n",
       "      <td>2,381.20</td>\n",
       "      <td>-1,472.76</td>\n",
       "    </tr>\n",
       "    <tr>\n",
       "      <th rowspan=\"2\" valign=\"top\">ParallelCreditDelta</th>\n",
       "      <th>RUB_MINFIN_OFZ</th>\n",
       "      <td>-495.43</td>\n",
       "      <td>0.00</td>\n",
       "      <td>-495.43</td>\n",
       "    </tr>\n",
       "    <tr>\n",
       "      <th>RUB_SBER_OFZ_SNR_CR</th>\n",
       "      <td>0.00</td>\n",
       "      <td>215.61</td>\n",
       "      <td>215.61</td>\n",
       "    </tr>\n",
       "    <tr>\n",
       "      <th rowspan=\"5\" valign=\"top\">ParallelRho</th>\n",
       "      <th>AED_FX</th>\n",
       "      <td>96.36</td>\n",
       "      <td>30.49</td>\n",
       "      <td>126.85</td>\n",
       "    </tr>\n",
       "    <tr>\n",
       "      <th>RUB_KEY_RATE</th>\n",
       "      <td>-0.75</td>\n",
       "      <td>0.47</td>\n",
       "      <td>-0.28</td>\n",
       "    </tr>\n",
       "    <tr>\n",
       "      <th>RUB_RUONIA_OIS</th>\n",
       "      <td>9.32</td>\n",
       "      <td>-2.13</td>\n",
       "      <td>7.19</td>\n",
       "    </tr>\n",
       "    <tr>\n",
       "      <th>RUB_SOFR</th>\n",
       "      <td>-96.30</td>\n",
       "      <td>-30.53</td>\n",
       "      <td>-126.83</td>\n",
       "    </tr>\n",
       "    <tr>\n",
       "      <th>USD_SOFR</th>\n",
       "      <td>-0.00</td>\n",
       "      <td>0.00</td>\n",
       "      <td>-0.00</td>\n",
       "    </tr>\n",
       "    <tr>\n",
       "      <th rowspan=\"3\" valign=\"top\">CurrencyExposure</th>\n",
       "      <th>AED</th>\n",
       "      <td>-1,087,366.53</td>\n",
       "      <td>-344,711.05</td>\n",
       "      <td>-1,432,077.57</td>\n",
       "    </tr>\n",
       "    <tr>\n",
       "      <th>RUB</th>\n",
       "      <td>989,566.82</td>\n",
       "      <td>370,739.54</td>\n",
       "      <td>1,360,306.35</td>\n",
       "    </tr>\n",
       "    <tr>\n",
       "      <th>USD</th>\n",
       "      <td>-0.00</td>\n",
       "      <td>0.00</td>\n",
       "      <td>-0.00</td>\n",
       "    </tr>\n",
       "  </tbody>\n",
       "</table>\n",
       "</div>"
      ],
      "text/plain": [
       "                                                          CVA         DVA  \\\n",
       "VA                          VA                     -97,799.71   26,028.49   \n",
       "ParallelInterestRatesVega   AED_FX                      -0.15        0.18   \n",
       "                            RUB_KEY_RATE                -1.90        1.20   \n",
       "ParallelForeignExchangeVega AEDRUB                  -3,853.96    2,381.20   \n",
       "ParallelCreditDelta         RUB_MINFIN_OFZ            -495.43        0.00   \n",
       "                            RUB_SBER_OFZ_SNR_CR          0.00      215.61   \n",
       "ParallelRho                 AED_FX                      96.36       30.49   \n",
       "                            RUB_KEY_RATE                -0.75        0.47   \n",
       "                            RUB_RUONIA_OIS               9.32       -2.13   \n",
       "                            RUB_SOFR                   -96.30      -30.53   \n",
       "                            USD_SOFR                    -0.00        0.00   \n",
       "CurrencyExposure            AED                 -1,087,366.53 -344,711.05   \n",
       "                            RUB                    989,566.82  370,739.54   \n",
       "                            USD                         -0.00        0.00   \n",
       "\n",
       "                                                         BCVA  \n",
       "VA                          VA                     -71,771.22  \n",
       "ParallelInterestRatesVega   AED_FX                       0.03  \n",
       "                            RUB_KEY_RATE                -0.70  \n",
       "ParallelForeignExchangeVega AEDRUB                  -1,472.76  \n",
       "ParallelCreditDelta         RUB_MINFIN_OFZ            -495.43  \n",
       "                            RUB_SBER_OFZ_SNR_CR        215.61  \n",
       "ParallelRho                 AED_FX                     126.85  \n",
       "                            RUB_KEY_RATE                -0.28  \n",
       "                            RUB_RUONIA_OIS               7.19  \n",
       "                            RUB_SOFR                  -126.83  \n",
       "                            USD_SOFR                    -0.00  \n",
       "CurrencyExposure            AED                 -1,432,077.57  \n",
       "                            RUB                  1,360,306.35  \n",
       "                            USD                         -0.00  "
      ]
     },
     "execution_count": 31,
     "metadata": {},
     "output_type": "execute_result"
    }
   ],
   "source": [
    "#6\n",
    "\n",
    "ps_utils.switch_to_dev()\n",
    "           \n",
    "r=ps_utils.pricing.XVA(ps.get('4ba9639b3e3606a309808bb2e6031e3dd3f196c3')[0])\n",
    "#r.Model.MarketDataSet='f0fd133994799ffc6aeeeceb85f501b27d321afb'\n",
    "# r.set_queries([\"ProductValue\",\"ParallelInterestRatesVega\",\"ParallelForeignExchangeVega\",\n",
    "#                \"ParallelCreditDelta\",\"ParallelRho\",\"CurrencyExposure\"])\n",
    "r.set_queries([\"ProductValue\",\"CVA\",\"DVA\",\"BCVA\",\"CVA_ParallelInterestRatesVega\",\"DVA_ParallelInterestRatesVega\",\"CVA_ParallelForeignExchangeVega\",\"DVA_ParallelForeignExchangeVega\",\"CVA_ParallelCreditDelta\",\"DVA_ParallelCreditDelta\",\"CVA_ParallelRho\",\"DVA_ParallelRho\",\"CVA_CurrencyExposure\",\"DVA_CurrencyExposure\"])\n",
    "\n",
    "\n",
    "#r.Model.TypeName='HybridCheyette1FactorANLocalVolatilityModel'\n",
    "\n",
    "# r.Product.pop('CounterpartyCreditRating')\n",
    "# r.Product.CounterpartyCreditCurveIdentifier='RUB_CHMF_OFZ_SNR_CR'\n",
    "\n",
    "# new_credit_values = {'RUB_SBER_OFZ_SNR_CR': 0.7, 'RUB_MINFIN_OFZ': 1.3}\n",
    "# for cr_curve, cr_value in new_credit_values.items():\n",
    "#     r.Model.MarketDataSet.CreditCurves[cr_curve].RatesSchedule.Rates = [cr_value / 0.75] * \\\n",
    "#                                                                        len(r.Model.MarketDataSet.CreditCurves[\n",
    "#                                                                                cr_curve].RatesSchedule.Rates)\n",
    "\n",
    "#r.Product.NettingSets[0].MarginSets[0].Products.pop(0)\n",
    "\n",
    "r.Model.CalibrationUnderlyings['AED']='AED_FX'  \n",
    "\n",
    "z=r.price(algo_id='0534e2d4a32283b9777c8d6a640bd1c1c9470ec7')\n",
    "get_bcva_df(z)\n"
   ]
  },
  {
   "cell_type": "code",
   "execution_count": 35,
   "metadata": {},
   "outputs": [
    {
     "data": {
      "text/plain": [
       "15.345064919005813"
      ]
     },
     "execution_count": 35,
     "metadata": {},
     "output_type": "execute_result"
    }
   ],
   "source": [
    "bcva=87573 + 1432077*0.02 + 495*7 + 1472*3\n",
    "bcva/8087"
   ]
  },
  {
   "cell_type": "markdown",
   "metadata": {},
   "source": [
    "# Паша AAARU 11 рейтинг рестракт "
   ]
  },
  {
   "cell_type": "code",
   "execution_count": 37,
   "metadata": {},
   "outputs": [
    {
     "name": "stderr",
     "output_type": "stream",
     "text": [
      "[INFO] 2023-11-02 15:11:36,643 - Nothing to do: current environment is already dev\n",
      "[INFO] 2023-11-02 15:11:43,510 - Compute:fa5a66c4299cbf870c0c763e144a5ef9bcc4c296->415b48eaf86d1388ffbf81865bcabb43680f3546\n"
     ]
    },
    {
     "data": {
      "text/plain": [
       "Dict([('BCVA', -15.930227351342525),\n",
       "      ('LegBCVA', [0.7101488211198017, -32.1438853656397]),\n",
       "      ('Legs',\n",
       "       [867d39624db1a2485169c454c3338d5c1e386ab1,\n",
       "        8a4e464ae2d843d205210fc5dbe99f9adfa7a0d4]),\n",
       "      ('CVA', -23.704523126902746),\n",
       "      ('DVA', 7.774295775560221),\n",
       "      ('LegPresentValues', [-5296.315740351745, -1254.1856069746623]),\n",
       "      ('ProductValue', -6550.501347326403),\n",
       "      ('ReportingCurrency', 'USD'),\n",
       "      ('StandardError', 24.106961453124132),\n",
       "      ('CashToSettleToday', 0.0)])"
      ]
     },
     "execution_count": 37,
     "metadata": {},
     "output_type": "execute_result"
    }
   ],
   "source": [
    "#как есть \n",
    "\n",
    "ps_utils.switch_to_dev()         \n",
    "r=ps_utils.pricing.XVA(ps.get('a807738ad849563a1cd60ba0176528213d386066')[0])\n",
    "# r.Queries.append('LegBCVA')\n",
    "# r.Queries.append('LegPresentValues')\n",
    "\n",
    "r.Model.TypeName='HybridCheyette1FactorMCLocalVolatilityModel'\n",
    "r.Model.LocalVolatilityMinimum=1e-13\n",
    "r.Model.CalibrationFrequencyInDays=30\n",
    "r.Model.LocalVolNumberOfTimeStepsPerYear=250\n",
    "r.Model.MonteCarloMaxStepInHours=24\n",
    "\n",
    "# r.NumberOfPaths=700000\n",
    "# r.Model.AmericanMonteCarloNumberOfPaths=2000\n",
    "\n",
    "#r.Model.TypeName='HybridCheyette1FactorANLocalVolatilityModel'\n",
    "\n",
    "new_credit_values = {'RUB_SBER_OFZ_SNR_CR': 0.7, 'RUB_MINFIN_OFZ': 1.30}\n",
    "for cr_curve, cr_value in new_credit_values.items():\n",
    "    r.Model.MarketDataSet.CreditCurves[cr_curve].RatesSchedule.Rates = [cr_value / 0.75] * \\\n",
    "                                                                       len(r.Model.MarketDataSet.CreditCurves[\n",
    "                                                                               cr_curve].RatesSchedule.Rates)\n",
    "\n",
    "#mas=r.Product.NettingSets[0].MarginSets[0].Products\n",
    "\n",
    "# prem=mas[3].RollingPremiums\n",
    "\n",
    "# newprem=[]\n",
    "# for i in range(len(prem)):\n",
    "#     if (i>=8 and i<=22):\n",
    "#         newprem.append(4.214/4.2*prem[i])\n",
    "#     else:\n",
    "#         newprem.append(prem[i])\n",
    "\n",
    "#r.Product.NettingSets[0].MarginSets[0].Products=[mas[0]]\n",
    "# r.Product.NettingSets[0].MarginSets[0].Products[0].RollingPremiums=newprem\n",
    "    \n",
    "z=r.price(algo_id='0534e2d4a32283b9777c8d6a640bd1c1c9470ec7')\n",
    "\n",
    "z\n",
    "\n",
    "\n"
   ]
  },
  {
   "cell_type": "code",
   "execution_count": 50,
   "metadata": {},
   "outputs": [
    {
     "name": "stderr",
     "output_type": "stream",
     "text": [
      "[INFO] 2023-11-02 15:39:06,935 - Nothing to do: current environment is already dev\n"
     ]
    },
    {
     "name": "stdout",
     "output_type": "stream",
     "text": [
      "[138698.63013698, 221917.808219185, 229315.068493152, 221917.808219185, 228809.791152029, 228688.52459017, 29508.1967212951, 161372.95081966, 200102.459016399, 32274.5901639165, 138319.672131137, 27663.9344262142, 119877.049180317, 27663.9344262419, 66393.4426229473, 13831.9672131071, 47950.8196721268, 7377.0491803238]\n",
      "[138698.63013698, 221917.808219185, 229315.068493152, 611506.8493150875, 630498.0911744799, 630163.9344262462, 81311.47540979093, 444672.1311475076, 551393.4426229661, 88934.4262294588, 381147.5409835775, 76229.50819667913, 330327.8688524291, 76229.50819675546, 182950.81967212146, 38114.75409833957, 132131.14754097164, 20327.868852447806]\n"
     ]
    },
    {
     "name": "stderr",
     "output_type": "stream",
     "text": [
      "[INFO] 2023-11-02 15:39:07,224 - Compute:9b08d3d967cc6caff0ac134088254b8e94b12290->bb2b48c3d67ffa45d8043eb304dcb538c435d98d\n"
     ]
    },
    {
     "data": {
      "text/plain": [
       "Dict([('BCVA', -30.67480173827159),\n",
       "      ('LegBCVA', [-30.67480173827159]),\n",
       "      ('Legs', [cafc2261d6b199472547896c43f89653f0c822dd]),\n",
       "      ('CVA', -39.167403164936246),\n",
       "      ('DVA', 8.492601426664654),\n",
       "      ('LegPresentValues', [-2513.3496646632316]),\n",
       "      ('ProductValue', -2513.3496646632316),\n",
       "      ('ReportingCurrency', 'USD'),\n",
       "      ('StandardError', 33.42579652264224),\n",
       "      ('CashToSettleToday', 0.0)])"
      ]
     },
     "execution_count": 50,
     "metadata": {},
     "output_type": "execute_result"
    }
   ],
   "source": [
    "#как есть \n",
    "\n",
    "ps_utils.switch_to_dev()         \n",
    "r=ps_utils.pricing.XVA(ps.get('66458eef68a69a1991a3267e565d051653b46017'))\n",
    "# r.Queries.append('LegBCVA')\n",
    "# r.Queries.append('LegPresentValues')\n",
    "\n",
    "r.Model.TypeName='HybridCheyette1FactorMCLocalVolatilityModel'\n",
    "r.Model.LocalVolatilityMinimum=1e-13\n",
    "r.Model.CalibrationFrequencyInDays=30\n",
    "r.Model.LocalVolNumberOfTimeStepsPerYear=250\n",
    "r.Model.MonteCarloMaxStepInHours=24\n",
    "\n",
    "# r.NumberOfPaths=700000\n",
    "# r.Model.AmericanMonteCarloNumberOfPaths=2000\n",
    "\n",
    "#r.Model.TypeName='HybridCheyette1FactorANLocalVolatilityModel'\n",
    "\n",
    "new_credit_values = {'RUB_SBER_OFZ_SNR_CR': 0.7, 'RUB_MINFIN_OFZ': 1.30}\n",
    "for cr_curve, cr_value in new_credit_values.items():\n",
    "    r.Model.MarketDataSet.CreditCurves[cr_curve].RatesSchedule.Rates = [cr_value / 0.75] * \\\n",
    "                                                                       len(r.Model.MarketDataSet.CreditCurves[\n",
    "                                                                               cr_curve].RatesSchedule.Rates)\n",
    "\n",
    "mas=r.Product.NettingSets[0].MarginSets[0].Products\n",
    "\n",
    "prem=mas[0].RollingPremiums\n",
    "barriers=mas[0].UpBarrierLevels\n",
    "\n",
    "newprem=[]\n",
    "newbarriers=[]\n",
    "for i in range(len(prem)):\n",
    "    if (i>=3):\n",
    "        newprem.append(3.72/1.35*prem[i])\n",
    "        newbarriers.append(0.2025)\n",
    "    else:\n",
    "        newprem.append(prem[i])\n",
    "        newbarriers.append(barriers[i])\n",
    "\n",
    "#r.Product.NettingSets[0].MarginSets[0].Products=[mas[0]]\n",
    "print(prem)\n",
    "print(newprem)\n",
    "\n",
    "r.Product.NettingSets[0].MarginSets[0].Products[0].RollingPremiums=newprem\n",
    "r.Product.NettingSets[0].MarginSets[0].Products[0].UpBarrierLevels=newbarriers\n",
    "    \n",
    "z=r.price(algo_id='0534e2d4a32283b9777c8d6a640bd1c1c9470ec7')\n",
    "\n",
    "z\n",
    "\n",
    "\n"
   ]
  },
  {
   "cell_type": "markdown",
   "metadata": {},
   "source": [
    "# Паша INNNS restruct 9 рейтинг "
   ]
  },
  {
   "cell_type": "code",
   "execution_count": 52,
   "metadata": {},
   "outputs": [
    {
     "name": "stderr",
     "output_type": "stream",
     "text": [
      "[INFO] 2023-11-02 18:17:58,682 - Nothing to do: current environment is already dev\n",
      "[INFO] 2023-11-02 18:17:59,662 - Compute:f7ef6418340efe0409e649137c8bbdcf89b99965->1359a96e2b87935c069a11ed161e2155b683bfb8\n"
     ]
    },
    {
     "data": {
      "text/plain": [
       "Dict([('BCVA', -1099.3387490083387),\n",
       "      ('LegBCVA', [-567.056969680707, -532.2949121279298]),\n",
       "      ('Legs',\n",
       "       [021ce60d85266e29e638ba0169089c5ce857b1ab,\n",
       "        399b78750d56f9552952cecee1cdb11b0688e955]),\n",
       "      ('CVA', -15092.050837205683),\n",
       "      ('DVA', 13992.712088197344),\n",
       "      ('LegPresentValues', [-205770.61362198202, -206934.4653866034]),\n",
       "      ('ProductValue', -412705.0790085858),\n",
       "      ('ReportingCurrency', 'USD'),\n",
       "      ('StandardError', 4258.446577170228),\n",
       "      ('CashToSettleToday', 0.0)])"
      ]
     },
     "execution_count": 52,
     "metadata": {},
     "output_type": "execute_result"
    }
   ],
   "source": [
    "#как есть \n",
    "\n",
    "ps_utils.switch_to_dev()         \n",
    "r=ps_utils.pricing.XVA(ps.get('570e5463cc919c461b2adf96445ff0fc249a3f87')[0])\n",
    "# r.Queries.append('LegBCVA')\n",
    "# r.Queries.append('LegPresentValues')\n",
    "\n",
    "r.Model.TypeName='HybridCheyette1FactorMCLocalVolatilityModel'\n",
    "r.Model.LocalVolatilityMinimum=1e-13\n",
    "r.Model.CalibrationFrequencyInDays=30\n",
    "r.Model.LocalVolNumberOfTimeStepsPerYear=250\n",
    "r.Model.MonteCarloMaxStepInHours=24\n",
    "\n",
    "# r.NumberOfPaths=700000\n",
    "# r.Model.AmericanMonteCarloNumberOfPaths=2000\n",
    "\n",
    "#r.Model.TypeName='HybridCheyette1FactorANLocalVolatilityModel'\n",
    "\n",
    "# new_credit_values = {'RUB_SBER_OFZ_SNR_CR': 0.7, 'RUB_MINFIN_OFZ': 1.30}\n",
    "# for cr_curve, cr_value in new_credit_values.items():\n",
    "#     r.Model.MarketDataSet.CreditCurves[cr_curve].RatesSchedule.Rates = [cr_value / 0.75] * \\\n",
    "#                                                                        len(r.Model.MarketDataSet.CreditCurves[\n",
    "#                                                                                cr_curve].RatesSchedule.Rates)\n",
    "\n",
    "# mas=r.Product.NettingSets[0].MarginSets[0].Products\n",
    "\n",
    "# prem=mas[0].RollingPremiums\n",
    "# barriers=mas[0].UpBarrierLevels\n",
    "\n",
    "# newprem=[]\n",
    "# newbarriers=[]\n",
    "# for i in range(len(prem)):\n",
    "#     if (i>=3):\n",
    "#         newprem.append(3.72/1.35*prem[i])\n",
    "#         newbarriers.append(0.2025)\n",
    "#     else:\n",
    "#         newprem.append(prem[i])\n",
    "#         newbarriers.append(barriers[i])\n",
    "\n",
    "# #r.Product.NettingSets[0].MarginSets[0].Products=[mas[0]]\n",
    "# print(prem)\n",
    "# print(newprem)\n",
    "\n",
    "# r.Product.NettingSets[0].MarginSets[0].Products[0].RollingPremiums=newprem\n",
    "# r.Product.NettingSets[0].MarginSets[0].Products[0].UpBarrierLevels=newbarriers\n",
    "    \n",
    "z=r.price(algo_id='0534e2d4a32283b9777c8d6a640bd1c1c9470ec7')\n",
    "\n",
    "z\n",
    "\n",
    "\n"
   ]
  },
  {
   "cell_type": "markdown",
   "metadata": {},
   "source": [
    "# 03-11-2023 пятница "
   ]
  },
  {
   "cell_type": "markdown",
   "metadata": {},
   "source": [
    "# Паша SINDE 13 рейтинг снижение номинала "
   ]
  },
  {
   "cell_type": "code",
   "execution_count": 53,
   "metadata": {},
   "outputs": [
    {
     "name": "stderr",
     "output_type": "stream",
     "text": [
      "[INFO] 2023-11-03 10:59:03,779 - Nothing to do: current environment is already dev\n",
      "[INFO] 2023-11-03 10:59:07,543 - Compute:5a374ee10ff8b8b170f6c70c5efeb0eabd540389->df4a380dc9d2ce067250d3783887ebcad3fad219\n"
     ]
    },
    {
     "data": {
      "text/plain": [
       "Dict([('BCVA', -61.918744613946764),\n",
       "      ('LegBCVA',\n",
       "       [-4.2046274298462425,\n",
       "        -36.58172046561855,\n",
       "        -2.1967750420815495,\n",
       "        -19.11270661373298]),\n",
       "      ('Legs',\n",
       "       [aeae4ceb0eb39200416385e62822e51fdfbdf587,\n",
       "        a393b5f3f7b852d0035548f15908f51410fc9487,\n",
       "        4f8248505eecb63100b99a3a8cd6fae3ac64fb96,\n",
       "        5277d77a398b7b304d8d582397a0301e681f2265]),\n",
       "      ('CVA', -61.9194681612989),\n",
       "      ('DVA', 0.0007235473521397763),\n",
       "      ('LegPresentValues',\n",
       "       [457.70917822415413,\n",
       "        4366.243451678456,\n",
       "        239.13750165723422,\n",
       "        2281.2139239980097]),\n",
       "      ('ProductValue', 7344.30405555787),\n",
       "      ('ReportingCurrency', 'USD'),\n",
       "      ('StandardError', 10.451835606048059),\n",
       "      ('CashToSettleToday', 0.0)])"
      ]
     },
     "execution_count": 53,
     "metadata": {},
     "output_type": "execute_result"
    }
   ],
   "source": [
    "#как есть \n",
    "\n",
    "ps_utils.switch_to_dev()         \n",
    "r=ps_utils.pricing.XVA(ps.get('07bc3827e892234ff24f9f97210cc3d5afd0d66f')[0])\n",
    "# r.Queries.append('LegBCVA')\n",
    "# r.Queries.append('LegPresentValues')\n",
    "\n",
    "r.Model.TypeName='HybridCheyette1FactorMCLocalVolatilityModel'\n",
    "r.Model.LocalVolatilityMinimum=1e-13\n",
    "r.Model.CalibrationFrequencyInDays=30\n",
    "r.Model.LocalVolNumberOfTimeStepsPerYear=250\n",
    "r.Model.MonteCarloMaxStepInHours=24\n",
    "\n",
    "# r.NumberOfPaths=700000\n",
    "# r.Model.AmericanMonteCarloNumberOfPaths=2000\n",
    "\n",
    "#r.Model.TypeName='HybridCheyette1FactorANLocalVolatilityModel'\n",
    "\n",
    "new_credit_values = {'RUB_SBER_OFZ_SNR_CR': 0.7, 'RUB_MINFIN_OFZ': 1.30}\n",
    "for cr_curve, cr_value in new_credit_values.items():\n",
    "    r.Model.MarketDataSet.CreditCurves[cr_curve].RatesSchedule.Rates = [cr_value / 0.75] * \\\n",
    "                                                                       len(r.Model.MarketDataSet.CreditCurves[\n",
    "                                                                               cr_curve].RatesSchedule.Rates)\n",
    "\n",
    "# mas=r.Product.NettingSets[0].MarginSets[0].Products\n",
    "\n",
    "# prem=mas[0].RollingPremiums\n",
    "# barriers=mas[0].UpBarrierLevels\n",
    "\n",
    "# newprem=[]\n",
    "# newbarriers=[]\n",
    "# for i in range(len(prem)):\n",
    "#     if (i>=3):\n",
    "#         newprem.append(3.72/1.35*prem[i])\n",
    "#         newbarriers.append(0.2025)\n",
    "#     else:\n",
    "#         newprem.append(prem[i])\n",
    "#         newbarriers.append(barriers[i])\n",
    "\n",
    "# #r.Product.NettingSets[0].MarginSets[0].Products=[mas[0]]\n",
    "# print(prem)\n",
    "# print(newprem)\n",
    "\n",
    "# r.Product.NettingSets[0].MarginSets[0].Products[0].RollingPremiums=newprem\n",
    "# r.Product.NettingSets[0].MarginSets[0].Products[0].UpBarrierLevels=newbarriers\n",
    "    \n",
    "z=r.price(algo_id='0534e2d4a32283b9777c8d6a640bd1c1c9470ec7')\n",
    "\n",
    "z\n",
    "\n",
    "\n"
   ]
  },
  {
   "cell_type": "markdown",
   "metadata": {},
   "source": [
    "# Тема MBKRK 14 рейтинг рестракт "
   ]
  },
  {
   "cell_type": "code",
   "execution_count": 14,
   "metadata": {},
   "outputs": [
    {
     "name": "stderr",
     "output_type": "stream",
     "text": [
      "[INFO] 2023-11-03 12:26:42,306 - Nothing to do: current environment is already dev\n",
      "[INFO] 2023-11-03 12:26:44,264 - Compute:8747ab0c3b9e4b4c0a4ecbcdc63178821336a174->b4f86116b2e5e67c4148a51d6f13f3d3c8c00a2a\n"
     ]
    },
    {
     "data": {
      "text/plain": [
       "Dict([('BCVA', -576556.0241429259),\n",
       "      ('LegBCVA',\n",
       "       [-247276.57551643963,\n",
       "        -79827.25297110374,\n",
       "        -243998.98101283575,\n",
       "        -5453.214642546737]),\n",
       "      ('Legs',\n",
       "       [5d62c4674683df9275b2381ea39c8bc4357885ab,\n",
       "        692856b9ae76ebd02adfd09572b6aa306cf5f702,\n",
       "        56b18499f7462711d9dfdc8beca6ebb4c37138cc,\n",
       "        be0a6ce5f69a7480b1087fb71311425b43d03570]),\n",
       "      ('CVA', -576556.0241429259),\n",
       "      ('DVA', 0.0),\n",
       "      ('LegPresentValues',\n",
       "       [3018487.663489634,\n",
       "        917729.8267396316,\n",
       "        2287776.9687345563,\n",
       "        52378.78818304688]),\n",
       "      ('ProductValue', 6276373.247146872),\n",
       "      ('ReportingCurrency', 'USD'),\n",
       "      ('StandardError', 10027.650234673369),\n",
       "      ('CashToSettleToday', 0.0)])"
      ]
     },
     "execution_count": 14,
     "metadata": {},
     "output_type": "execute_result"
    }
   ],
   "source": [
    "#355 млн в конце  \n",
    "\n",
    "ps_utils.switch_to_dev()         \n",
    "r=ps_utils.pricing.XVA(ps.get('5a2ec0449626c3972352d73f44487207ed13a6fb')[0])\n",
    "# r.Queries.append('LegBCVA')\n",
    "# r.Queries.append('LegPresentValues')\n",
    "\n",
    "r.Model.TypeName='HybridCheyette1FactorMCLocalVolatilityModel'\n",
    "r.Model.LocalVolatilityMinimum=1e-13\n",
    "r.Model.CalibrationFrequencyInDays=30\n",
    "r.Model.LocalVolNumberOfTimeStepsPerYear=250\n",
    "r.Model.MonteCarloMaxStepInHours=24\n",
    "\n",
    "# r.NumberOfPaths=700000\n",
    "# r.Model.AmericanMonteCarloNumberOfPaths=2000\n",
    "\n",
    "#r.Model.TypeName='HybridCheyette1FactorANLocalVolatilityModel'\n",
    "\n",
    "new_credit_values = {'RUB_SBER_OFZ_SNR_CR': 0.7, 'RUB_MINFIN_OFZ': 1.30}\n",
    "for cr_curve, cr_value in new_credit_values.items():\n",
    "    r.Model.MarketDataSet.CreditCurves[cr_curve].RatesSchedule.Rates = [cr_value / 0.75] * \\\n",
    "                                                                       len(r.Model.MarketDataSet.CreditCurves[\n",
    "                                                                               cr_curve].RatesSchedule.Rates)\n",
    "\n",
    "# mas=r.Product.NettingSets[0].MarginSets[0].Products\n",
    "\n",
    "# prem=mas[0].RollingPremiums\n",
    "# barriers=mas[0].UpBarrierLevels\n",
    "\n",
    "# newprem=[]\n",
    "# newbarriers=[]\n",
    "# for i in range(len(prem)):\n",
    "#     if (i>=3):\n",
    "#         newprem.append(3.72/1.35*prem[i])\n",
    "#         newbarriers.append(0.2025)\n",
    "#     else:\n",
    "#         newprem.append(prem[i])\n",
    "#         newbarriers.append(barriers[i])\n",
    "\n",
    "# #r.Product.NettingSets[0].MarginSets[0].Products=[mas[0]]\n",
    "# print(prem)\n",
    "# print(newprem)\n",
    "\n",
    "# r.Product.NettingSets[0].MarginSets[0].Products[0].RollingPremiums=newprem\n",
    "# r.Product.NettingSets[0].MarginSets[0].Products[0].UpBarrierLevels=newbarriers\n",
    "\n",
    "#r.Product.NettingSets.pop(1)\n",
    "\n",
    "r.Product.NettingSets[0].MarginSets[0].Products.append('56b18499f7462711d9dfdc8beca6ebb4c37138cc')\n",
    "r.Product.NettingSets[0].MarginSets[0].Products.append('be0a6ce5f69a7480b1087fb71311425b43d03570')\n",
    "\n",
    "r.Product.NettingSets[0].MarginSets[0].Products[0].UseRateAveragingApproximation=False\n",
    "    \n",
    "z=r.price(algo_id='0534e2d4a32283b9777c8d6a640bd1c1c9470ec7')\n",
    "\n",
    "z\n",
    "\n",
    "\n"
   ]
  },
  {
   "cell_type": "code",
   "execution_count": 15,
   "metadata": {},
   "outputs": [
    {
     "name": "stdout",
     "output_type": "stream",
     "text": [
      "82002\n"
     ]
    },
    {
     "data": {
      "text/plain": [
       "7609375.59"
      ]
     },
     "execution_count": 15,
     "metadata": {},
     "output_type": "execute_result"
    }
   ],
   "source": [
    "charge=(79827+243998+5453-247276)\n",
    "print(charge)\n",
    "charge*r.Model.MarketDataSet.Spots['USDRUB']"
   ]
  },
  {
   "cell_type": "code",
   "execution_count": 32,
   "metadata": {},
   "outputs": [
    {
     "name": "stderr",
     "output_type": "stream",
     "text": [
      "[INFO] 2023-11-03 14:12:51,049 - Nothing to do: current environment is already dev\n",
      "[INFO] 2023-11-03 14:12:52,121 - Compute:95554b7bd0524483bee554e414197378c05b16e0->1dd1e052339a63c5a8ce51e143375b4d066447ec\n"
     ]
    },
    {
     "data": {
      "text/plain": [
       "Dict([('BCVA', -615714.5634915319),\n",
       "      ('LegBCVA',\n",
       "       [-247276.57551643963,\n",
       "        -79827.25297110374,\n",
       "        -280416.73937296047,\n",
       "        -8193.995631028063]),\n",
       "      ('Legs',\n",
       "       [5d62c4674683df9275b2381ea39c8bc4357885ab,\n",
       "        692856b9ae76ebd02adfd09572b6aa306cf5f702,\n",
       "        d569b9141b48c9fd99ca5a2b8855d4d3710a756e,\n",
       "        692c479545b5b895ff7923954b85a417da1c7249]),\n",
       "      ('CVA', -615714.5634915319),\n",
       "      ('DVA', 0.0),\n",
       "      ('LegPresentValues',\n",
       "       [3018487.663489634,\n",
       "        917729.8267396316,\n",
       "        2629236.217799181,\n",
       "        76828.3310411017]),\n",
       "      ('ProductValue', 6642282.03906955),\n",
       "      ('ReportingCurrency', 'USD'),\n",
       "      ('StandardError', 10044.124288600393),\n",
       "      ('CashToSettleToday', 0.0)])"
      ]
     },
     "execution_count": 32,
     "metadata": {},
     "output_type": "execute_result"
    }
   ],
   "source": [
    "#385 млн в конце  \n",
    "\n",
    "ps_utils.switch_to_dev()         \n",
    "r=ps_utils.pricing.XVA(ps.get('5a2ec0449626c3972352d73f44487207ed13a6fb')[0])\n",
    "# r.Queries.append('LegBCVA')\n",
    "# r.Queries.append('LegPresentValues')\n",
    "\n",
    "r.Model.TypeName='HybridCheyette1FactorMCLocalVolatilityModel'\n",
    "r.Model.LocalVolatilityMinimum=1e-13\n",
    "r.Model.CalibrationFrequencyInDays=30\n",
    "r.Model.LocalVolNumberOfTimeStepsPerYear=250\n",
    "r.Model.MonteCarloMaxStepInHours=24\n",
    "\n",
    "# r.NumberOfPaths=700000\n",
    "# r.Model.AmericanMonteCarloNumberOfPaths=2000\n",
    "\n",
    "#r.Model.TypeName='HybridCheyette1FactorANLocalVolatilityModel'\n",
    "\n",
    "new_credit_values = {'RUB_SBER_OFZ_SNR_CR': 0.7, 'RUB_MINFIN_OFZ': 1.30}\n",
    "for cr_curve, cr_value in new_credit_values.items():\n",
    "    r.Model.MarketDataSet.CreditCurves[cr_curve].RatesSchedule.Rates = [cr_value / 0.75] * \\\n",
    "                                                                       len(r.Model.MarketDataSet.CreditCurves[\n",
    "                                                                               cr_curve].RatesSchedule.Rates)\n",
    "\n",
    "# mas=r.Product.NettingSets[0].MarginSets[0].Products\n",
    "\n",
    "# prem=mas[0].RollingPremiums\n",
    "# barriers=mas[0].UpBarrierLevels\n",
    "\n",
    "# newprem=[]\n",
    "# newbarriers=[]\n",
    "# for i in range(len(prem)):\n",
    "#     if (i>=3):\n",
    "#         newprem.append(3.72/1.35*prem[i])\n",
    "#         newbarriers.append(0.2025)\n",
    "#     else:\n",
    "#         newprem.append(prem[i])\n",
    "#         newbarriers.append(barriers[i])\n",
    "\n",
    "# #r.Product.NettingSets[0].MarginSets[0].Products=[mas[0]]\n",
    "# print(prem)\n",
    "# print(newprem)\n",
    "\n",
    "# r.Product.NettingSets[0].MarginSets[0].Products[0].RollingPremiums=newprem\n",
    "# r.Product.NettingSets[0].MarginSets[0].Products[0].UpBarrierLevels=newbarriers\n",
    "\n",
    "#r.Product.NettingSets.pop(1)\n",
    "\n",
    "r.Product.NettingSets[0].MarginSets[0].Products.append('d569b9141b48c9fd99ca5a2b8855d4d3710a756e')\n",
    "r.Product.NettingSets[0].MarginSets[0].Products.append('692c479545b5b895ff7923954b85a417da1c7249')\n",
    "\n",
    "r.Product.NettingSets[0].MarginSets[0].Products[0].UseRateAveragingApproximation=False\n",
    "    \n",
    "z=r.price(algo_id='0534e2d4a32283b9777c8d6a640bd1c1c9470ec7')\n",
    "\n",
    "z\n",
    "\n",
    "\n"
   ]
  },
  {
   "cell_type": "code",
   "execution_count": 27,
   "metadata": {},
   "outputs": [
    {
     "name": "stdout",
     "output_type": "stream",
     "text": [
      "121160\n"
     ]
    },
    {
     "data": {
      "text/plain": [
       "11243042.200000001"
      ]
     },
     "execution_count": 27,
     "metadata": {},
     "output_type": "execute_result"
    }
   ],
   "source": [
    "charge=(79827+280416+8193-247276)\n",
    "print(charge)\n",
    "charge*r.Model.MarketDataSet.Spots['USDRUB']"
   ]
  },
  {
   "cell_type": "code",
   "execution_count": 29,
   "metadata": {},
   "outputs": [
    {
     "data": {
      "text/plain": [
       "167449"
      ]
     },
     "execution_count": 29,
     "metadata": {},
     "output_type": "execute_result"
    }
   ],
   "source": [
    "247276-79827"
   ]
  },
  {
   "cell_type": "code",
   "execution_count": 31,
   "metadata": {},
   "outputs": [
    {
     "data": {
      "text/plain": [
       "181731.63258665538"
      ]
     },
     "execution_count": 31,
     "metadata": {},
     "output_type": "execute_result"
    }
   ],
   "source": [
    "267967.6325866554-86236"
   ]
  },
  {
   "cell_type": "markdown",
   "metadata": {},
   "source": [
    "# Аня крос Илим 12 рейтинг "
   ]
  },
  {
   "cell_type": "code",
   "execution_count": 57,
   "metadata": {},
   "outputs": [
    {
     "name": "stderr",
     "output_type": "stream",
     "text": [
      "[INFO] 2023-11-03 16:05:02,804 - Nothing to do: current environment is already dev\n",
      "[INFO] 2023-11-03 16:05:03,884 - Compute:5c3c547a0965c0587f8722b32dc2e396b31946a4->537df96ba81940dae0284d356acb0ff69c0094d5\n"
     ]
    },
    {
     "data": {
      "text/plain": [
       "Dict([('BCVA', -1578.174616297158),\n",
       "      ('LegBCVA', [-86.40894128439682, -1554.9120231782967]),\n",
       "      ('Legs',\n",
       "       [75c362aaa508c82cf3b6e633ab91f6343e500155,\n",
       "        111827db32716a4a2f57973df204ae848d5efe15]),\n",
       "      ('CVA', -1962.9653770321204),\n",
       "      ('DVA', 384.7907607349623),\n",
       "      ('LegPresentValues', [-205.07825273051822, 197261.999726385]),\n",
       "      ('ProductValue', 197056.92147365457),\n",
       "      ('ReportingCurrency', 'USD'),\n",
       "      ('StandardError', 519.9329273615009),\n",
       "      ('CashToSettleToday', 0.0)])"
      ]
     },
     "execution_count": 57,
     "metadata": {},
     "output_type": "execute_result"
    }
   ],
   "source": [
    "#385 млн в конце  \n",
    "\n",
    "ps_utils.switch_to_dev()         \n",
    "r=ps_utils.pricing.XVA(ps.get('2ec95ccf10367b541b775e38bfdc3889474aa89f')[0])\n",
    "# r.Queries.append('LegBCVA')\n",
    "# r.Queries.append('LegPresentValues')\n",
    "\n",
    "# r.Model.TypeName='HybridCheyette1FactorMCLocalVolatilityModel'\n",
    "# r.Model.LocalVolatilityMinimum=1e-13\n",
    "# r.Model.CalibrationFrequencyInDays=30\n",
    "# r.Model.LocalVolNumberOfTimeStepsPerYear=250\n",
    "# r.Model.MonteCarloMaxStepInHours=24\n",
    "\n",
    "# r.NumberOfPaths=700000\n",
    "# r.Model.AmericanMonteCarloNumberOfPaths=2000\n",
    "\n",
    "r.Model.TypeName='HybridCheyette1FactorANLocalVolatilityModel'\n",
    "\n",
    "r.Model.MarketDataSet.RatesCurvesBundles['RUB_KEY_RATE'].InterpolationMethod='Linear'\n",
    "r.Model.MarketDataSet.RatesCurvesBundles['EUR_XCCY'].InterpolationMethod='Linear'\n",
    "r.Model.MarketDataSet.RatesCurvesBundles['CNH_FX'].InterpolationMethod='Linear'\n",
    "r.Model.MarketDataSet.RatesCurvesBundles['RUB_SOFR'].InterpolationMethod='Linear'\n",
    "r.Model.MarketDataSet.RatesCurvesBundles['USD_SOFR'].InterpolationMethod='Linear'\n",
    "r.Model.MarketDataSet.RatesCurvesBundles['RUB_RUONIA_OIS'].InterpolationMethod='Linear'\n",
    "r.Model.MarketDataSet.RatesCurvesBundles['EUR_EURIBOR_6M'].InterpolationMethod='Linear'\n",
    "r.Model.MarketDataSet.RatesCurvesBundles['EUR_RUB'].InterpolationMethod='Linear'\n",
    "r.Model.MarketDataSet.RatesCurvesBundles['USD_SOFR'].InterpolationMethod='Linear'\n",
    "r.Model.MarketDataSet.RatesCurvesBundles['USD_LIBOR_3M'].InterpolationMethod='Linear'\n",
    "r.Model.MarketDataSet.RatesCurvesBundles['USD_XCCY'].InterpolationMethod='Linear'\n",
    "r.Model.MarketDataSet.RatesCurvesBundles['XAU_USD'].InterpolationMethod='Linear'\n",
    "r.Model.MarketDataSet.RatesCurvesBundles['CNH_SOFR'].InterpolationMethod='Linear'\n",
    "\n",
    "new_credit_values = {'RUB_SBER_OFZ_SNR_CR': 0.7, 'RUB_MINFIN_OFZ': 1.30}\n",
    "for cr_curve, cr_value in new_credit_values.items():\n",
    "    r.Model.MarketDataSet.CreditCurves[cr_curve].RatesSchedule.Rates = [cr_value / 0.75] * \\\n",
    "                                                                       len(r.Model.MarketDataSet.CreditCurves[\n",
    "                                                                               cr_curve].RatesSchedule.Rates)\n",
    "\n",
    "\n",
    "#r.Product.NettingSets[0].MarginSets[0].Products.pop(0)\n",
    "# r.Product.NettingSets[0].MarginSets[0].Products[0].UseRateAveragingApproximation=False\n",
    "\n",
    "#r.Product.NettingSets[0].MarginSets[0].Products=['88bd8d2a539e599b36f0a26554a5f144f4317036']\n",
    "    \n",
    "#z=r.price(algo_id='0534e2d4a32283b9777c8d6a640bd1c1c9470ec7')\n",
    "z=r.price(algo_id='94b781627f848a9bf567caea0521d1472b29d80a')\n",
    "\n",
    "\n",
    "z\n",
    "\n",
    "\n"
   ]
  },
  {
   "cell_type": "code",
   "execution_count": 58,
   "metadata": {},
   "outputs": [
    {
     "name": "stderr",
     "output_type": "stream",
     "text": [
      "[INFO] 2023-11-03 16:05:28,842 - Compute:3ff29be6e2d147cf7e1db24246504ea6cff592f7->81061e4193cb4bbcd120ad8180d064f2cbb7edb9\n"
     ]
    }
   ],
   "source": [
    "z=r.run_xva_breakdown(show=True,algo_id='94b781627f848a9bf567caea0521d1472b29d80a')"
   ]
  },
  {
   "cell_type": "code",
   "execution_count": 51,
   "metadata": {},
   "outputs": [
    {
     "name": "stderr",
     "output_type": "stream",
     "text": [
      "[INFO] 2023-11-03 15:16:32,321 - Compute:0ad09f28528e53830f2b472c84bc491ccef6cbac->2671780c074046f3cb23a43e114825b9d23a8794\n"
     ]
    },
    {
     "data": {
      "text/html": [
       "<div>\n",
       "<style scoped>\n",
       "    .dataframe tbody tr th:only-of-type {\n",
       "        vertical-align: middle;\n",
       "    }\n",
       "\n",
       "    .dataframe tbody tr th {\n",
       "        vertical-align: top;\n",
       "    }\n",
       "\n",
       "    .dataframe thead th {\n",
       "        text-align: right;\n",
       "    }\n",
       "</style>\n",
       "<table border=\"1\" class=\"dataframe\">\n",
       "  <thead>\n",
       "    <tr style=\"text-align: right;\">\n",
       "      <th></th>\n",
       "      <th>Description</th>\n",
       "      <th>Amount</th>\n",
       "      <th>StandardError</th>\n",
       "      <th>Currency</th>\n",
       "      <th>Leg</th>\n",
       "      <th>StatusText</th>\n",
       "    </tr>\n",
       "    <tr>\n",
       "      <th>Date</th>\n",
       "      <th></th>\n",
       "      <th></th>\n",
       "      <th></th>\n",
       "      <th></th>\n",
       "      <th></th>\n",
       "      <th></th>\n",
       "    </tr>\n",
       "  </thead>\n",
       "  <tbody>\n",
       "    <tr>\n",
       "      <th>2025-01-30</th>\n",
       "      <td>Leg1FixedCoupon</td>\n",
       "      <td>27,625.61</td>\n",
       "      <td>1.55</td>\n",
       "      <td>RUB</td>\n",
       "      <td>0</td>\n",
       "      <td>Estimate</td>\n",
       "    </tr>\n",
       "    <tr>\n",
       "      <th>2025-01-30</th>\n",
       "      <td>Leg2FixedCoupon</td>\n",
       "      <td>-10,153.40</td>\n",
       "      <td>5.69</td>\n",
       "      <td>EUR</td>\n",
       "      <td>0</td>\n",
       "      <td>Estimate</td>\n",
       "    </tr>\n",
       "    <tr>\n",
       "      <th>2025-01-30</th>\n",
       "      <td>Leg1FinalNotionalExchangePayment</td>\n",
       "      <td>756,768.15</td>\n",
       "      <td>42.45</td>\n",
       "      <td>RUB</td>\n",
       "      <td>0</td>\n",
       "      <td>Estimate</td>\n",
       "    </tr>\n",
       "    <tr>\n",
       "      <th>2025-01-30</th>\n",
       "      <td>Leg2FinalNotionalExchangePayment</td>\n",
       "      <td>-846,856.45</td>\n",
       "      <td>474.66</td>\n",
       "      <td>EUR</td>\n",
       "      <td>0</td>\n",
       "      <td>Estimate</td>\n",
       "    </tr>\n",
       "  </tbody>\n",
       "</table>\n",
       "</div>"
      ],
      "text/plain": [
       "                                 Description      Amount  StandardError  \\\n",
       "Date                                                                      \n",
       "2025-01-30                   Leg1FixedCoupon   27,625.61           1.55   \n",
       "2025-01-30                   Leg2FixedCoupon  -10,153.40           5.69   \n",
       "2025-01-30  Leg1FinalNotionalExchangePayment  756,768.15          42.45   \n",
       "2025-01-30  Leg2FinalNotionalExchangePayment -846,856.45         474.66   \n",
       "\n",
       "           Currency  Leg StatusText  \n",
       "Date                                 \n",
       "2025-01-30      RUB    0   Estimate  \n",
       "2025-01-30      EUR    0   Estimate  \n",
       "2025-01-30      RUB    0   Estimate  \n",
       "2025-01-30      EUR    0   Estimate  "
      ]
     },
     "execution_count": 51,
     "metadata": {},
     "output_type": "execute_result"
    }
   ],
   "source": [
    "r.get_cashflows(algo_id='0534e2d4a32283b9777c8d6a640bd1c1c9470ec7')"
   ]
  },
  {
   "cell_type": "code",
   "execution_count": 53,
   "metadata": {},
   "outputs": [
    {
     "name": "stderr",
     "output_type": "stream",
     "text": [
      "[INFO] 2023-11-03 15:17:39,362 - Nothing to do: current environment is already dev\n",
      "[INFO] 2023-11-03 15:17:39,961 - Compute:21104ccc39d65bf450084c204451350442317c15->f0a7f9a0865f8af6a3e234032842693024967dfd\n"
     ]
    },
    {
     "name": "stdout",
     "output_type": "stream",
     "text": [
      "PV= 196652.58871773642\n",
      "Unexpected item: ProductValue\n",
      "Unexpected item: ReportingCurrency\n",
      "Unexpected item: StandardError\n",
      "Unexpected item: CashToSettleToday\n",
      "Unexpected item: BCVA\n"
     ]
    },
    {
     "data": {
      "text/html": [
       "<div>\n",
       "<style scoped>\n",
       "    .dataframe tbody tr th:only-of-type {\n",
       "        vertical-align: middle;\n",
       "    }\n",
       "\n",
       "    .dataframe tbody tr th {\n",
       "        vertical-align: top;\n",
       "    }\n",
       "\n",
       "    .dataframe thead th {\n",
       "        text-align: right;\n",
       "    }\n",
       "</style>\n",
       "<table border=\"1\" class=\"dataframe\">\n",
       "  <thead>\n",
       "    <tr style=\"text-align: right;\">\n",
       "      <th></th>\n",
       "      <th></th>\n",
       "      <th>CVA</th>\n",
       "      <th>DVA</th>\n",
       "      <th>BCVA</th>\n",
       "    </tr>\n",
       "  </thead>\n",
       "  <tbody>\n",
       "    <tr>\n",
       "      <th>VA</th>\n",
       "      <th>VA</th>\n",
       "      <td>-1,955.40</td>\n",
       "      <td>382.36</td>\n",
       "      <td>-1,573.03</td>\n",
       "    </tr>\n",
       "    <tr>\n",
       "      <th rowspan=\"2\" valign=\"top\">ParallelInterestRatesVega</th>\n",
       "      <th>EUR_EURIBOR_6M</th>\n",
       "      <td>-0.00</td>\n",
       "      <td>0.00</td>\n",
       "      <td>-0.00</td>\n",
       "    </tr>\n",
       "    <tr>\n",
       "      <th>RUB_KEY_RATE</th>\n",
       "      <td>-0.07</td>\n",
       "      <td>0.03</td>\n",
       "      <td>-0.04</td>\n",
       "    </tr>\n",
       "    <tr>\n",
       "      <th>ParallelForeignExchangeVega</th>\n",
       "      <th>EURRUB</th>\n",
       "      <td>-46.38</td>\n",
       "      <td>18.23</td>\n",
       "      <td>-28.15</td>\n",
       "    </tr>\n",
       "    <tr>\n",
       "      <th rowspan=\"2\" valign=\"top\">ParallelCreditDelta</th>\n",
       "      <th>RUB_MINFIN_OFZ</th>\n",
       "      <td>-10.80</td>\n",
       "      <td>0.00</td>\n",
       "      <td>-10.80</td>\n",
       "    </tr>\n",
       "    <tr>\n",
       "      <th>RUB_SBER_OFZ_SNR_CR</th>\n",
       "      <td>0.00</td>\n",
       "      <td>5.41</td>\n",
       "      <td>5.41</td>\n",
       "    </tr>\n",
       "    <tr>\n",
       "      <th rowspan=\"8\" valign=\"top\">ParallelRho</th>\n",
       "      <th>EUR_EURIBOR_3M</th>\n",
       "      <td>2.66</td>\n",
       "      <td>0.26</td>\n",
       "      <td>2.92</td>\n",
       "    </tr>\n",
       "    <tr>\n",
       "      <th>EUR_EURIBOR_6M</th>\n",
       "      <td>-0.00</td>\n",
       "      <td>0.00</td>\n",
       "      <td>-0.00</td>\n",
       "    </tr>\n",
       "    <tr>\n",
       "      <th>EUR_RUB</th>\n",
       "      <td>-0.00</td>\n",
       "      <td>0.00</td>\n",
       "      <td>-0.00</td>\n",
       "    </tr>\n",
       "    <tr>\n",
       "      <th>EUR_XCCY</th>\n",
       "      <td>-1.49</td>\n",
       "      <td>-0.36</td>\n",
       "      <td>-1.86</td>\n",
       "    </tr>\n",
       "    <tr>\n",
       "      <th>RUB_KEY_RATE</th>\n",
       "      <td>-0.02</td>\n",
       "      <td>0.01</td>\n",
       "      <td>-0.01</td>\n",
       "    </tr>\n",
       "    <tr>\n",
       "      <th>RUB_RUONIA_OIS</th>\n",
       "      <td>0.11</td>\n",
       "      <td>-0.05</td>\n",
       "      <td>0.05</td>\n",
       "    </tr>\n",
       "    <tr>\n",
       "      <th>RUB_SOFR</th>\n",
       "      <td>1.49</td>\n",
       "      <td>0.36</td>\n",
       "      <td>1.86</td>\n",
       "    </tr>\n",
       "    <tr>\n",
       "      <th>USD_SOFR</th>\n",
       "      <td>0.00</td>\n",
       "      <td>0.00</td>\n",
       "      <td>0.00</td>\n",
       "    </tr>\n",
       "    <tr>\n",
       "      <th rowspan=\"3\" valign=\"top\">CurrencyExposure</th>\n",
       "      <th>EUR</th>\n",
       "      <td>12,653.74</td>\n",
       "      <td>2,945.52</td>\n",
       "      <td>15,599.26</td>\n",
       "    </tr>\n",
       "    <tr>\n",
       "      <th>RUB</th>\n",
       "      <td>-14,609.13</td>\n",
       "      <td>-2,563.16</td>\n",
       "      <td>-17,172.29</td>\n",
       "    </tr>\n",
       "    <tr>\n",
       "      <th>USD</th>\n",
       "      <td>0.00</td>\n",
       "      <td>-0.00</td>\n",
       "      <td>0.00</td>\n",
       "    </tr>\n",
       "  </tbody>\n",
       "</table>\n",
       "</div>"
      ],
      "text/plain": [
       "                                                       CVA       DVA  \\\n",
       "VA                          VA                   -1,955.40    382.36   \n",
       "ParallelInterestRatesVega   EUR_EURIBOR_6M           -0.00      0.00   \n",
       "                            RUB_KEY_RATE             -0.07      0.03   \n",
       "ParallelForeignExchangeVega EURRUB                  -46.38     18.23   \n",
       "ParallelCreditDelta         RUB_MINFIN_OFZ          -10.80      0.00   \n",
       "                            RUB_SBER_OFZ_SNR_CR       0.00      5.41   \n",
       "ParallelRho                 EUR_EURIBOR_3M            2.66      0.26   \n",
       "                            EUR_EURIBOR_6M           -0.00      0.00   \n",
       "                            EUR_RUB                  -0.00      0.00   \n",
       "                            EUR_XCCY                 -1.49     -0.36   \n",
       "                            RUB_KEY_RATE             -0.02      0.01   \n",
       "                            RUB_RUONIA_OIS            0.11     -0.05   \n",
       "                            RUB_SOFR                  1.49      0.36   \n",
       "                            USD_SOFR                  0.00      0.00   \n",
       "CurrencyExposure            EUR                  12,653.74  2,945.52   \n",
       "                            RUB                 -14,609.13 -2,563.16   \n",
       "                            USD                       0.00     -0.00   \n",
       "\n",
       "                                                      BCVA  \n",
       "VA                          VA                   -1,573.03  \n",
       "ParallelInterestRatesVega   EUR_EURIBOR_6M           -0.00  \n",
       "                            RUB_KEY_RATE             -0.04  \n",
       "ParallelForeignExchangeVega EURRUB                  -28.15  \n",
       "ParallelCreditDelta         RUB_MINFIN_OFZ          -10.80  \n",
       "                            RUB_SBER_OFZ_SNR_CR       5.41  \n",
       "ParallelRho                 EUR_EURIBOR_3M            2.92  \n",
       "                            EUR_EURIBOR_6M           -0.00  \n",
       "                            EUR_RUB                  -0.00  \n",
       "                            EUR_XCCY                 -1.86  \n",
       "                            RUB_KEY_RATE             -0.01  \n",
       "                            RUB_RUONIA_OIS            0.05  \n",
       "                            RUB_SOFR                  1.86  \n",
       "                            USD_SOFR                  0.00  \n",
       "CurrencyExposure            EUR                  15,599.26  \n",
       "                            RUB                 -17,172.29  \n",
       "                            USD                       0.00  "
      ]
     },
     "execution_count": 53,
     "metadata": {},
     "output_type": "execute_result"
    }
   ],
   "source": [
    "#6\n",
    "\n",
    "ps_utils.switch_to_dev()\n",
    "           \n",
    "r=ps_utils.pricing.XVA(ps.get('2ec95ccf10367b541b775e38bfdc3889474aa89f')[0])\n",
    "#r.Model.MarketDataSet='f0fd133994799ffc6aeeeceb85f501b27d321afb'\n",
    "# r.set_queries([\"ProductValue\",\"ParallelInterestRatesVega\",\"ParallelForeignExchangeVega\",\n",
    "#                \"ParallelCreditDelta\",\"ParallelRho\",\"CurrencyExposure\"])\n",
    "r.set_queries([\"ProductValue\",\"CVA\",\"DVA\",\"BCVA\",\"CVA_ParallelInterestRatesVega\",\"DVA_ParallelInterestRatesVega\",\"CVA_ParallelForeignExchangeVega\",\"DVA_ParallelForeignExchangeVega\",\"CVA_ParallelCreditDelta\",\"DVA_ParallelCreditDelta\",\"CVA_ParallelRho\",\"DVA_ParallelRho\",\"CVA_CurrencyExposure\",\"DVA_CurrencyExposure\"])\n",
    "\n",
    "\n",
    "#r.Model.TypeName='HybridCheyette1FactorANLocalVolatilityModel'\n",
    "\n",
    "# r.Product.pop('CounterpartyCreditRating')\n",
    "# r.Product.CounterpartyCreditCurveIdentifier='RUB_CHMF_OFZ_SNR_CR'\n",
    "\n",
    "r.Model.MarketDataSet.RatesCurvesBundles['RUB_KEY_RATE'].InterpolationMethod='Linear'\n",
    "r.Model.MarketDataSet.RatesCurvesBundles['EUR_XCCY'].InterpolationMethod='Linear'\n",
    "r.Model.MarketDataSet.RatesCurvesBundles['CNH_FX'].InterpolationMethod='Linear'\n",
    "r.Model.MarketDataSet.RatesCurvesBundles['RUB_SOFR'].InterpolationMethod='Linear'\n",
    "r.Model.MarketDataSet.RatesCurvesBundles['USD_SOFR'].InterpolationMethod='Linear'\n",
    "r.Model.MarketDataSet.RatesCurvesBundles['RUB_RUONIA_OIS'].InterpolationMethod='Linear'\n",
    "r.Model.MarketDataSet.RatesCurvesBundles['EUR_EURIBOR_6M'].InterpolationMethod='Linear'\n",
    "r.Model.MarketDataSet.RatesCurvesBundles['EUR_RUB'].InterpolationMethod='Linear'\n",
    "r.Model.MarketDataSet.RatesCurvesBundles['USD_SOFR'].InterpolationMethod='Linear'\n",
    "r.Model.MarketDataSet.RatesCurvesBundles['USD_LIBOR_3M'].InterpolationMethod='Linear'\n",
    "r.Model.MarketDataSet.RatesCurvesBundles['USD_XCCY'].InterpolationMethod='Linear'\n",
    "r.Model.MarketDataSet.RatesCurvesBundles['XAU_USD'].InterpolationMethod='Linear'\n",
    "r.Model.MarketDataSet.RatesCurvesBundles['CNH_SOFR'].InterpolationMethod='Linear'\n",
    "\n",
    "new_credit_values = {'RUB_SBER_OFZ_SNR_CR': 0.7, 'RUB_MINFIN_OFZ': 1.30}\n",
    "for cr_curve, cr_value in new_credit_values.items():\n",
    "    r.Model.MarketDataSet.CreditCurves[cr_curve].RatesSchedule.Rates = [cr_value / 0.75] * \\\n",
    "                                                                       len(r.Model.MarketDataSet.CreditCurves[\n",
    "                                                                               cr_curve].RatesSchedule.Rates)\n",
    "\n",
    "\n",
    "z=r.price(algo_id='0534e2d4a32283b9777c8d6a640bd1c1c9470ec7')\n",
    "get_bcva_df(z)\n"
   ]
  },
  {
   "cell_type": "code",
   "execution_count": 55,
   "metadata": {},
   "outputs": [
    {
     "data": {
      "text/plain": [
       "6.878538205980067"
      ]
     },
     "execution_count": 55,
     "metadata": {},
     "output_type": "execute_result"
    }
   ],
   "source": [
    "bcva=1573*1.02 + 15599*0.02 + 10*7  + 28*3\n",
    "bcva/301"
   ]
  },
  {
   "cell_type": "code",
   "execution_count": 38,
   "metadata": {},
   "outputs": [
    {
     "data": {
      "text/plain": [
       "76264.68"
      ]
     },
     "execution_count": 38,
     "metadata": {},
     "output_type": "execute_result"
    }
   ],
   "source": [
    "bcva"
   ]
  },
  {
   "cell_type": "code",
   "execution_count": 39,
   "metadata": {},
   "outputs": [
    {
     "data": {
      "text/plain": [
       "16.080000000000002"
      ]
     },
     "execution_count": 39,
     "metadata": {},
     "output_type": "execute_result"
    }
   ],
   "source": [
    "14.55+1.53"
   ]
  },
  {
   "cell_type": "code",
   "execution_count": 44,
   "metadata": {},
   "outputs": [
    {
     "data": {
      "text/plain": [
       "array([99.29, 99.29, 99.29, 99.29, 99.29])"
      ]
     },
     "execution_count": 44,
     "metadata": {},
     "output_type": "execute_result"
    }
   ],
   "source": [
    "Nrub=np.array(r.Product.NettingSets[0].MarginSets[0].Products[1].Leg1Notionals)\n",
    "Neur=np.array(r.Product.NettingSets[0].MarginSets[0].Products[1].Leg2Notionals)\n",
    "Nrub/Neur"
   ]
  },
  {
   "cell_type": "markdown",
   "metadata": {},
   "source": [
    "# Тема PVBMV гарантор OZONN 10 рейтинга рестракт "
   ]
  },
  {
   "cell_type": "code",
   "execution_count": 59,
   "metadata": {},
   "outputs": [
    {
     "name": "stderr",
     "output_type": "stream",
     "text": [
      "[INFO] 2023-11-03 16:13:27,484 - Nothing to do: current environment is already dev\n",
      "[INFO] 2023-11-03 16:13:33,526 - Compute:04c9231a2d54b2302296b1e9753daa3b680baac3->b63a0e1d0919f41b28766b649f02967d50a6cd4e\n"
     ]
    },
    {
     "data": {
      "text/plain": [
       "Dict([('BCVA', -52482.36018486954),\n",
       "      ('LegBCVA', [-24806.754775353, -27843.02566773729]),\n",
       "      ('Legs',\n",
       "       [ec90de0a98494f8fc12d8e93888f13c72f8b79c5,\n",
       "        23a8afaf6c0c97779688f04da54d85eb228697d8]),\n",
       "      ('CVA', -59416.09567047322),\n",
       "      ('DVA', 6933.7354856036845),\n",
       "      ('LegPresentValues', [-454882.86606623064, -90129.37631424384]),\n",
       "      ('ProductValue', -545012.2423804745),\n",
       "      ('ReportingCurrency', 'USD'),\n",
       "      ('StandardError', 9680.386832944325),\n",
       "      ('CashToSettleToday', 0.0)])"
      ]
     },
     "execution_count": 59,
     "metadata": {},
     "output_type": "execute_result"
    }
   ],
   "source": [
    "#385 млн в конце  \n",
    "\n",
    "ps_utils.switch_to_dev()         \n",
    "r=ps_utils.pricing.XVA(ps.get('d4c92ab4b61bb099ee3c8eb04f6da7d593684265')[0])\n",
    "# r.Queries.append('LegBCVA')\n",
    "# r.Queries.append('LegPresentValues')\n",
    "\n",
    "r.Model.TypeName='HybridCheyette1FactorMCLocalVolatilityModel'\n",
    "r.Model.LocalVolatilityMinimum=1e-13\n",
    "r.Model.CalibrationFrequencyInDays=30\n",
    "r.Model.LocalVolNumberOfTimeStepsPerYear=250\n",
    "r.Model.MonteCarloMaxStepInHours=24\n",
    "\n",
    "# r.NumberOfPaths=700000\n",
    "# r.Model.AmericanMonteCarloNumberOfPaths=2000\n",
    "\n",
    "#r.Model.TypeName='HybridCheyette1FactorANLocalVolatilityModel'\n",
    "\n",
    "\n",
    "\n",
    "new_credit_values = {'RUB_SBER_OFZ_SNR_CR': 0.7, 'RUB_MINFIN_OFZ': 1.30}\n",
    "for cr_curve, cr_value in new_credit_values.items():\n",
    "    r.Model.MarketDataSet.CreditCurves[cr_curve].RatesSchedule.Rates = [cr_value / 0.75] * \\\n",
    "                                                                       len(r.Model.MarketDataSet.CreditCurves[\n",
    "                                                                               cr_curve].RatesSchedule.Rates)\n",
    "\n",
    "\n",
    "#r.Product.NettingSets[0].MarginSets[0].Products.pop(0)\n",
    "# r.Product.NettingSets[0].MarginSets[0].Products[0].UseRateAveragingApproximation=False\n",
    "\n",
    "#r.Product.NettingSets[0].MarginSets[0].Products=['88bd8d2a539e599b36f0a26554a5f144f4317036']\n",
    "    \n",
    "z=r.price(algo_id='0534e2d4a32283b9777c8d6a640bd1c1c9470ec7')\n",
    "#z=r.price(algo_id='94b781627f848a9bf567caea0521d1472b29d80a')\n",
    "\n",
    "z\n",
    "\n",
    "\n"
   ]
  },
  {
   "cell_type": "code",
   "execution_count": 60,
   "metadata": {},
   "outputs": [
    {
     "data": {
      "text/plain": [
       "3037"
      ]
     },
     "execution_count": 60,
     "metadata": {},
     "output_type": "execute_result"
    }
   ],
   "source": [
    "(27843-24806)"
   ]
  },
  {
   "cell_type": "markdown",
   "metadata": {},
   "source": [
    "# Саша Сорокин Норникель "
   ]
  },
  {
   "cell_type": "code",
   "execution_count": 77,
   "metadata": {},
   "outputs": [
    {
     "name": "stderr",
     "output_type": "stream",
     "text": [
      "[INFO] 2023-11-03 16:55:28,859 - Nothing to do: current environment is already dev\n",
      "[INFO] 2023-11-03 16:55:30,121 - Compute:5ddc887b766734954e4d8c8c6a8367b485aeec3f->1c68bf4b1f2cef59ce82bd84cc0b9e332fd61de7\n"
     ]
    },
    {
     "data": {
      "text/plain": [
       "Dict([('BCVA', -46505.8248897654),\n",
       "      ('LegBCVA', [-46505.8248897654]),\n",
       "      ('Legs', [254bdee0b6327387e64e99ce7db4c074ec3b0679]),\n",
       "      ('CVA', -78416.03355049607),\n",
       "      ('DVA', 31910.208660730666),\n",
       "      ('LegPresentValues', [-675017.5911881179]),\n",
       "      ('ProductValue', -675017.5911881179),\n",
       "      ('ReportingCurrency', 'USD'),\n",
       "      ('StandardError', 47072.222452055415),\n",
       "      ('CashToSettleToday', 0.0),\n",
       "      ('ExpectedCounterpartyProbabilityOfDefault',\n",
       "       Dict([('Dates',\n",
       "              [datetime.datetime(2023, 11, 6, 0, 0, tzinfo=datetime.timezone.utc),\n",
       "               datetime.datetime(2023, 11, 13, 0, 0, tzinfo=datetime.timezone.utc),\n",
       "               datetime.datetime(2023, 11, 20, 0, 0, tzinfo=datetime.timezone.utc),\n",
       "               datetime.datetime(2023, 11, 27, 0, 0, tzinfo=datetime.timezone.utc),\n",
       "               datetime.datetime(2023, 12, 4, 0, 0, tzinfo=datetime.timezone.utc),\n",
       "               datetime.datetime(2023, 12, 11, 0, 0, tzinfo=datetime.timezone.utc),\n",
       "               datetime.datetime(2023, 12, 18, 0, 0, tzinfo=datetime.timezone.utc),\n",
       "               datetime.datetime(2023, 12, 25, 0, 0, tzinfo=datetime.timezone.utc),\n",
       "               datetime.datetime(2024, 1, 1, 0, 0, tzinfo=datetime.timezone.utc),\n",
       "               datetime.datetime(2024, 1, 8, 0, 0, tzinfo=datetime.timezone.utc),\n",
       "               datetime.datetime(2024, 1, 15, 0, 0, tzinfo=datetime.timezone.utc),\n",
       "               datetime.datetime(2024, 1, 22, 0, 0, tzinfo=datetime.timezone.utc),\n",
       "               datetime.datetime(2024, 1, 29, 0, 0, tzinfo=datetime.timezone.utc),\n",
       "               datetime.datetime(2024, 2, 5, 0, 0, tzinfo=datetime.timezone.utc),\n",
       "               datetime.datetime(2024, 2, 12, 0, 0, tzinfo=datetime.timezone.utc),\n",
       "               datetime.datetime(2024, 2, 19, 0, 0, tzinfo=datetime.timezone.utc),\n",
       "               datetime.datetime(2024, 2, 26, 0, 0, tzinfo=datetime.timezone.utc),\n",
       "               datetime.datetime(2024, 3, 4, 0, 0, tzinfo=datetime.timezone.utc),\n",
       "               datetime.datetime(2024, 3, 11, 0, 0, tzinfo=datetime.timezone.utc),\n",
       "               datetime.datetime(2024, 3, 18, 0, 0, tzinfo=datetime.timezone.utc),\n",
       "               datetime.datetime(2024, 3, 25, 0, 0, tzinfo=datetime.timezone.utc),\n",
       "               datetime.datetime(2024, 4, 1, 0, 0, tzinfo=datetime.timezone.utc),\n",
       "               datetime.datetime(2024, 4, 8, 0, 0, tzinfo=datetime.timezone.utc),\n",
       "               datetime.datetime(2024, 4, 15, 0, 0, tzinfo=datetime.timezone.utc),\n",
       "               datetime.datetime(2024, 4, 22, 0, 0, tzinfo=datetime.timezone.utc),\n",
       "               datetime.datetime(2024, 4, 29, 0, 0, tzinfo=datetime.timezone.utc),\n",
       "               datetime.datetime(2024, 5, 18, 0, 0, tzinfo=datetime.timezone.utc),\n",
       "               datetime.datetime(2024, 6, 18, 0, 0, tzinfo=datetime.timezone.utc),\n",
       "               datetime.datetime(2024, 7, 18, 0, 0, tzinfo=datetime.timezone.utc),\n",
       "               datetime.datetime(2024, 8, 18, 0, 0, tzinfo=datetime.timezone.utc),\n",
       "               datetime.datetime(2024, 9, 18, 0, 0, tzinfo=datetime.timezone.utc),\n",
       "               datetime.datetime(2024, 10, 18, 0, 0, tzinfo=datetime.timezone.utc),\n",
       "               datetime.datetime(2024, 11, 5, 0, 0, tzinfo=datetime.timezone.utc)]),\n",
       "             ('Values',\n",
       "              [0.0005240635439474062,\n",
       "               0.000523788901349298,\n",
       "               0.0005235144026812799,\n",
       "               0.0005232400478681898,\n",
       "               0.0005229658368343104,\n",
       "               0.0005226917695047018,\n",
       "               0.0005224178458034245,\n",
       "               0.0005221440656556497,\n",
       "               0.0005218704289862153,\n",
       "               0.000521596935719737,\n",
       "               0.0005213235857811638,\n",
       "               0.0005210503790952226,\n",
       "               0.0005207773155868622,\n",
       "               0.0005205043951812538,\n",
       "               0.0005202316178033461,\n",
       "               0.0005199589833780882,\n",
       "               0.0005196864918305399,\n",
       "               0.0005194141430857613,\n",
       "               0.0005191419370693673,\n",
       "               0.0005188698737058628,\n",
       "               0.0005185979529210849,\n",
       "               0.0005183261746398715,\n",
       "               0.0005180545387880597,\n",
       "               0.0005177830452903764,\n",
       "               0.0005175116940726587,\n",
       "               0.0005172404850601886,\n",
       "               0.002287380050173815,\n",
       "               0.002208543446733935,\n",
       "               0.0022769550435808306,\n",
       "               0.0022716753115398225,\n",
       "               0.0021933799859920056,\n",
       "               0.002261321881161016,\n",
       "               0.00029140127173810093]),\n",
       "             ('StandardErrors',\n",
       "              [0.0,\n",
       "               4.9227844771419234e-14,\n",
       "               0.0,\n",
       "               4.0194366942304644e-14,\n",
       "               0.0,\n",
       "               0.0,\n",
       "               4.0194366942304644e-14,\n",
       "               0.0,\n",
       "               8.760159180054893e-14,\n",
       "               2.842170943040401e-14,\n",
       "               1.0048591735576161e-13,\n",
       "               0.0,\n",
       "               7.78360568894479e-14,\n",
       "               0.0,\n",
       "               4.4938668397781776e-14,\n",
       "               2.0097183471152322e-14,\n",
       "               0.0,\n",
       "               6.665481691674458e-14,\n",
       "               1.0247593068766006e-13,\n",
       "               1.0048591735576161e-13,\n",
       "               0.0,\n",
       "               0.0,\n",
       "               5.684341886080802e-14,\n",
       "               4.4938668397781776e-14,\n",
       "               0.0,\n",
       "               5.684341886080802e-14,\n",
       "               0.0,\n",
       "               3.595093471822542e-13,\n",
       "               2.898457019905882e-13,\n",
       "               3.2155493553843715e-13,\n",
       "               2.2737367544323206e-13,\n",
       "               0.0,\n",
       "               0.0])]))])"
      ]
     },
     "execution_count": 77,
     "metadata": {},
     "output_type": "execute_result"
    }
   ],
   "source": [
    "#385 млн в конце  \n",
    "\n",
    "ps_utils.switch_to_dev()         \n",
    "r=ps_utils.pricing.XVA(ps.get('75aeb72ed71a9b4d7fc64371dce777bb72b3dd9a')[0])\n",
    "r.Queries.append('ExpectedCounterpartyProbabilityOfDefault')\n",
    "# r.Queries.append('LegPresentValues')\n",
    "\n",
    "# r.Model.TypeName='HybridCheyette1FactorMCLocalVolatilityModel'\n",
    "# r.Model.LocalVolatilityMinimum=1e-13\n",
    "# r.Model.CalibrationFrequencyInDays=30\n",
    "# r.Model.LocalVolNumberOfTimeStepsPerYear=250\n",
    "# r.Model.MonteCarloMaxStepInHours=24\n",
    "\n",
    "# r.NumberOfPaths=700000\n",
    "# r.Model.AmericanMonteCarloNumberOfPaths=2000\n",
    "\n",
    "#r.Model.TypeName='HybridCheyette1FactorANLocalVolatilityModel'\n",
    "\n",
    "\n",
    "\n",
    "new_credit_values = {'RUB_SBER_OFZ_SNR_CR': 0.7, 'RUB_MINFIN_OFZ': 1.30}\n",
    "for cr_curve, cr_value in new_credit_values.items():\n",
    "    r.Model.MarketDataSet.CreditCurves[cr_curve].RatesSchedule.Rates = [cr_value / 0.75] * \\\n",
    "                                                                       len(r.Model.MarketDataSet.CreditCurves[\n",
    "                                                                               cr_curve].RatesSchedule.Rates)\n",
    "\n",
    "\n",
    "#r.Product.NettingSets[0].MarginSets[0].Products.pop(0)\n",
    "# r.Product.NettingSets[0].MarginSets[0].Products[0].UseRateAveragingApproximation=False\n",
    "\n",
    "r.Product.NettingSets[0].MarginSets[0].Products=[r.Product.NettingSets[0].MarginSets[0].Products[-1]]\n",
    "    \n",
    "z=r.price(algo_id='0534e2d4a32283b9777c8d6a640bd1c1c9470ec7')\n",
    "\n",
    "z\n",
    "\n",
    "\n"
   ]
  },
  {
   "cell_type": "code",
   "execution_count": 79,
   "metadata": {},
   "outputs": [
    {
     "data": {
      "text/plain": [
       "0.027327423382559446"
      ]
     },
     "execution_count": 79,
     "metadata": {},
     "output_type": "execute_result"
    }
   ],
   "source": [
    "sum(z['ExpectedCounterpartyProbabilityOfDefault']['Values'])"
   ]
  },
  {
   "cell_type": "code",
   "execution_count": 71,
   "metadata": {},
   "outputs": [
    {
     "name": "stderr",
     "output_type": "stream",
     "text": [
      "[INFO] 2023-11-03 16:49:54,916 - Compute:a3d3f25b85771d2b51ff79d935834bfe236ac5e8->72c2c3920e443c3650d04c4aa26339a307a40a6e\n"
     ]
    }
   ],
   "source": [
    "z=r.run_xva_breakdown(show=True)"
   ]
  },
  {
   "cell_type": "code",
   "execution_count": 61,
   "metadata": {},
   "outputs": [
    {
     "name": "stderr",
     "output_type": "stream",
     "text": [
      "[INFO] 2023-11-03 16:21:25,115 - Nothing to do: current environment is already dev\n",
      "[INFO] 2023-11-03 16:21:28,406 - Compute:9fd94cce6695440b71814c6d6d724fa72c05f32f->8707b46f15a45f61abdb62fda5c72448f773a65f\n"
     ]
    },
    {
     "name": "stdout",
     "output_type": "stream",
     "text": [
      "PV= 855942.8670006841\n",
      "Unexpected item: ProductValue\n",
      "Unexpected item: ReportingCurrency\n",
      "Unexpected item: StandardError\n",
      "Unexpected item: CashToSettleToday\n",
      "Unexpected item: BCVA\n"
     ]
    },
    {
     "data": {
      "text/html": [
       "<div>\n",
       "<style scoped>\n",
       "    .dataframe tbody tr th:only-of-type {\n",
       "        vertical-align: middle;\n",
       "    }\n",
       "\n",
       "    .dataframe tbody tr th {\n",
       "        vertical-align: top;\n",
       "    }\n",
       "\n",
       "    .dataframe thead th {\n",
       "        text-align: right;\n",
       "    }\n",
       "</style>\n",
       "<table border=\"1\" class=\"dataframe\">\n",
       "  <thead>\n",
       "    <tr style=\"text-align: right;\">\n",
       "      <th></th>\n",
       "      <th></th>\n",
       "      <th>CVA</th>\n",
       "      <th>DVA</th>\n",
       "      <th>BCVA</th>\n",
       "    </tr>\n",
       "  </thead>\n",
       "  <tbody>\n",
       "    <tr>\n",
       "      <th>VA</th>\n",
       "      <th>VA</th>\n",
       "      <td>-130,004.62</td>\n",
       "      <td>48,364.57</td>\n",
       "      <td>-81,640.05</td>\n",
       "    </tr>\n",
       "    <tr>\n",
       "      <th rowspan=\"2\" valign=\"top\">ParallelInterestRatesVega</th>\n",
       "      <th>RUB_KEY_RATE</th>\n",
       "      <td>-3.01</td>\n",
       "      <td>1.10</td>\n",
       "      <td>-1.92</td>\n",
       "    </tr>\n",
       "    <tr>\n",
       "      <th>USD_LIBOR_3M</th>\n",
       "      <td>-2.22</td>\n",
       "      <td>0.86</td>\n",
       "      <td>-1.37</td>\n",
       "    </tr>\n",
       "    <tr>\n",
       "      <th>ParallelForeignExchangeVega</th>\n",
       "      <th>USDRUB</th>\n",
       "      <td>-8,433.27</td>\n",
       "      <td>2,869.44</td>\n",
       "      <td>-5,563.83</td>\n",
       "    </tr>\n",
       "    <tr>\n",
       "      <th rowspan=\"2\" valign=\"top\">ParallelCreditDelta</th>\n",
       "      <th>RUB_MINFIN_OFZ</th>\n",
       "      <td>-626.14</td>\n",
       "      <td>0.00</td>\n",
       "      <td>-626.14</td>\n",
       "    </tr>\n",
       "    <tr>\n",
       "      <th>RUB_SBER_OFZ_SNR_CR</th>\n",
       "      <td>0.00</td>\n",
       "      <td>687.82</td>\n",
       "      <td>687.82</td>\n",
       "    </tr>\n",
       "    <tr>\n",
       "      <th rowspan=\"6\" valign=\"top\">ParallelRho</th>\n",
       "      <th>RUB_KEY_RATE</th>\n",
       "      <td>-1.16</td>\n",
       "      <td>0.43</td>\n",
       "      <td>-0.73</td>\n",
       "    </tr>\n",
       "    <tr>\n",
       "      <th>RUB_RUONIA_OIS</th>\n",
       "      <td>9.83</td>\n",
       "      <td>-3.88</td>\n",
       "      <td>5.94</td>\n",
       "    </tr>\n",
       "    <tr>\n",
       "      <th>RUB_SOFR</th>\n",
       "      <td>124.99</td>\n",
       "      <td>48.42</td>\n",
       "      <td>173.41</td>\n",
       "    </tr>\n",
       "    <tr>\n",
       "      <th>USD_LIBOR_3M</th>\n",
       "      <td>-0.60</td>\n",
       "      <td>0.23</td>\n",
       "      <td>-0.37</td>\n",
       "    </tr>\n",
       "    <tr>\n",
       "      <th>USD_SOFR</th>\n",
       "      <td>-124.88</td>\n",
       "      <td>-48.46</td>\n",
       "      <td>-173.34</td>\n",
       "    </tr>\n",
       "    <tr>\n",
       "      <th>USD_XCCY</th>\n",
       "      <td>0.00</td>\n",
       "      <td>0.00</td>\n",
       "      <td>0.00</td>\n",
       "    </tr>\n",
       "    <tr>\n",
       "      <th rowspan=\"2\" valign=\"top\">CurrencyExposure</th>\n",
       "      <th>RUB</th>\n",
       "      <td>-2,064,115.81</td>\n",
       "      <td>-675,359.02</td>\n",
       "      <td>-2,739,474.83</td>\n",
       "    </tr>\n",
       "    <tr>\n",
       "      <th>USD</th>\n",
       "      <td>1,934,111.19</td>\n",
       "      <td>723,723.59</td>\n",
       "      <td>2,657,834.78</td>\n",
       "    </tr>\n",
       "  </tbody>\n",
       "</table>\n",
       "</div>"
      ],
      "text/plain": [
       "                                                          CVA         DVA  \\\n",
       "VA                          VA                    -130,004.62   48,364.57   \n",
       "ParallelInterestRatesVega   RUB_KEY_RATE                -3.01        1.10   \n",
       "                            USD_LIBOR_3M                -2.22        0.86   \n",
       "ParallelForeignExchangeVega USDRUB                  -8,433.27    2,869.44   \n",
       "ParallelCreditDelta         RUB_MINFIN_OFZ            -626.14        0.00   \n",
       "                            RUB_SBER_OFZ_SNR_CR          0.00      687.82   \n",
       "ParallelRho                 RUB_KEY_RATE                -1.16        0.43   \n",
       "                            RUB_RUONIA_OIS               9.83       -3.88   \n",
       "                            RUB_SOFR                   124.99       48.42   \n",
       "                            USD_LIBOR_3M                -0.60        0.23   \n",
       "                            USD_SOFR                  -124.88      -48.46   \n",
       "                            USD_XCCY                     0.00        0.00   \n",
       "CurrencyExposure            RUB                 -2,064,115.81 -675,359.02   \n",
       "                            USD                  1,934,111.19  723,723.59   \n",
       "\n",
       "                                                         BCVA  \n",
       "VA                          VA                     -81,640.05  \n",
       "ParallelInterestRatesVega   RUB_KEY_RATE                -1.92  \n",
       "                            USD_LIBOR_3M                -1.37  \n",
       "ParallelForeignExchangeVega USDRUB                  -5,563.83  \n",
       "ParallelCreditDelta         RUB_MINFIN_OFZ            -626.14  \n",
       "                            RUB_SBER_OFZ_SNR_CR        687.82  \n",
       "ParallelRho                 RUB_KEY_RATE                -0.73  \n",
       "                            RUB_RUONIA_OIS               5.94  \n",
       "                            RUB_SOFR                   173.41  \n",
       "                            USD_LIBOR_3M                -0.37  \n",
       "                            USD_SOFR                  -173.34  \n",
       "                            USD_XCCY                     0.00  \n",
       "CurrencyExposure            RUB                 -2,739,474.83  \n",
       "                            USD                  2,657,834.78  "
      ]
     },
     "execution_count": 61,
     "metadata": {},
     "output_type": "execute_result"
    }
   ],
   "source": [
    "#6\n",
    "\n",
    "ps_utils.switch_to_dev()\n",
    "           \n",
    "r=ps_utils.pricing.XVA(ps.get('75aeb72ed71a9b4d7fc64371dce777bb72b3dd9a')[0])\n",
    "#r.Model.MarketDataSet='f0fd133994799ffc6aeeeceb85f501b27d321afb'\n",
    "# r.set_queries([\"ProductValue\",\"ParallelInterestRatesVega\",\"ParallelForeignExchangeVega\",\n",
    "#                \"ParallelCreditDelta\",\"ParallelRho\",\"CurrencyExposure\"])\n",
    "r.set_queries([\"ProductValue\",\"CVA\",\"DVA\",\"BCVA\",\"CVA_ParallelInterestRatesVega\",\"DVA_ParallelInterestRatesVega\",\"CVA_ParallelForeignExchangeVega\",\"DVA_ParallelForeignExchangeVega\",\"CVA_ParallelCreditDelta\",\"DVA_ParallelCreditDelta\",\"CVA_ParallelRho\",\"DVA_ParallelRho\",\"CVA_CurrencyExposure\",\"DVA_CurrencyExposure\"])\n",
    "\n",
    "\n",
    "#r.Model.TypeName='HybridCheyette1FactorANLocalVolatilityModel'\n",
    "\n",
    "# r.Product.pop('CounterpartyCreditRating')\n",
    "# r.Product.CounterpartyCreditCurveIdentifier='RUB_CHMF_OFZ_SNR_CR'\n",
    "\n",
    "\n",
    "\n",
    "new_credit_values = {'RUB_SBER_OFZ_SNR_CR': 0.7, 'RUB_MINFIN_OFZ': 1.30}\n",
    "for cr_curve, cr_value in new_credit_values.items():\n",
    "    r.Model.MarketDataSet.CreditCurves[cr_curve].RatesSchedule.Rates = [cr_value / 0.75] * \\\n",
    "                                                                       len(r.Model.MarketDataSet.CreditCurves[\n",
    "                                                                               cr_curve].RatesSchedule.Rates)\n",
    "\n",
    "\n",
    "z=r.price(algo_id='0534e2d4a32283b9777c8d6a640bd1c1c9470ec7')\n",
    "get_bcva_df(z)\n"
   ]
  },
  {
   "cell_type": "code",
   "execution_count": 67,
   "metadata": {},
   "outputs": [
    {
     "name": "stderr",
     "output_type": "stream",
     "text": [
      "[INFO] 2023-11-03 16:40:57,900 - Compute:21989940ffc331df83b29d572f5b3a571f2b69d9->00ab350c86de4625594f715a7253882572d863a9\n"
     ]
    },
    {
     "name": "stdout",
     "output_type": "stream",
     "text": [
      "i= 1 bcva= 2414.4914029490337 vega= 100.19645995694722 delta= 1351.476093052751 strike_old= 94.1316 strike_new 94.13387279938947\n"
     ]
    },
    {
     "name": "stderr",
     "output_type": "stream",
     "text": [
      "[INFO] 2023-11-03 16:40:58,646 - Compute:58eb0955d374c440d6ffef5d80cbdb5010e9b29c->c9cbe8fd4b98df43d60595a9a2096a8f92dcb53d\n"
     ]
    },
    {
     "name": "stdout",
     "output_type": "stream",
     "text": [
      "i= 1 bcva= 2417.7757618975147 vega= 100.1830873668099 delta= 1351.9932075583347 strike_all_in= 94.13387279938947 bcva_all_in= 2417.7757618975147\n"
     ]
    },
    {
     "name": "stderr",
     "output_type": "stream",
     "text": [
      "[INFO] 2023-11-03 16:40:59,381 - Compute:4c3556449643b531113ee97f051697c4d3dc042c->3a35d198ca12839fc027d4a6836671f8472e6b2c\n"
     ]
    },
    {
     "name": "stdout",
     "output_type": "stream",
     "text": [
      "i= 2 bcva= 6832.260131604423 vega= 280.92415475108737 delta= 2641.6896016596916 strike_old= 95.1771 strike_new 95.18360274705772\n"
     ]
    },
    {
     "name": "stderr",
     "output_type": "stream",
     "text": [
      "[INFO] 2023-11-03 16:41:00,761 - Compute:41a8b77c5d9bcab7d0521f0edef5926a131cc196->368c05618464792d742dddb618c2b8874149b1f7\n"
     ]
    },
    {
     "name": "stdout",
     "output_type": "stream",
     "text": [
      "i= 2 bcva= 6850.578894034875 vega= 280.86492835049285 delta= 2643.488782909785 strike_all_in= 95.18360274705772 bcva_all_in= 6850.578894034875\n"
     ]
    },
    {
     "name": "stderr",
     "output_type": "stream",
     "text": [
      "[INFO] 2023-11-03 16:41:02,130 - Compute:5290443dc4e017b198c454caa700a4a7e8b21c7c->7a3d860ed36e12ff6d9336e55c11117d0cc460d5\n"
     ]
    },
    {
     "name": "stdout",
     "output_type": "stream",
     "text": [
      "i= 3 bcva= 12113.899815123175 vega= 471.51477197353245 delta= 3800.058559010525 strike_old= 96.0677 strike_new 96.0793375449327\n"
     ]
    },
    {
     "name": "stderr",
     "output_type": "stream",
     "text": [
      "[INFO] 2023-11-03 16:41:03,591 - Compute:463f70cb395aaa59ac1ec34e76ef5f95b7facc70->2840b705c012786dac1fa757f475b7a1f50ffb69\n"
     ]
    },
    {
     "name": "stdout",
     "output_type": "stream",
     "text": [
      "i= 3 bcva= 12160.771656564959 vega= 471.3321840733109 delta= 3803.864000194087 strike_all_in= 96.0793375449327 bcva_all_in= 12160.771656564959\n"
     ]
    },
    {
     "name": "stderr",
     "output_type": "stream",
     "text": [
      "[INFO] 2023-11-03 16:41:05,023 - Compute:18f5ea811aa5bb86901902f034483e6d4c7eb51a->9a6ac5b1c74d6d27ee34ea8cbf4da2118045c07a\n"
     ]
    },
    {
     "name": "stdout",
     "output_type": "stream",
     "text": [
      "i= 4 bcva= 19885.117253096156 vega= 1263.9405023635118 delta= 6418.061804876446 strike_old= 96.6475 strike_new 96.66671846869718\n"
     ]
    },
    {
     "name": "stderr",
     "output_type": "stream",
     "text": [
      "[INFO] 2023-11-03 16:41:06,503 - Compute:2d2fe17bca33ef29f1ea3bda9ea89481bd8169ac->2ed139e0dfeddcd98877bb389f426b6dcd5a3460\n"
     ]
    },
    {
     "name": "stdout",
     "output_type": "stream",
     "text": [
      "i= 4 bcva= 20017.494152244704 vega= 1264.3791754070146 delta= 6426.840321490696 strike_all_in= 96.66671846869718 bcva_all_in= 20017.494152244704\n"
     ]
    },
    {
     "name": "stderr",
     "output_type": "stream",
     "text": [
      "[INFO] 2023-11-03 16:41:08,294 - Compute:ba31519cfc9a9ca18837e513c8c7b199b07f81e1->9d152692e6ac08ad2f789e47eb9b05d7f0373ce5\n"
     ]
    },
    {
     "name": "stdout",
     "output_type": "stream",
     "text": [
      "i= 5 bcva= 56745.908369100835 vega= 3369.755672493876 delta= 12249.55639329009 strike_old= 99.6961 strike_new 99.75267345755357\n"
     ]
    },
    {
     "name": "stderr",
     "output_type": "stream",
     "text": [
      "[INFO] 2023-11-03 16:41:21,319 - Compute:9ab6bcf022fc31b669fc11c9273db2141e799675->bf99571bde941d1ad41d429812d4dff429b992be\n"
     ]
    },
    {
     "name": "stdout",
     "output_type": "stream",
     "text": [
      "i= 5 bcva= 57476.32667310063 vega= 3372.208536857994 delta= 12283.158813220844 strike_all_in= 99.75267345755357 bcva_all_in= 57476.32667310063\n"
     ]
    }
   ],
   "source": [
    "#форвард \n",
    "\n",
    "for i in range(5):\n",
    "    r=ps_utils.pricing.XVA(ps.get('75aeb72ed71a9b4d7fc64371dce777bb72b3dd9a')[0])\n",
    "\n",
    "\n",
    "    r.set_queries([\"ProductValue\",\"CVA\",\"DVA\",\"BCVA\",\"CVA_ParallelInterestRatesVega\",\"DVA_ParallelInterestRatesVega\",\"CVA_ParallelForeignExchangeVega\",\"DVA_ParallelForeignExchangeVega\",\"CVA_ParallelCreditDelta\",\"DVA_ParallelCreditDelta\",\"CVA_ParallelRho\",\"DVA_ParallelRho\",\"CVA_CurrencyExposure\",\"DVA_CurrencyExposure\"])\n",
    "\n",
    "\n",
    "\n",
    "\n",
    "    new_credit_values = {'RUB_SBER_OFZ_SNR_CR': 0.7, 'RUB_MINFIN_OFZ': 1.30}\n",
    "    for cr_curve, cr_value in new_credit_values.items():\n",
    "        r.Model.MarketDataSet.CreditCurves[cr_curve].RatesSchedule.Rates = [cr_value / 0.75] * \\\n",
    "                                                                           len(r.Model.MarketDataSet.CreditCurves[\n",
    "                                                                                   cr_curve].RatesSchedule.Rates)\n",
    "\n",
    "\n",
    "    r.Product.NettingSets[0].MarginSets[0].Products=[r.Product.NettingSets[0].MarginSets[0].Products[i]]\n",
    "\n",
    "    z=r.price(algo_id='0534e2d4a32283b9777c8d6a640bd1c1c9470ec7')\n",
    "    bcva=abs(z['BCVA'])\n",
    "    vega=abs((z['CVA_ParallelForeignExchangeVega']['USDRUB']/100 + z['DVA_ParallelForeignExchangeVega']['USDRUB']/100))\n",
    "    delta=abs((z['CVA_CurrencyExposure']['USD']/100 + z['DVA_CurrencyExposure']['USD']/100))\n",
    "    bcva+=vega*3\n",
    "    bcva+=delta*0.02\n",
    "    N=abs(r.Product.NettingSets[0].MarginSets[0].Products[0].Notional)\n",
    "    strike=r.Product.NettingSets[0].MarginSets[0].Products[0].Strike\n",
    "    strike_new=(1+bcva/N)*strike\n",
    "    print(\"i=\", i+1, \"bcva=\",bcva, \"vega=\",vega, \"delta=\",delta, \"strike_old=\",strike,\"strike_new\",strike_new)\n",
    "\n",
    "    r.Product.NettingSets[0].MarginSets[0].Products[0].Strike=strike_new\n",
    "    z=r.price(algo_id='0534e2d4a32283b9777c8d6a640bd1c1c9470ec7')\n",
    "    bcva=abs(z['BCVA'])\n",
    "    vega=abs((z['CVA_ParallelForeignExchangeVega']['USDRUB']/100 + z['DVA_ParallelForeignExchangeVega']['USDRUB']/100))\n",
    "    delta=abs((z['CVA_CurrencyExposure']['USD']/100 + z['DVA_CurrencyExposure']['USD']/100))\n",
    "    bcva+=vega*3\n",
    "    bcva+=delta*0.02\n",
    "    N=abs(r.Product.NettingSets[0].MarginSets[0].Products[0].Notional)\n",
    "    strike=r.Product.NettingSets[0].MarginSets[0].Products[0].Strike\n",
    "    print(\"i=\", i+1, \"bcva=\",bcva, \"vega=\",vega, \"delta=\",delta, \"strike_all_in=\",strike, \"bcva_all_in=\",bcva)\n",
    "\n",
    "#get_bcva_df(z)\n"
   ]
  },
  {
   "cell_type": "code",
   "execution_count": 68,
   "metadata": {},
   "outputs": [
    {
     "data": {
      "text/plain": [
       "0.00057476"
      ]
     },
     "execution_count": 68,
     "metadata": {},
     "output_type": "execute_result"
    }
   ],
   "source": [
    "57476/1e08"
   ]
  },
  {
   "cell_type": "code",
   "execution_count": 87,
   "metadata": {},
   "outputs": [
    {
     "data": {
      "text/plain": [
       "0.00057476"
      ]
     },
     "execution_count": 87,
     "metadata": {},
     "output_type": "execute_result"
    }
   ],
   "source": [
    "57476/1e08"
   ]
  },
  {
   "cell_type": "code",
   "execution_count": 94,
   "metadata": {},
   "outputs": [
    {
     "data": {
      "text/plain": [
       "0.025970112781847132"
      ]
     },
     "execution_count": 94,
     "metadata": {},
     "output_type": "execute_result"
    }
   ],
   "source": [
    "sum(z['ExpectedCounterpartyProbabilityOfDefault']['Values'])"
   ]
  },
  {
   "cell_type": "code",
   "execution_count": 95,
   "metadata": {},
   "outputs": [
    {
     "data": {
      "text/plain": [
       "140857.6952450807"
      ]
     },
     "execution_count": 95,
     "metadata": {},
     "output_type": "execute_result"
    }
   ],
   "source": [
    "lambd=(130+75)/10000/0.75\n",
    "T=1\n",
    "PD=(1-np.exp(-lambd*T))\n",
    "0.75*PD*6965440"
   ]
  },
  {
   "cell_type": "code",
   "execution_count": 96,
   "metadata": {},
   "outputs": [
    {
     "data": {
      "text/plain": [
       "0.026963158153221367"
      ]
     },
     "execution_count": 96,
     "metadata": {},
     "output_type": "execute_result"
    }
   ],
   "source": [
    "PD"
   ]
  },
  {
   "cell_type": "markdown",
   "metadata": {},
   "source": [
    "# Аня Кокс 13 рейтинг форвард USDRUB"
   ]
  },
  {
   "cell_type": "code",
   "execution_count": 103,
   "metadata": {},
   "outputs": [
    {
     "name": "stderr",
     "output_type": "stream",
     "text": [
      "[INFO] 2023-11-03 17:40:40,152 - Nothing to do: current environment is already dev\n",
      "[INFO] 2023-11-03 17:40:43,755 - Compute:1ede386a4dbd3dbdd59b0677fa8475272c297901->cff8df0209d929cfafc243b9df13786ffa13eef2\n"
     ]
    },
    {
     "data": {
      "text/plain": [
       "Dict([('BCVA', -12194.366799510026),\n",
       "      ('CVA', -16451.95920050524),\n",
       "      ('DVA', 4257.592400995214),\n",
       "      ('ProductValue', 1459051.4781501503),\n",
       "      ('ReportingCurrency', 'USD'),\n",
       "      ('StandardError', 54207.66117392441),\n",
       "      ('CashToSettleToday', 0.0)])"
      ]
     },
     "execution_count": 103,
     "metadata": {},
     "output_type": "execute_result"
    }
   ],
   "source": [
    "#385 млн в конце  \n",
    "\n",
    "ps_utils.switch_to_dev()         \n",
    "r=ps_utils.pricing.XVA(ps.get('2675f5deb423805a350f4df1ea7892bf35e68682')[0])\n",
    "# r.Queries.append('LegBCVA')\n",
    "# r.Queries.append('LegPresentValues')\n",
    "\n",
    "# r.Model.TypeName='HybridCheyette1FactorMCLocalVolatilityModel'\n",
    "# r.Model.LocalVolatilityMinimum=1e-13\n",
    "# r.Model.CalibrationFrequencyInDays=30\n",
    "# r.Model.LocalVolNumberOfTimeStepsPerYear=250\n",
    "# r.Model.MonteCarloMaxStepInHours=24\n",
    "\n",
    "# r.NumberOfPaths=700000\n",
    "# r.Model.AmericanMonteCarloNumberOfPaths=2000\n",
    "\n",
    "#r.Model.TypeName='HybridCheyette1FactorANLocalVolatilityModel'\n",
    "\n",
    "\n",
    "\n",
    "new_credit_values = {'RUB_SBER_OFZ_SNR_CR': 0.7, 'RUB_MINFIN_OFZ': 1.30}\n",
    "for cr_curve, cr_value in new_credit_values.items():\n",
    "    r.Model.MarketDataSet.CreditCurves[cr_curve].RatesSchedule.Rates = [cr_value / 0.75] * \\\n",
    "                                                                       len(r.Model.MarketDataSet.CreditCurves[\n",
    "                                                                               cr_curve].RatesSchedule.Rates)\n",
    "\n",
    "\n",
    "#r.Product.NettingSets[0].MarginSets[0].Products.pop(0)\n",
    "# r.Product.NettingSets[0].MarginSets[0].Products[0].UseRateAveragingApproximation=False\n",
    "\n",
    "#r.Product.NettingSets[0].MarginSets[0].Products=['88bd8d2a539e599b36f0a26554a5f144f4317036']\n",
    "\n",
    "r.Model.MarketDataSet.Spots['USDRUB']=92.41875\n",
    "    \n",
    "z=r.price(algo_id='0534e2d4a32283b9777c8d6a640bd1c1c9470ec7')\n",
    "#z=r.price(algo_id='94b781627f848a9bf567caea0521d1472b29d80a')\n",
    "\n",
    "z\n",
    "\n",
    "\n"
   ]
  },
  {
   "cell_type": "code",
   "execution_count": 104,
   "metadata": {},
   "outputs": [
    {
     "name": "stderr",
     "output_type": "stream",
     "text": [
      "[INFO] 2023-11-03 17:41:09,422 - Compute:429c9ef9bdd769d0454451ce30e9c20e1a8d8d6d->50e64c6d3833c6382f21c90c1ff9ebbc507114d4\n"
     ]
    }
   ],
   "source": [
    "z=r.run_xva_breakdown(show=True)"
   ]
  },
  {
   "cell_type": "code",
   "execution_count": 106,
   "metadata": {},
   "outputs": [
    {
     "name": "stderr",
     "output_type": "stream",
     "text": [
      "[INFO] 2023-11-03 17:42:20,235 - Compute:75518f08488393070f7929673be29950719bcb6b->e65f1f9637f025d8616727dc2f9d5d42f4e04c96\n"
     ]
    },
    {
     "name": "stdout",
     "output_type": "stream",
     "text": [
      "i= 1 bcva= 14267.406230950623 vega= 612.4694880929335 delta= 6732.048689254245 strike_old= 94.2819 strike_new 94.28574330905006\n"
     ]
    },
    {
     "name": "stderr",
     "output_type": "stream",
     "text": [
      "[INFO] 2023-11-03 17:42:27,215 - Compute:45a4f577ccb0a0c1fc7638a8410fb7be62e7c388->22c802986778ce2dad858d9c2ca03e414dcad477\n"
     ]
    },
    {
     "name": "stdout",
     "output_type": "stream",
     "text": [
      "i= 1 bcva= 14295.192974475303 vega= 612.3938613751795 delta= 6735.216821382615 strike_all_in= 94.28574330905006 bcva_all_in= 14295.192974475303\n"
     ]
    }
   ],
   "source": [
    "#форвард \n",
    "\n",
    "for i in range(1):\n",
    "    r=ps_utils.pricing.XVA(ps.get('2675f5deb423805a350f4df1ea7892bf35e68682')[0])\n",
    "\n",
    "\n",
    "    r.set_queries([\"ProductValue\",\"CVA\",\"DVA\",\"BCVA\",\"CVA_ParallelInterestRatesVega\",\"DVA_ParallelInterestRatesVega\",\"CVA_ParallelForeignExchangeVega\",\"DVA_ParallelForeignExchangeVega\",\"CVA_ParallelCreditDelta\",\"DVA_ParallelCreditDelta\",\"CVA_ParallelRho\",\"DVA_ParallelRho\",\"CVA_CurrencyExposure\",\"DVA_CurrencyExposure\"])\n",
    "\n",
    "\n",
    "\n",
    "\n",
    "    new_credit_values = {'RUB_SBER_OFZ_SNR_CR': 0.7, 'RUB_MINFIN_OFZ': 1.30}\n",
    "    for cr_curve, cr_value in new_credit_values.items():\n",
    "        r.Model.MarketDataSet.CreditCurves[cr_curve].RatesSchedule.Rates = [cr_value / 0.75] * \\\n",
    "                                                                           len(r.Model.MarketDataSet.CreditCurves[\n",
    "                                                                                   cr_curve].RatesSchedule.Rates)\n",
    "\n",
    "    r.Model.MarketDataSet.Spots['USDRUB']=92.41875\n",
    "    r.Product.NettingSets[0].MarginSets[0].Products=[r.Product.NettingSets[0].MarginSets[0].Products[i]]\n",
    "\n",
    "    z=r.price(algo_id='0534e2d4a32283b9777c8d6a640bd1c1c9470ec7')\n",
    "    bcva=abs(z['BCVA'])\n",
    "    vega=abs((z['CVA_ParallelForeignExchangeVega']['USDRUB']/100 + z['DVA_ParallelForeignExchangeVega']['USDRUB']/100))\n",
    "    delta=abs((z['CVA_CurrencyExposure']['USD']/100 + z['DVA_CurrencyExposure']['USD']/100))\n",
    "    bcva+=vega*3\n",
    "    bcva+=delta*0.02\n",
    "    N=abs(r.Product.NettingSets[0].MarginSets[0].Products[0].Notional)\n",
    "    strike=r.Product.NettingSets[0].MarginSets[0].Products[0].Strike\n",
    "    strike_new=(1+bcva/N)*strike\n",
    "    print(\"i=\", i+1, \"bcva=\",bcva, \"vega=\",vega, \"delta=\",delta, \"strike_old=\",strike,\"strike_new\",strike_new)\n",
    "\n",
    "    r.Product.NettingSets[0].MarginSets[0].Products[0].Strike=strike_new\n",
    "    z=r.price(algo_id='0534e2d4a32283b9777c8d6a640bd1c1c9470ec7')\n",
    "    bcva=abs(z['BCVA'])\n",
    "    vega=abs((z['CVA_ParallelForeignExchangeVega']['USDRUB']/100 + z['DVA_ParallelForeignExchangeVega']['USDRUB']/100))\n",
    "    delta=abs((z['CVA_CurrencyExposure']['USD']/100 + z['DVA_CurrencyExposure']['USD']/100))\n",
    "    bcva+=vega*3\n",
    "    bcva+=delta*0.02\n",
    "    N=abs(r.Product.NettingSets[0].MarginSets[0].Products[0].Notional)\n",
    "    strike=r.Product.NettingSets[0].MarginSets[0].Products[0].Strike\n",
    "    print(\"i=\", i+1, \"bcva=\",bcva, \"vega=\",vega, \"delta=\",delta, \"strike_all_in=\",strike, \"bcva_all_in=\",bcva)\n",
    "\n",
    "#get_bcva_df(z)\n"
   ]
  },
  {
   "cell_type": "code",
   "execution_count": 107,
   "metadata": {},
   "outputs": [
    {
     "data": {
      "text/plain": [
       "0.38507421728439795"
      ]
     },
     "execution_count": 107,
     "metadata": {},
     "output_type": "execute_result"
    }
   ],
   "source": [
    "((1+14295/3.5e8)*94.2819 - 94.2819)*100"
   ]
  },
  {
   "cell_type": "code",
   "execution_count": 110,
   "metadata": {},
   "outputs": [
    {
     "data": {
      "text/plain": [
       "CMSG<e2af08051ca3e30c0f6052d8f69d6ab4ccd90868>{TypeName:'DiscountFactorCurve',Identifier:'CNH_SOFR',Currency:'CNH',InterpolationDayCountConvention:'Act365',InterpolationMethod:'CubicSpline',ExtrapolationMethod:'Flat',InterpolationSpaceCoordinates:'Rates',RateQuoteExpression:'Percentage',RatesSchedule:{Dates:[2023-11-06 00:00:00+00:00,2023-11-07 00:00:00+00:00,2023-11-14 00:00:00+00:00,2023-11-21 00:00:00+00:00,2023-11-28 00:00:00+00:00,2023-12-07 00:00:00+00:00,2024-01-08 00:00:00+00:00,2024-02-07 00:00:00+00:00,2024-03-07 00:00:00+00:00,2024-04-08 00:00:00+00:00,2024-05-07 00:00:00+00:00,2024-06-07 00:00:00+00:00,2024-07-08 00:00:00+00:00,2024-08-07 00:00:00+00:00,2024-09-09 00:00:00+00:00,2024-10-07 00:00:00+00:00,2024-11-07 00:00:00+00:00,2025-05-07 00:00:00+00:00,2025-11-07 00:00:00+00:00,2026-11-09 00:00:00+00:00,2027-11-08 00:00:00+00:00,2028-11-07 00:00:00+00:00,2029-11-07 00:00:00+00:00,2030-11-07 00:00:00+00:00,2031-11-07 00:00:00+00:00,2032-11-08 00:00:00+00:00,2033-11-07 00:00:00+00:00,2035-11-07 00:00:00+00:00,2038-11-08 00:00:00+00:00,2043-11-09 00:00:00+00:00,2048-11-09 00:00:00+00:00,2053-11-07 00:00:00+00:00,],Rates:[6.3137834983318,6.31159526707293,5.48743434258856,5.1811254218974,5.11212199159557,5.02417346680444,6.04154632376816,5.71223791878045,5.43453842717668,5.11986770463552,4.82828643197598,4.75552622387124,4.67392109319552,4.59491259244493,4.3083776087833,4.06160589640876,3.78866962242802,3.54918157189123,3.35976646523002,3.00870128113041,3.16166175297586,3.26629117721826,3.30608085130534,3.34781072267362,3.38858802963719,3.42696964022549,3.46236738238379,3.52749810806134,3.61005091698308,3.57064265230057,3.43345738803513,3.28444673375281,],},}"
      ]
     },
     "execution_count": 110,
     "metadata": {},
     "output_type": "execute_result"
    }
   ],
   "source": [
    "r.Model.MarketDataSet.RatesCurvesBundles['CNH_SOFR']"
   ]
  },
  {
   "cell_type": "code",
   "execution_count": 14,
   "metadata": {},
   "outputs": [
    {
     "data": {
      "text/html": [
       "<div>\n",
       "<style scoped>\n",
       "    .dataframe tbody tr th:only-of-type {\n",
       "        vertical-align: middle;\n",
       "    }\n",
       "\n",
       "    .dataframe tbody tr th {\n",
       "        vertical-align: top;\n",
       "    }\n",
       "\n",
       "    .dataframe thead th {\n",
       "        text-align: right;\n",
       "    }\n",
       "</style>\n",
       "<table border=\"1\" class=\"dataframe\">\n",
       "  <thead>\n",
       "    <tr style=\"text-align: right;\">\n",
       "      <th></th>\n",
       "      <th>№ п/п</th>\n",
       "      <th>Инв. Номер</th>\n",
       "      <th>Наименование</th>\n",
       "      <th>Кол-во</th>\n",
       "      <th>Цена  за ед. без НДС,  рублей</th>\n",
       "      <th>Стоимость без НДС,  рублей</th>\n",
       "      <th>НДС 20%, рублей</th>\n",
       "      <th>Стоимость с учетом НДС,  рублей</th>\n",
       "    </tr>\n",
       "  </thead>\n",
       "  <tbody>\n",
       "    <tr>\n",
       "      <th>1</th>\n",
       "      <td>1.0</td>\n",
       "      <td>9.945991e+11</td>\n",
       "      <td>Ванна моечная НСО2М-12/6Б</td>\n",
       "      <td>1.0</td>\n",
       "      <td>1790.85</td>\n",
       "      <td>1790.85</td>\n",
       "      <td>358.17</td>\n",
       "      <td>2149.02</td>\n",
       "    </tr>\n",
       "    <tr>\n",
       "      <th>2</th>\n",
       "      <td>2.0</td>\n",
       "      <td>9.945991e+11</td>\n",
       "      <td>Ванна моечная НСО2М-12/6Б</td>\n",
       "      <td>1.0</td>\n",
       "      <td>1790.85</td>\n",
       "      <td>1790.85</td>\n",
       "      <td>358.17</td>\n",
       "      <td>2149.02</td>\n",
       "    </tr>\n",
       "    <tr>\n",
       "      <th>3</th>\n",
       "      <td>3.0</td>\n",
       "      <td>9.945991e+11</td>\n",
       "      <td>Ванна моечная НСО2М-12/6Б</td>\n",
       "      <td>1.0</td>\n",
       "      <td>1790.85</td>\n",
       "      <td>1790.85</td>\n",
       "      <td>358.17</td>\n",
       "      <td>2149.02</td>\n",
       "    </tr>\n",
       "    <tr>\n",
       "      <th>4</th>\n",
       "      <td>4.0</td>\n",
       "      <td>9.945991e+11</td>\n",
       "      <td>Ванна моечная НСО2М-12/6Б</td>\n",
       "      <td>1.0</td>\n",
       "      <td>1790.85</td>\n",
       "      <td>1790.85</td>\n",
       "      <td>358.17</td>\n",
       "      <td>2149.02</td>\n",
       "    </tr>\n",
       "    <tr>\n",
       "      <th>5</th>\n",
       "      <td>5.0</td>\n",
       "      <td>9.945991e+11</td>\n",
       "      <td>Ванна моечная НСО М-6/6Б</td>\n",
       "      <td>1.0</td>\n",
       "      <td>1130.85</td>\n",
       "      <td>1130.85</td>\n",
       "      <td>226.17</td>\n",
       "      <td>1357.02</td>\n",
       "    </tr>\n",
       "    <tr>\n",
       "      <th>...</th>\n",
       "      <td>...</td>\n",
       "      <td>...</td>\n",
       "      <td>...</td>\n",
       "      <td>...</td>\n",
       "      <td>...</td>\n",
       "      <td>...</td>\n",
       "      <td>...</td>\n",
       "      <td>...</td>\n",
       "    </tr>\n",
       "    <tr>\n",
       "      <th>186</th>\n",
       "      <td>186.0</td>\n",
       "      <td>1.090000e+11</td>\n",
       "      <td>Столешница топ ARTISHOK Кварцит GAYA DARK шлиф...</td>\n",
       "      <td>1.0</td>\n",
       "      <td>3573.68</td>\n",
       "      <td>3573.68</td>\n",
       "      <td>714.74</td>\n",
       "      <td>4288.42</td>\n",
       "    </tr>\n",
       "    <tr>\n",
       "      <th>187</th>\n",
       "      <td>187.0</td>\n",
       "      <td>1.090000e+11</td>\n",
       "      <td>Столешница топ ARTISHOK Кварцит GAYA DARK шлиф...</td>\n",
       "      <td>1.0</td>\n",
       "      <td>3573.68</td>\n",
       "      <td>3573.68</td>\n",
       "      <td>714.74</td>\n",
       "      <td>4288.42</td>\n",
       "    </tr>\n",
       "    <tr>\n",
       "      <th>188</th>\n",
       "      <td>188.0</td>\n",
       "      <td>1.090000e+11</td>\n",
       "      <td>Столешница топ ARTISHOK Кварцит GAYA DARK шлиф...</td>\n",
       "      <td>1.0</td>\n",
       "      <td>3573.68</td>\n",
       "      <td>3573.68</td>\n",
       "      <td>714.74</td>\n",
       "      <td>4288.42</td>\n",
       "    </tr>\n",
       "    <tr>\n",
       "      <th>189</th>\n",
       "      <td>189.0</td>\n",
       "      <td>1.090000e+11</td>\n",
       "      <td>Столешница топ ARTISHOK Кварцит GAYA DARK шлиф...</td>\n",
       "      <td>1.0</td>\n",
       "      <td>3573.68</td>\n",
       "      <td>3573.68</td>\n",
       "      <td>714.74</td>\n",
       "      <td>4288.42</td>\n",
       "    </tr>\n",
       "    <tr>\n",
       "      <th>190</th>\n",
       "      <td>190.0</td>\n",
       "      <td>7.101720e+05</td>\n",
       "      <td>Стол для переговоров составной</td>\n",
       "      <td>1.0</td>\n",
       "      <td>16322.00</td>\n",
       "      <td>16322.00</td>\n",
       "      <td>3264.40</td>\n",
       "      <td>19586.40</td>\n",
       "    </tr>\n",
       "  </tbody>\n",
       "</table>\n",
       "<p>190 rows × 8 columns</p>\n",
       "</div>"
      ],
      "text/plain": [
       "     № п/п    Инв. Номер                                       Наименование  \\\n",
       "1      1.0  9.945991e+11                          Ванна моечная НСО2М-12/6Б   \n",
       "2      2.0  9.945991e+11                          Ванна моечная НСО2М-12/6Б   \n",
       "3      3.0  9.945991e+11                          Ванна моечная НСО2М-12/6Б   \n",
       "4      4.0  9.945991e+11                          Ванна моечная НСО2М-12/6Б   \n",
       "5      5.0  9.945991e+11                           Ванна моечная НСО М-6/6Б   \n",
       "..     ...           ...                                                ...   \n",
       "186  186.0  1.090000e+11  Столешница топ ARTISHOK Кварцит GAYA DARK шлиф...   \n",
       "187  187.0  1.090000e+11  Столешница топ ARTISHOK Кварцит GAYA DARK шлиф...   \n",
       "188  188.0  1.090000e+11  Столешница топ ARTISHOK Кварцит GAYA DARK шлиф...   \n",
       "189  189.0  1.090000e+11  Столешница топ ARTISHOK Кварцит GAYA DARK шлиф...   \n",
       "190  190.0  7.101720e+05                     Стол для переговоров составной   \n",
       "\n",
       "     Кол-во  Цена  за ед. без НДС,  рублей  Стоимость без НДС,  рублей  \\\n",
       "1       1.0                        1790.85                     1790.85   \n",
       "2       1.0                        1790.85                     1790.85   \n",
       "3       1.0                        1790.85                     1790.85   \n",
       "4       1.0                        1790.85                     1790.85   \n",
       "5       1.0                        1130.85                     1130.85   \n",
       "..      ...                            ...                         ...   \n",
       "186     1.0                        3573.68                     3573.68   \n",
       "187     1.0                        3573.68                     3573.68   \n",
       "188     1.0                        3573.68                     3573.68   \n",
       "189     1.0                        3573.68                     3573.68   \n",
       "190     1.0                       16322.00                    16322.00   \n",
       "\n",
       "     НДС 20%, рублей  Стоимость с учетом НДС,  рублей  \n",
       "1             358.17                          2149.02  \n",
       "2             358.17                          2149.02  \n",
       "3             358.17                          2149.02  \n",
       "4             358.17                          2149.02  \n",
       "5             226.17                          1357.02  \n",
       "..               ...                              ...  \n",
       "186           714.74                          4288.42  \n",
       "187           714.74                          4288.42  \n",
       "188           714.74                          4288.42  \n",
       "189           714.74                          4288.42  \n",
       "190          3264.40                         19586.40  \n",
       "\n",
       "[190 rows x 8 columns]"
      ]
     },
     "execution_count": 14,
     "metadata": {},
     "output_type": "execute_result"
    }
   ],
   "source": [
    "import pandas as pd\n",
    "import numpy as np\n",
    "df=pd.read_excel('ПриложениеСпецТМЦ.xlsx')\n",
    "df=df.iloc[1:-1,:]\n",
    "df"
   ]
  },
  {
   "cell_type": "code",
   "execution_count": 24,
   "metadata": {},
   "outputs": [
    {
     "name": "stdout",
     "output_type": "stream",
     "text": [
      "НДСнеокругл 135980.37799999982 135980.38\n",
      "НДСокругл 135980.4399999998 135980.44\n"
     ]
    }
   ],
   "source": [
    "df['БезНДС']=df['Кол-во']*df['Цена  за ед. без НДС,  рублей']\n",
    "df['НДСнеокругл']=0.2*np.array(df['БезНДС'])\n",
    "print(\"НДСнеокругл\", sum(df['НДСнеокругл']), np.round(sum(df['НДСнеокругл']),2))\n",
    "\n",
    "df['НДСокругл']=list(map(lambda x: np.round(x,2),df['НДСнеокругл'] ))\n",
    "print(\"НДСокругл\", sum(df['НДСокругл']),np.round(sum(df['НДСокругл']),2))"
   ]
  },
  {
   "cell_type": "code",
   "execution_count": 27,
   "metadata": {},
   "outputs": [
    {
     "name": "stderr",
     "output_type": "stream",
     "text": [
      "[INFO] 2023-11-09 12:24:12,565 - Nothing to do: current environment is already dev\n",
      "[INFO] 2023-11-09 12:24:12,598 - Compute:516478ef31f75e1feba3a5b7936a8714c5f9b74d->6bf03741ce3fbc48595906c6b0ff0631df5beb65\n"
     ]
    },
    {
     "data": {
      "text/plain": [
       "Dict([('ProductValue', -4009329.0047578486),\n",
       "      ('ReportingCurrency', 'USD'),\n",
       "      ('StandardError', 2491.2372903411933),\n",
       "      ('CashToSettleToday', 0.0),\n",
       "      ('CVA', -0.01682563219643925),\n",
       "      ('DVA', 20341.15413077466),\n",
       "      ('BCVA', 20341.137305142463),\n",
       "      ('CVA_Rho',\n",
       "       Dict([('RUB_KEY_RATE',\n",
       "              [-653623157802.8243,\n",
       "               3558357992326.2666,\n",
       "               -5485671374975.552,\n",
       "               -1115601080712.0073,\n",
       "               1498253350098.3452,\n",
       "               425508382489.7253,\n",
       "               -37768801011.822105,\n",
       "               118672695519.28761,\n",
       "               -32553667482.859333,\n",
       "               4242766701.187079,\n",
       "               -91573866.15796992,\n",
       "               19996721.786062974,\n",
       "               -5399883.528580066,\n",
       "               1442619.399140029,\n",
       "               -386540.9254566749,\n",
       "               103544.30268667062,\n",
       "               -27648.43020111806,\n",
       "               7218.121260522553,\n",
       "               -1568.0818938306488,\n",
       "               160.59914015069742,\n",
       "               -25.639635170881906]),\n",
       "             ('RUB_RUONIA_OIS',\n",
       "              [7.711833877571793e-05,\n",
       "               -0.00030847335510287194,\n",
       "               0.0005059389976427735,\n",
       "               -0.0006994635895302678,\n",
       "               0.0030698472911106474,\n",
       "               -0.0033571367290384743,\n",
       "               0.0038468285656324494,\n",
       "               0.00684948321858156,\n",
       "               -0.0008259431685844058,\n",
       "               3.2773400592327694e-05,\n",
       "               -8.757034774196187e-06,\n",
       "               2.364735997344436e-06,\n",
       "               -6.31756963934161e-07,\n",
       "               1.6927536233630422e-07,\n",
       "               -4.5344485411055605e-08,\n",
       "               1.2107897850130365e-08,\n",
       "               -3.16098506340252e-09,\n",
       "               6.86699941118997e-10,\n",
       "               -7.03301406126407e-11,\n",
       "               1.122819926142115e-11]),\n",
       "             ('RUB_SOFR',\n",
       "              [-0.0008383714153884427,\n",
       "               0.00029497798548802244,\n",
       "               -0.001032422949208078,\n",
       "               0.0026953613423968043,\n",
       "               -0.003468094199888621,\n",
       "               0.047528227521604544,\n",
       "               -0.07252994444791029,\n",
       "               -0.0004883021387329294,\n",
       "               -0.0012453978726264076,\n",
       "               0.03298200898809487,\n",
       "               -0.005672544170397772,\n",
       "               0.27895950150870275,\n",
       "               -0.00018806256879944788,\n",
       "               -0.002218158299384818,\n",
       "               0.0006404982187174305,\n",
       "               -0.00011255764331753114,\n",
       "               2.1156894279000007e-06,\n",
       "               -4.5506802797405597e-07,\n",
       "               5.150925554368056e-08,\n",
       "               -1.390947893166693e-08,\n",
       "               3.716021621012226e-09,\n",
       "               -9.956848232346184e-10,\n",
       "               2.667176719262477e-10,\n",
       "               -7.121716025419881e-11,\n",
       "               1.8585474907872044e-11,\n",
       "               -4.024104941672616e-12,\n",
       "               3.8617065853885933e-13,\n",
       "               -5.380795351435187e-14,\n",
       "               7.854993090146728e-15,\n",
       "               -2.2458657379100897e-15,\n",
       "               5.623895192941352e-16]),\n",
       "             ('USD_LIBOR_3M',\n",
       "              [1167195391211.3044,\n",
       "               -2607918120233.78,\n",
       "               443588613473.3142,\n",
       "               -60529547320.32786,\n",
       "               13055461044.340586,\n",
       "               -1512347426.1462815,\n",
       "               404412288.56015474,\n",
       "               -107836286.96234624,\n",
       "               28975167.932676025,\n",
       "               -7749570.3428944005,\n",
       "               2070680.784120239,\n",
       "               -559162.707428912,\n",
       "               149381.90625790926,\n",
       "               -40016.231157746675,\n",
       "               10689.94676176711,\n",
       "               -2842.0587872756087,\n",
       "               736.1609243551715,\n",
       "               -137.0770893679759,\n",
       "               3.694870232225083,\n",
       "               -1.0556772092071667,\n",
       "               0.2639193023017915]),\n",
       "             ('USD_SOFR',\n",
       "              [14851803.7483447,\n",
       "               -68197058.02807091,\n",
       "               252177565.68602222,\n",
       "               -565648289.6985084,\n",
       "               787258004.0239342,\n",
       "               -17991566308.50174,\n",
       "               -1249502139010.3645,\n",
       "               124678493.48183873,\n",
       "               -36933799.346080765,\n",
       "               209381706821.3637,\n",
       "               -2317228.0077950973,\n",
       "               716213.1057969348,\n",
       "               182423219780.74548,\n",
       "               44398.93655110791,\n",
       "               -12131.580874116398,\n",
       "               2216.417775316961,\n",
       "               -41.49626593124944,\n",
       "               8.856930638422266,\n",
       "               -1.0259887539995218,\n",
       "               0.2743565629369824,\n",
       "               -0.07315696297649978,\n",
       "               0.019656807565934152,\n",
       "               -0.005256698585312978,\n",
       "               0.001402238803206923,\n",
       "               -0.0003699062269027175,\n",
       "               7.917841840643551e-05,\n",
       "               -7.629806621256965e-06,\n",
       "               1.0640878986860645e-06,\n",
       "               -1.5514212870909958e-07,\n",
       "               4.4326322488314156e-08,\n",
       "               -1.1081580622078532e-08]),\n",
       "             ('USD_XCCY',\n",
       "              [0.0,\n",
       "               0.0,\n",
       "               0.0,\n",
       "               0.0,\n",
       "               0.0,\n",
       "               0.0,\n",
       "               0.0,\n",
       "               0.0,\n",
       "               0.0,\n",
       "               0.0,\n",
       "               0.0,\n",
       "               0.0,\n",
       "               0.0,\n",
       "               0.0,\n",
       "               0.0,\n",
       "               0.0,\n",
       "               0.0,\n",
       "               0.0,\n",
       "               0.0,\n",
       "               0.0,\n",
       "               0.0])])),\n",
       "      ('DVA_Rho',\n",
       "       Dict([('RUB_KEY_RATE',\n",
       "              [-369595058564679.25,\n",
       "               1838855075647698.0,\n",
       "               -3981504170095953.0,\n",
       "               6729790395120908.0,\n",
       "               -5123950680693954.0,\n",
       "               -885233913353273.8,\n",
       "               -3199710071773.4893,\n",
       "               -374555183812560.2,\n",
       "               102746001129077.08,\n",
       "               -13391035357233.08,\n",
       "               289025762169.9559,\n",
       "               -63113724445.65505,\n",
       "               17043131604.64954,\n",
       "               -4553200480.127614,\n",
       "               1220001844.1644902,\n",
       "               -326806896.53034747,\n",
       "               87264073.76855612,\n",
       "               -22781860.00314593,\n",
       "               4949185.652241531,\n",
       "               -506883.5775244275,\n",
       "               80923.90774721916]),\n",
       "             ('RUB_RUONIA_OIS',\n",
       "              [-54.97736653988788,\n",
       "               220.0518835257837,\n",
       "               -360.31570998386104,\n",
       "               503.5483650586957,\n",
       "               -1937.1206810856413,\n",
       "               1773.5097823245808,\n",
       "               -4161.011037292602,\n",
       "               -8669.560727983506,\n",
       "               982.9252975538436,\n",
       "               -39.002446844226164,\n",
       "               10.421432537384698,\n",
       "               -2.814187370554577,\n",
       "               0.751831270450467,\n",
       "               -0.20144852844792677,\n",
       "               0.053962843341240074,\n",
       "               -0.014409174323081423,\n",
       "               0.0037617747832860257,\n",
       "               -0.0008172169340796708,\n",
       "               8.369737412704198e-05,\n",
       "               -1.3362276630899179e-05]),\n",
       "             ('RUB_SOFR',\n",
       "              [-143.48568358963996,\n",
       "               16.079278472921164,\n",
       "               -56.277474655224054,\n",
       "               146.92440704631707,\n",
       "               -189.0461497256247,\n",
       "               1970.1162165716476,\n",
       "               133.78978969427337,\n",
       "               -13.690462421622723,\n",
       "               -41.770894144229516,\n",
       "               181.384633758937,\n",
       "               -659.3727728635333,\n",
       "               26861.51737288674,\n",
       "               755.3252340785369,\n",
       "               -188.31215445788848,\n",
       "               54.38131769036996,\n",
       "               -9.55667444631947,\n",
       "               0.1796320045092046,\n",
       "               -0.038637420490477664,\n",
       "               0.0043733785791387585,\n",
       "               -0.0011809803221704135,\n",
       "               0.0003155077507025859,\n",
       "               -8.45383345487329e-05,\n",
       "               2.26455874923457e-05,\n",
       "               -6.046672580206158e-06,\n",
       "               1.5779944203674387e-06,\n",
       "               -3.4166547674511235e-07,\n",
       "               3.278770908489582e-08,\n",
       "               -4.568548871520844e-09,\n",
       "               6.669259370405569e-10,\n",
       "               -1.9068458680146205e-10,\n",
       "               4.774952095215953e-11]),\n",
       "             ('USD_LIBOR_3M',\n",
       "              [1011675582752745.9,\n",
       "               -1052284709959317.6,\n",
       "               -1271452055740042.2,\n",
       "               163270976741800.2,\n",
       "               -35321280551362.27,\n",
       "               4091624765193.5405,\n",
       "               -1094129104605.1442,\n",
       "               291748849962.3205,\n",
       "               -78391719150.85577,\n",
       "               20966302706.908005,\n",
       "               -5602184148.060472,\n",
       "               1512803170.709739,\n",
       "               -404149665.9759991,\n",
       "               108263087.95457219,\n",
       "               -28921430.454972826,\n",
       "               7689131.423845217,\n",
       "               -1991668.1955380577,\n",
       "               370859.23770032526,\n",
       "               -9996.39519661951,\n",
       "               2856.11291331986,\n",
       "               -714.0282283299646]),\n",
       "             ('USD_SOFR',\n",
       "              [-4281507155.678047,\n",
       "               19659982356.404472,\n",
       "               -72698245869.01562,\n",
       "               163066204275.63928,\n",
       "               -226952289682.0268,\n",
       "               5186644222721.268,\n",
       "               359797817459005.5,\n",
       "               -35942562087.887596,\n",
       "               10647348743.988487,\n",
       "               -350674781735039.44,\n",
       "               668013033.2877018,\n",
       "               -206471845.03596327,\n",
       "               -633876744207553.2,\n",
       "               -12800159.19234328,\n",
       "               3497519.95218908,\n",
       "               -638990.5381661331,\n",
       "               11963.322797076078,\n",
       "               -2553.4422878990913,\n",
       "               295.791304947823,\n",
       "               -79.09666207917067,\n",
       "               21.091063094487414,\n",
       "               -5.667033618419769,\n",
       "               1.5154997832148023,\n",
       "               -0.4042637346970788,\n",
       "               0.10664351352522847,\n",
       "               -0.022827041342165826,\n",
       "               0.0021996639321859367,\n",
       "               -0.0003067752418382594,\n",
       "               4.472728626347989e-05,\n",
       "               -1.2779224646708544e-05,\n",
       "               3.194806161677133e-06]),\n",
       "             ('USD_XCCY',\n",
       "              [0.0,\n",
       "               0.0,\n",
       "               0.0,\n",
       "               0.0,\n",
       "               0.0,\n",
       "               0.0,\n",
       "               0.0,\n",
       "               0.0,\n",
       "               0.0,\n",
       "               0.0,\n",
       "               0.0,\n",
       "               0.0,\n",
       "               0.0,\n",
       "               0.0,\n",
       "               0.0,\n",
       "               0.0,\n",
       "               0.0,\n",
       "               0.0,\n",
       "               0.0,\n",
       "               0.0,\n",
       "               0.0])]))])"
      ]
     },
     "execution_count": 27,
     "metadata": {},
     "output_type": "execute_result"
    }
   ],
   "source": [
    "ps_utils.switch_to_dev()\n",
    "r=ps.get('516478ef31f75e1feba3a5b7936a8714c5f9b74d')\n",
    "ps_utils.compute(ps.put(r),algo_id='4378aad7661ecd69fcd1b35066a0aa8da52739a5')"
   ]
  },
  {
   "cell_type": "code",
   "execution_count": null,
   "metadata": {},
   "outputs": [],
   "source": [
    "ps_utils.switch_to_prod_pvlss()\n",
    "r=ps.get('516478ef31f75e1feba3a5b7936a8714c5f9b74d')\n",
    "ps_utils.compute(ps.put(r),algo_id='4378aad7661ecd69fcd1b35066a0aa8da52739a5')"
   ]
  }
 ],
 "metadata": {
  "kernelspec": {
   "display_name": "Python 3",
   "language": "python",
   "name": "python3"
  },
  "language_info": {
   "codemirror_mode": {
    "name": "ipython",
    "version": 3
   },
   "file_extension": ".py",
   "mimetype": "text/x-python",
   "name": "python",
   "nbconvert_exporter": "python",
   "pygments_lexer": "ipython3",
   "version": "3.8.5"
  }
 },
 "nbformat": 4,
 "nbformat_minor": 5
}
