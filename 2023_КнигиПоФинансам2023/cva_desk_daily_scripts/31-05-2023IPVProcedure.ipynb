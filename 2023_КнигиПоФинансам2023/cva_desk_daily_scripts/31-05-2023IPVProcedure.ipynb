{
 "cells": [
  {
   "cell_type": "code",
   "execution_count": 32,
   "id": "24b84dd5",
   "metadata": {},
   "outputs": [
    {
     "name": "stderr",
     "output_type": "stream",
     "text": [
      "[INFO] 2023-06-05 21:40:26,225 - Nothing to do: current environment is already prod_pvlss\n"
     ]
    },
    {
     "name": "stdout",
     "output_type": "stream",
     "text": [
      "8d4dbddb5863ed49a46220530cca541a9f123e8e\n"
     ]
    }
   ],
   "source": [
    "# -*- coding: utf-8 -*-\n",
    "\"\"\"\n",
    "Created on Mon Sep 26 09:58:21 2022\n",
    "\n",
    "@author: tabubakirov\n",
    "\"\"\"\n",
    "\n",
    "import ps, ps_utils\n",
    "import numpy as np\n",
    "import pandas as pd\n",
    "import datetime as dt\n",
    "ps_utils.switch_to_prod_pvlss()\n",
    "\n",
    "# Static data\n",
    "t = dt.date(2023, 5, 31) # On which date override is performed\n",
    "# Constant override\n",
    "md_override_hash = '1b182fda53a2e8eea2a7a0ec749ecd891f86fd84' \n",
    "md_override = ps.get(md_override_hash)\n",
    "mds = ps_utils.market.get_mds(t)\n",
    "mds = ps_utils.market.mds_apply_overrides(mds, md_override) # Applying constant override\n",
    "md_source = '31-05-2023_SourceTableWithMarketData.xlsx'\n",
    "#md_source = 'MarketData_FX_IR.xlsx'\n",
    "\n",
    "# Boolean values in order to understand, what market data to replace\n",
    "is_override_all = False\n",
    "is_override_credit_curves = False\n",
    "is_override_ir_curves = True\n",
    "is_override_ir_vols = False\n",
    "is_override_fx_vols = False\n",
    "is_override_com_curves = False\n",
    "\n",
    "# Replacing market data\n",
    "md_override = ps.new_cm()\n",
    "\n",
    "# Credit curves\n",
    "if is_override_credit_curves or is_override_all:\n",
    "    md_override['CreditCurves'] = {}\n",
    "    \n",
    "    curves_df = pd.read_excel(md_source, 'CreditCurves')\n",
    "    unique_curves = curves_df.Curve.unique()\n",
    "    for curve_name in unique_curves:\n",
    "        curve_ps = mds.CreditCurves[curve_name]\n",
    "        curve_df = curves_df.loc[curves_df['Curve'] == curve_name]\n",
    "        curve_ps.Quotes.Values = curve_df['Values'].tolist()\n",
    "        curve_ps.RatesSchedule.Rates = curve_df['Rates'].tolist()\n",
    "        md_override.CreditCurves[curve_name] = curve_ps\n",
    "\n",
    "# IR Curves\n",
    "if is_override_ir_curves or is_override_all:\n",
    "    md_override['RatesCurvesBundles'] = {}\n",
    "    \n",
    "    curves_df = pd.read_excel(md_source, 'IRCurves')\n",
    "    unique_curves = curves_df.Curve.unique()\n",
    "    for curve_name in unique_curves:\n",
    "        curve_ps = mds.RatesCurvesBundles[curve_name]\n",
    "        curve_df = curves_df.loc[curves_df['Curve'] == curve_name]\n",
    "        \n",
    "        # Redefining curve\n",
    "        n = len(curve_ps.RatesSchedule.Dates)\n",
    "        for i in range(0, n):\n",
    "            date = curve_ps.RatesSchedule.Dates[i]\n",
    "            curve_sub_df = curve_df.loc[curve_df['Date'] == date.strftime('%Y-%m-%d')]\n",
    "            if not curve_sub_df.empty:\n",
    "                disc_rate = curve_sub_df.iloc[0]['Rate']\n",
    "                curve_ps.RatesSchedule.Rates[i] = disc_rate\n",
    "        \n",
    "        # Saving curve\n",
    "        md_override.RatesCurvesBundles[curve_name] = curve_ps\n",
    "\n",
    "\n",
    "# IR Vols\n",
    "if is_override_all or is_override_ir_vols:\n",
    "    if 'VolatilitySurfaces' not in md_override.keys():\n",
    "        md_override['VolatilitySurfaces'] = {}\n",
    "    \n",
    "    surfaces = ['RUB_KEY_RATE', 'RUB_MOSPRIME_3M'] # List here the surfaces to be overriden\n",
    "    # Names of surfaces should correspond both: their names in Excel source and PS\n",
    "    # market data object\n",
    "    for surface_name in surfaces:\n",
    "        # Reading target surface from Excel\n",
    "        surface_df = pd.read_excel(md_source, 'IRVol_' + surface_name)\n",
    "        \n",
    "        #Getting current surface from PS\n",
    "        surface_ps = mds.VolatilitySurfaces[surface_name]\n",
    "        tenors = surface_ps.Tenors\n",
    "        strikes = surface_ps.Strikes\n",
    "        new_surface = []\n",
    "        \n",
    "        # Preparing target surface to be assigned in PS\n",
    "        for tenor in tenors:\n",
    "            new_surface.append(list(surface_df[tenor] / 100))\n",
    "        \n",
    "        # Saving target surface in PS\n",
    "        surface_ps.VolatilityQuotes = new_surface\n",
    "        md_override.VolatilitySurfaces[surface_name] = surface_ps\n",
    "    \n",
    "\n",
    "# FX Vols\n",
    "if is_override_fx_vols or is_override_all:\n",
    "    if 'VolatilitySurfaces' not in md_override.keys():\n",
    "        md_override['VolatilitySurfaces'] = {}\n",
    "    \n",
    "    surfaces = ['USDRUB', 'EURRUB', 'XAUUSD', 'CNHRUB'] # List here the surfaces to be overriden\n",
    "    # Names of surfaces should correspond both: their names in Excel source and PS\n",
    "    # market data object\n",
    "    for surface_name in surfaces:\n",
    "        # Reading target surface from Excel\n",
    "        surface_df = pd.read_excel(md_source, 'FXVol_' + surface_name)\n",
    "        \n",
    "        #Getting current surface from PS\n",
    "        surface_ps = mds.VolatilitySurfaces[surface_name]\n",
    "        tenors = surface_ps.Tenors\n",
    "        deltas = surface_ps.Deltas\n",
    "        new_surface = []\n",
    "        \n",
    "        # Preparing target surface to be assigned in PS\n",
    "        for tenor in tenors:\n",
    "            row_df = surface_df[surface_df['Tenor'] == tenor]\n",
    "            vols = list(map(lambda delta: row_df[delta].tolist()[0], deltas))\n",
    "            new_surface.append(vols)\n",
    "        \n",
    "        # Saving target surface in PS\n",
    "        surface_ps.VolatilityQuotes = new_surface\n",
    "        md_override.VolatilitySurfaces[surface_name] = surface_ps\n",
    "\n",
    "# Commodity curves\n",
    "if is_override_com_curves or is_override_all:\n",
    "    md_override['Forwards'] = {}\n",
    "    \n",
    "    curves_df = pd.read_excel(md_source, 'ComCurves')\n",
    "    unique_curves = curves_df.Curve.unique()\n",
    "    for curve_name in unique_curves:\n",
    "        curve_ps = mds.Forwards[curve_name]\n",
    "        curve_df = curves_df.loc[curves_df['Curve'] == curve_name]\n",
    "        \n",
    "        # Redefining curve\n",
    "        n = len(curve_ps.ForwardSchedule.Dates)\n",
    "        for i in range(0, n):\n",
    "            date = curve_ps.ForwardSchedule.Dates[i]\n",
    "            curve_sub_df = curve_df.loc[curve_df['Date'] == date.strftime('%Y-%m-%d')]\n",
    "            if not curve_sub_df.empty:\n",
    "                price = curve_sub_df.iloc[0]['Quote']\n",
    "                curve_ps.ForwardSchedule.ForwardQuotes[i] = price\n",
    "        \n",
    "        # Saving curve\n",
    "        md_override.Forwards[curve_name] = curve_ps\n",
    "\n",
    "mds = ps_utils.market.mds_apply_overrides(mds, md_override)\n",
    "print(mds._id)\n"
   ]
  },
  {
   "cell_type": "code",
   "execution_count": 47,
   "id": "2eb53824",
   "metadata": {},
   "outputs": [
    {
     "data": {
      "text/plain": [
       "'2eac8bb2dbd9dc5fd1a2fee89524c8d8c80718f3'"
      ]
     },
     "execution_count": 47,
     "metadata": {},
     "output_type": "execute_result"
    }
   ],
   "source": [
    "r=ps.get('8c19cdbfaf6567d0015b8e649299c66a029faa63')\n",
    "r.CreditCurves['RUB_']._id"
   ]
  },
  {
   "cell_type": "code",
   "execution_count": 49,
   "id": "748417ba",
   "metadata": {},
   "outputs": [
    {
     "data": {
      "text/plain": [
       "'2eac8bb2dbd9dc5fd1a2fee89524c8d8c80718f3'"
      ]
     },
     "execution_count": 49,
     "metadata": {},
     "output_type": "execute_result"
    }
   ],
   "source": [
    "r=ps.get('6bd86ed711f77f3036b30d53b367f2a7867a3dd2')\n",
    "r.CreditCurves['RUB_MINFIN_OFZ']._id"
   ]
  },
  {
   "cell_type": "markdown",
   "id": "90831ac0",
   "metadata": {},
   "source": [
    "# CS01: спред россии, сбера 51, и северстали 63bp оверрайд 72886080d143636ae0e69976d471e90b050f0335"
   ]
  },
  {
   "cell_type": "code",
   "execution_count": 43,
   "id": "7a923183",
   "metadata": {},
   "outputs": [
    {
     "name": "stdout",
     "output_type": "stream",
     "text": [
      "BCVA_FO= -17636195.80973125\n"
     ]
    },
    {
     "name": "stderr",
     "output_type": "stream",
     "text": [
      "[INFO] 2023-06-06 11:01:36,349 - Compute:b4fe9813e2e15d4547cc1788141e0455452158ea->89a9da436230b9a95bd938b882751842a1b29be8\n"
     ]
    },
    {
     "name": "stdout",
     "output_type": "stream",
     "text": [
      "Some failures\n",
      "BCVA_IPV= -15760153.441206252\n",
      "Diff= 1876042.3685249966\n"
     ]
    }
   ],
   "source": [
    "#resp_published_31-05-2023\n",
    "bcva_fo=0\n",
    "published_resp_hash=ps.get('67dabf2628afbba9d08c1c543cb420b0409cab19')\n",
    "for el in published_resp_hash.Result:\n",
    "    try:\n",
    "        bcva_fo+=el.Result['BCVA']\n",
    "    except:\n",
    "        continue\n",
    "print(\"BCVA_FO=\",bcva_fo)\n",
    "\n",
    "\n",
    "#reqv_hash=ps.get(published_resp_hash._nonce)\n",
    "reqv_hash=ps.get('e93a9ab90b2ec4e4e00e06ff017fe6a6eb88b39c')\n",
    "for el in reqv_hash:\n",
    "    el.Model.MarketDataSet='72886080d143636ae0e69976d471e90b050f0335'\n",
    "    el.Queries=['BCVA']\n",
    "try:\n",
    "    ps_utils.compute(ps.put(reqv_hash),algo_id='833aa9286a2951a0eac3fb38913d6990435e5c4c')\n",
    "except:\n",
    "    print(\"Some failures\")\n",
    "    \n",
    "bcva_ipv=0\n",
    "ipv_resp_hash=ps.get('89a9da436230b9a95bd938b882751842a1b29be8')\n",
    "for el in ipv_resp_hash.Result:\n",
    "    try:\n",
    "        bcva_ipv+=el.Result['BCVA']\n",
    "    except:\n",
    "        continue\n",
    "print(\"BCVA_IPV=\",bcva_ipv)\n",
    "print(\"Diff=\",bcva_ipv-bcva_fo)"
   ]
  },
  {
   "cell_type": "code",
   "execution_count": 30,
   "id": "af7f9a03",
   "metadata": {},
   "outputs": [
    {
     "data": {
      "text/plain": [
       "1991042"
      ]
     },
     "execution_count": 30,
     "metadata": {},
     "output_type": "execute_result"
    }
   ],
   "source": [
    "# Тимур еще RPZSO добавил\n",
    "1876042+115000"
   ]
  },
  {
   "cell_type": "code",
   "execution_count": 44,
   "id": "55182589",
   "metadata": {},
   "outputs": [
    {
     "data": {
      "text/plain": [
       "1993798"
      ]
     },
     "execution_count": 44,
     "metadata": {},
     "output_type": "execute_result"
    }
   ],
   "source": [
    "published=-17636195\n",
    "published_with_rpzso=-17753951\n",
    "with_cs01_curves_and_rpzso=-15760153\n",
    "with_cs01_curves_and_rpzso-published_with_rpzso"
   ]
  },
  {
   "cell_type": "markdown",
   "id": "dae574fe",
   "metadata": {},
   "source": [
    "# FXVega оверрайд USDRUB EURRUB CNHRUB XAUUSD 37874a0d59198d955ef2f45623d88a57108cd667"
   ]
  },
  {
   "cell_type": "code",
   "execution_count": 3,
   "id": "52e4c8c0",
   "metadata": {},
   "outputs": [
    {
     "name": "stdout",
     "output_type": "stream",
     "text": [
      "BCVA_FO= -17636195.80973125\n"
     ]
    },
    {
     "name": "stderr",
     "output_type": "stream",
     "text": [
      "[INFO] 2023-06-05 20:08:43,769 - Compute:9025651311c5f22764f66d36de8b3d0aa927611a->eec6787bddcd0b16232ed9882b32ab7845170ca8\n"
     ]
    },
    {
     "name": "stdout",
     "output_type": "stream",
     "text": [
      "Calculation finished\n",
      "BCVA_IPV= -17636365.412996475\n",
      "Diff= -169.6032652258873\n"
     ]
    }
   ],
   "source": [
    "#resp_published_31-05-2023\n",
    "bcva_fo=0\n",
    "published_resp_hash=ps.get('67dabf2628afbba9d08c1c543cb420b0409cab19')\n",
    "for el in published_resp_hash.Result:\n",
    "    try:\n",
    "        bcva_fo+=el.Result['BCVA']\n",
    "    except:\n",
    "        continue\n",
    "print(\"BCVA_FO=\",bcva_fo)\n",
    "\n",
    "\n",
    "#reqv_hash=ps.get(published_resp_hash._nonce)\n",
    "reqv_hash=ps.get('e93a9ab90b2ec4e4e00e06ff017fe6a6eb88b39c')\n",
    "for el in reqv_hash:\n",
    "    el.Model.MarketDataSet='37874a0d59198d955ef2f45623d88a57108cd667'\n",
    "    el.Queries=['BCVA']\n",
    "try:\n",
    "    ps_utils.compute(ps.put(reqv_hash),algo_id='833aa9286a2951a0eac3fb38913d6990435e5c4c')\n",
    "except:\n",
    "    print(\"Calculation finished\")\n",
    "    \n",
    "bcva_ipv=0\n",
    "ipv_resp_hash=ps.get('eec6787bddcd0b16232ed9882b32ab7845170ca8')\n",
    "for el in ipv_resp_hash.Result:\n",
    "    try:\n",
    "        bcva_ipv+=el.Result['BCVA']\n",
    "    except:\n",
    "        continue\n",
    "print(\"BCVA_IPV=\",bcva_ipv)\n",
    "print(\"Diff=\",bcva_ipv-bcva_fo)"
   ]
  },
  {
   "cell_type": "code",
   "execution_count": 4,
   "id": "9ca781ca",
   "metadata": {},
   "outputs": [
    {
     "name": "stdout",
     "output_type": "stream",
     "text": [
      "53a1a657c5afa506145e753a18677eaf2f331344\n",
      "47ea97be914c6ee325e16c2048320fb24d77e344\n",
      "c450b99e07104e49132fd1e76bbab90ca4e51db1\n",
      "3d956473ac4e0f7d98d195cfcfc3796c7c086230\n"
     ]
    }
   ],
   "source": [
    "r=ps.get('37874a0d59198d955ef2f45623d88a57108cd667')\n",
    "print(r.VolatilitySurfaces['USDRUB']._id)\n",
    "print(r.VolatilitySurfaces['EURRUB']._id)\n",
    "print(r.VolatilitySurfaces['CNHRUB']._id)\n",
    "print(r.VolatilitySurfaces['XAUUSD']._id)"
   ]
  },
  {
   "cell_type": "code",
   "execution_count": 8,
   "id": "5f436e3f",
   "metadata": {},
   "outputs": [
    {
     "name": "stdout",
     "output_type": "stream",
     "text": [
      "53a1a657c5afa506145e753a18677eaf2f331344\n",
      "47ea97be914c6ee325e16c2048320fb24d77e344\n",
      "c450b99e07104e49132fd1e76bbab90ca4e51db1\n",
      "3d956473ac4e0f7d98d195cfcfc3796c7c086230\n"
     ]
    }
   ],
   "source": [
    "r=ps.get(ps.get('854040bf42f451e089a1db2399db6c022ea24f70')._nonce)[0].Model.MarketDataSet\n",
    "print(r.VolatilitySurfaces['USDRUB']._id)\n",
    "print(r.VolatilitySurfaces['EURRUB']._id)\n",
    "print(r.VolatilitySurfaces['CNHRUB']._id)\n",
    "print(r.VolatilitySurfaces['XAUUSD']._id)"
   ]
  },
  {
   "cell_type": "code",
   "execution_count": 10,
   "id": "9edf259c",
   "metadata": {},
   "outputs": [
    {
     "data": {
      "text/plain": [
       "-115838"
      ]
     },
     "execution_count": 10,
     "metadata": {},
     "output_type": "execute_result"
    }
   ],
   "source": [
    "-17752033+17636195"
   ]
  },
  {
   "cell_type": "markdown",
   "id": "d9225e71",
   "metadata": {},
   "source": [
    "# IR Vol оверрайд RUB_KEY_RATE и RUB_MOSPRIME 3faed7dd801bfda8878a9971ac2ce3c8749eba70"
   ]
  },
  {
   "cell_type": "markdown",
   "id": "436512a9",
   "metadata": {},
   "source": [
    "# Vega level"
   ]
  },
  {
   "cell_type": "code",
   "execution_count": 22,
   "id": "6c5dbbe3",
   "metadata": {},
   "outputs": [
    {
     "name": "stdout",
     "output_type": "stream",
     "text": [
      "BCVA_FO= -17636195.80973125\n"
     ]
    },
    {
     "name": "stderr",
     "output_type": "stream",
     "text": [
      "[INFO] 2023-06-05 20:55:33,370 - Compute:f17cdef217d367eb6e0a087b5457ca3899d3cc32->1f6581ca48c0b93619a735bce5eaabe68471fd5c\n"
     ]
    },
    {
     "name": "stdout",
     "output_type": "stream",
     "text": [
      "Calculation finished\n",
      "BCVA_IPV= -17806638.852474913\n",
      "Diff= -170443.04274366423\n"
     ]
    }
   ],
   "source": [
    "#resp_published_31-05-2023\n",
    "bcva_fo=0\n",
    "published_resp_hash=ps.get('67dabf2628afbba9d08c1c543cb420b0409cab19')\n",
    "for el in published_resp_hash.Result:\n",
    "    try:\n",
    "        bcva_fo+=el.Result['BCVA']\n",
    "    except:\n",
    "        continue\n",
    "print(\"BCVA_FO=\",bcva_fo)\n",
    "\n",
    "\n",
    "#reqv_hash=ps.get(published_resp_hash._nonce)\n",
    "reqv_hash=ps.get('e93a9ab90b2ec4e4e00e06ff017fe6a6eb88b39c')\n",
    "\n",
    "for el in reqv_hash:\n",
    "    el.Model.MarketDataSet='3faed7dd801bfda8878a9971ac2ce3c8749eba70'\n",
    "    el.Queries=['BCVA']\n",
    "try:\n",
    "    ps_utils.compute(ps.put(reqv_hash),algo_id='833aa9286a2951a0eac3fb38913d6990435e5c4c')\n",
    "except:\n",
    "    print(\"Calculation finished\")\n",
    "    \n",
    "bcva_ipv=0\n",
    "ipv_resp_hash=ps.get('1f6581ca48c0b93619a735bce5eaabe68471fd5c')\n",
    "for el in ipv_resp_hash.Result:\n",
    "    try:\n",
    "        bcva_ipv+=el.Result['BCVA']\n",
    "    except:\n",
    "        continue\n",
    "print(\"BCVA_IPV=\",bcva_ipv)\n",
    "print(\"Diff=\",bcva_ipv-bcva_fo)"
   ]
  },
  {
   "cell_type": "code",
   "execution_count": 14,
   "id": "ac6858fd",
   "metadata": {},
   "outputs": [
    {
     "data": {
      "text/plain": [
       "-167824"
      ]
     },
     "execution_count": 14,
     "metadata": {},
     "output_type": "execute_result"
    }
   ],
   "source": [
    "#ipv calculated in orchestrator\n",
    "-17804019+17636195"
   ]
  },
  {
   "cell_type": "markdown",
   "id": "47689430",
   "metadata": {},
   "source": [
    "# Vega wo Smile but with ipv vols"
   ]
  },
  {
   "cell_type": "code",
   "execution_count": 24,
   "id": "8bde3c87",
   "metadata": {},
   "outputs": [
    {
     "name": "stdout",
     "output_type": "stream",
     "text": [
      "BCVA_FO= -17636195.80973125\n"
     ]
    },
    {
     "name": "stderr",
     "output_type": "stream",
     "text": [
      "[INFO] 2023-06-05 21:00:31,368 - Compute:f17cdef217d367eb6e0a087b5457ca3899d3cc32->1f6581ca48c0b93619a735bce5eaabe68471fd5c\n"
     ]
    },
    {
     "name": "stdout",
     "output_type": "stream",
     "text": [
      "Calculation finished\n",
      "BCVA_IPV= -17690971.14740001\n",
      "Diff= -54775.33766876161\n"
     ]
    }
   ],
   "source": [
    "#resp_published_31-05-2023\n",
    "bcva_fo=0\n",
    "published_resp_hash=ps.get('67dabf2628afbba9d08c1c543cb420b0409cab19')\n",
    "for el in published_resp_hash.Result:\n",
    "    try:\n",
    "        bcva_fo+=el.Result['BCVA']\n",
    "    except:\n",
    "        continue\n",
    "print(\"BCVA_FO=\",bcva_fo)\n",
    "\n",
    "\n",
    "#reqv_hash=ps.get(published_resp_hash._nonce)\n",
    "reqv_hash=ps.get('e93a9ab90b2ec4e4e00e06ff017fe6a6eb88b39c')\n",
    "\n",
    "for el in reqv_hash:\n",
    "    el.Model.MarketDataSet='3faed7dd801bfda8878a9971ac2ce3c8749eba70'\n",
    "    el.Queries=['BCVA']\n",
    "try:\n",
    "    ps_utils.compute(ps.put(reqv_hash),algo_id='833aa9286a2951a0eac3fb38913d6990435e5c4c')\n",
    "except:\n",
    "    print(\"Calculation finished\")\n",
    "    \n",
    "bcva_ipv=0\n",
    "ipv_resp_hash=ps.get('b7a14869a3315c2115f01689af64f014716d012c')\n",
    "for el in ipv_resp_hash.Result:\n",
    "    try:\n",
    "        bcva_ipv+=el.Result['BCVA']\n",
    "    except:\n",
    "        continue\n",
    "print(\"BCVA_IPV=\",bcva_ipv)\n",
    "print(\"Diff=\",bcva_ipv-bcva_fo)"
   ]
  },
  {
   "cell_type": "markdown",
   "id": "c6ed94a9",
   "metadata": {},
   "source": [
    "# Apply Smile"
   ]
  },
  {
   "cell_type": "code",
   "execution_count": 25,
   "id": "a40d2a57",
   "metadata": {},
   "outputs": [
    {
     "name": "stderr",
     "output_type": "stream",
     "text": [
      "[INFO] 2023-06-05 21:00:47,641 - Compute:193c96eb3f1941d6d25911a76021e0033c023b59->08d5f3851248d7670eaef6103c60e7f9e109bcfd\n",
      "[INFO] 2023-06-05 21:00:48,373 - Compute:33a5a7ef0127d8119777075e5fe5da5000ffa88d->3571c4f23f96bce6541b7feb8405b2f6c08a0cbb\n",
      "[INFO] 2023-06-05 21:00:49,231 - Compute:8d6a3a388c6d413057790f1da15ab3a720e50646->ee6ebac5f5c595c4d04c5952931514f4a64a8be1\n",
      "[INFO] 2023-06-05 21:00:51,774 - Compute:c6565dce7268c6a124556f15c2acc0028cdfb7bb->76bc159fb7085a8d06eae4a53cfa20dad92e96ac\n"
     ]
    },
    {
     "name": "stdout",
     "output_type": "stream",
     "text": [
      "BCVA_FO= -5470253.556941899\n",
      "Bcva_Smile= -5924623.896712796\n",
      "Diff= -454370.3397708973\n"
     ]
    },
    {
     "data": {
      "text/html": [
       "<div>\n",
       "<style scoped>\n",
       "    .dataframe tbody tr th:only-of-type {\n",
       "        vertical-align: middle;\n",
       "    }\n",
       "\n",
       "    .dataframe tbody tr th {\n",
       "        vertical-align: top;\n",
       "    }\n",
       "\n",
       "    .dataframe thead th {\n",
       "        text-align: right;\n",
       "    }\n",
       "</style>\n",
       "<table border=\"1\" class=\"dataframe\">\n",
       "  <thead>\n",
       "    <tr style=\"text-align: right;\">\n",
       "      <th></th>\n",
       "      <th>Cpty</th>\n",
       "      <th>NoSmile</th>\n",
       "      <th>WithSmile</th>\n",
       "    </tr>\n",
       "  </thead>\n",
       "  <tbody>\n",
       "    <tr>\n",
       "      <th>0</th>\n",
       "      <td>MKSMO</td>\n",
       "      <td>-677,670.22</td>\n",
       "      <td>-1,202,757.63</td>\n",
       "    </tr>\n",
       "    <tr>\n",
       "      <th>1</th>\n",
       "      <td>FRTGS</td>\n",
       "      <td>-4,401,856.29</td>\n",
       "      <td>-4,448,907.35</td>\n",
       "    </tr>\n",
       "    <tr>\n",
       "      <th>2</th>\n",
       "      <td>RAZYU</td>\n",
       "      <td>-333,517.19</td>\n",
       "      <td>-225,928.66</td>\n",
       "    </tr>\n",
       "    <tr>\n",
       "      <th>3</th>\n",
       "      <td>OSKOI</td>\n",
       "      <td>-57,209.86</td>\n",
       "      <td>-47,030.25</td>\n",
       "    </tr>\n",
       "  </tbody>\n",
       "</table>\n",
       "</div>"
      ],
      "text/plain": [
       "    Cpty       NoSmile     WithSmile\n",
       "0  MKSMO   -677,670.22 -1,202,757.63\n",
       "1  FRTGS -4,401,856.29 -4,448,907.35\n",
       "2  RAZYU   -333,517.19   -225,928.66\n",
       "3  OSKOI    -57,209.86    -47,030.25"
      ]
     },
     "execution_count": 25,
     "metadata": {},
     "output_type": "execute_result"
    }
   ],
   "source": [
    "mas_cpties=[]\n",
    "bcva_fo=[]\n",
    "bcva_smile=[]\n",
    "r=ps.get('1f6581ca48c0b93619a735bce5eaabe68471fd5c')\n",
    "for el in r.Result:\n",
    "    if(ps.get(el._nonce)['_Counterparty'] in ['FRTGS','MKSMO','OSKOI','RAZYU']):\n",
    "        #print(ps.get(el._nonce)['_Counterparty'],el.Result['BCVA'])\n",
    "        z=ps.get(el._nonce)\n",
    "        z.Model.TypeName='HybridCheyette1FactorLocalVolatilityModel'\n",
    "        z.Queries=['ProductValue','BCVA']\n",
    "        otv=ps_utils.compute(ps.put(z),algo_id='833aa9286a2951a0eac3fb38913d6990435e5c4c')\n",
    "        #print(ps.get(el._nonce)['_Counterparty'],otv['BCVA'])\n",
    "        bcva_fo.append(el.Result['BCVA'])\n",
    "        bcva_smile.append(otv['BCVA'])\n",
    "        mas_cpties.append(ps.get(el._nonce)['_Counterparty'])\n",
    "print(\"BCVA_FO=\",np.sum(bcva_fo))\n",
    "print(\"Bcva_Smile=\",np.sum(bcva_smile))\n",
    "print(\"Diff=\",np.sum(bcva_smile)-np.sum(bcva_fo))\n",
    "df=pd.DataFrame({'Cpty':mas_cpties,'NoSmile':bcva_fo,'WithSmile':bcva_smile})\n",
    "df"
   ]
  },
  {
   "cell_type": "code",
   "execution_count": 33,
   "id": "0b0f1039",
   "metadata": {},
   "outputs": [
    {
     "data": {
      "text/plain": [
       "8466955.36235446"
      ]
     },
     "execution_count": 33,
     "metadata": {},
     "output_type": "execute_result"
    }
   ],
   "source": [
    "#MKSMO PV for 27-04-2023\n",
    "(-1634793508+2688499146-364685978)/81.3775"
   ]
  },
  {
   "cell_type": "code",
   "execution_count": 26,
   "id": "922c5d52",
   "metadata": {},
   "outputs": [
    {
     "data": {
      "text/plain": [
       "50255"
      ]
     },
     "execution_count": 26,
     "metadata": {},
     "output_type": "execute_result"
    }
   ],
   "source": [
    "# ipv adj IRVega murex\n",
    "bulo=20446023\n",
    "stalo=20496278\n",
    "stalo-bulo"
   ]
  },
  {
   "cell_type": "markdown",
   "id": "33252d24",
   "metadata": {},
   "source": [
    "# DV01 оверрайд XAU: USD, EUR: xccy, usd_xccy, CNH_FX, inr_fx  оверрайд 8d4dbddb5863ed49a46220530cca541a9f123e8e"
   ]
  },
  {
   "cell_type": "code",
   "execution_count": 36,
   "id": "7d71a1f2",
   "metadata": {},
   "outputs": [
    {
     "name": "stdout",
     "output_type": "stream",
     "text": [
      "BCVA_FO= -17636195.80973125\n"
     ]
    },
    {
     "name": "stderr",
     "output_type": "stream",
     "text": [
      "[INFO] 2023-06-05 21:51:11,437 - Compute:9f29c23cbc5ad05b8983d7b586bce100d30f1481->54c86a7b29002956f7a9cbe07200502ae0212800\n"
     ]
    },
    {
     "name": "stdout",
     "output_type": "stream",
     "text": [
      "Calculation finished\n",
      "BCVA_IPV= -17679204.892773572\n",
      "Diff= -43009.08304232359\n"
     ]
    }
   ],
   "source": [
    "#resp_published_31_05-2023\n",
    "bcva_fo=0\n",
    "published_resp_hash=ps.get('67dabf2628afbba9d08c1c543cb420b0409cab19')\n",
    "for el in published_resp_hash.Result:\n",
    "    try:\n",
    "        bcva_fo+=el.Result['BCVA']\n",
    "    except:\n",
    "        continue\n",
    "print(\"BCVA_FO=\",bcva_fo)\n",
    "\n",
    "\n",
    "reqv_hash=ps.get(published_resp_hash._nonce)\n",
    "#reqv_hash=ps.get('e93a9ab90b2ec4e4e00e06ff017fe6a6eb88b39c')\n",
    "for el in reqv_hash:\n",
    "    el.Model.MarketDataSet='8d4dbddb5863ed49a46220530cca541a9f123e8e'\n",
    "    el.Queries=['BCVA']\n",
    "try:\n",
    "    ps_utils.compute(ps.put(reqv_hash),algo_id='833aa9286a2951a0eac3fb38913d6990435e5c4c')\n",
    "except:\n",
    "    print(\"Calculation finished\")\n",
    "    \n",
    "bcva_ipv=0\n",
    "ipv_resp_hash=ps.get('54c86a7b29002956f7a9cbe07200502ae0212800')\n",
    "for el in ipv_resp_hash.Result:\n",
    "    try:\n",
    "        bcva_ipv+=el.Result['BCVA']\n",
    "    except:\n",
    "        continue\n",
    "print(\"BCVA_IPV=\",bcva_ipv)\n",
    "print(\"Diff=\",bcva_ipv-bcva_fo)"
   ]
  },
  {
   "cell_type": "markdown",
   "id": "64ca8215",
   "metadata": {},
   "source": [
    "# Ful reval овеерайд 8c19cdbfaf6567d0015b8e649299c66a029faa63"
   ]
  },
  {
   "cell_type": "code",
   "execution_count": 51,
   "id": "dfbd904f",
   "metadata": {},
   "outputs": [
    {
     "name": "stdout",
     "output_type": "stream",
     "text": [
      "BCVA_FO= -18124786.01944381\n"
     ]
    },
    {
     "name": "stderr",
     "output_type": "stream",
     "text": [
      "[INFO] 2023-05-05 11:26:12,494 - Compute:0bce0c1edadbcd40d20e5432f42052f3aa1735f4->a1467755fd32a93f506d4764e2eddd7711302905\n"
     ]
    },
    {
     "name": "stdout",
     "output_type": "stream",
     "text": [
      "Calculation finished\n",
      "BCVA_IPV= -16940903.34327687\n",
      "Diff= 1183882.6761669405\n"
     ]
    }
   ],
   "source": [
    "#resp_published_28-04-2023\n",
    "bcva_fo=0\n",
    "published_resp_hash=ps.get('b623cdb556f20253c11a84aa7e2b17759be2ce48')\n",
    "for el in published_resp_hash.Result:\n",
    "    try:\n",
    "        bcva_fo+=el.Result['BCVA']\n",
    "    except:\n",
    "        continue\n",
    "print(\"BCVA_FO=\",bcva_fo)\n",
    "\n",
    "\n",
    "reqv_hash=ps.get(published_resp_hash._nonce)\n",
    "for el in reqv_hash:\n",
    "    el.Model.MarketDataSet='8c19cdbfaf6567d0015b8e649299c66a029faa63'\n",
    "    el.Queries=['BCVA']\n",
    "try:\n",
    "    ps_utils.compute(ps.put(reqv_hash))\n",
    "except:\n",
    "    print(\"Calculation finished\")\n",
    "    \n",
    "bcva_ipv=0\n",
    "ipv_resp_hash=ps.get('a1467755fd32a93f506d4764e2eddd7711302905')\n",
    "for el in ipv_resp_hash.Result:\n",
    "    try:\n",
    "        bcva_ipv+=el.Result['BCVA']\n",
    "    except:\n",
    "        continue\n",
    "print(\"BCVA_IPV=\",bcva_ipv)\n",
    "print(\"Diff=\",bcva_ipv-bcva_fo)"
   ]
  },
  {
   "cell_type": "code",
   "execution_count": null,
   "id": "28fda720",
   "metadata": {},
   "outputs": [],
   "source": []
  }
 ],
 "metadata": {
  "kernelspec": {
   "display_name": "Python 3",
   "language": "python",
   "name": "python3"
  },
  "language_info": {
   "codemirror_mode": {
    "name": "ipython",
    "version": 3
   },
   "file_extension": ".py",
   "mimetype": "text/x-python",
   "name": "python",
   "nbconvert_exporter": "python",
   "pygments_lexer": "ipython3",
   "version": "3.8.8"
  }
 },
 "nbformat": 4,
 "nbformat_minor": 5
}
