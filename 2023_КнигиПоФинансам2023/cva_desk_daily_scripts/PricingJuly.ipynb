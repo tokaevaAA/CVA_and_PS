{
 "cells": [
  {
   "cell_type": "code",
   "execution_count": 1,
   "id": "fa5d285d",
   "metadata": {},
   "outputs": [
    {
     "name": "stderr",
     "output_type": "stream",
     "text": [
      "[ERROR] 2023-07-03 11:39:32,920 - You do not have xbbg installed, some functionality will not be available\n",
      "[INFO] 2023-07-03 11:39:33,337 - Nothing to do: current environment is already prod_pvlss\n"
     ]
    },
    {
     "data": {
      "text/plain": [
       "'6c21bbf749e70ca1d53f365a33d8b184691c53c2'"
      ]
     },
     "execution_count": 1,
     "metadata": {},
     "output_type": "execute_result"
    }
   ],
   "source": [
    "import ps\n",
    "import ps_utils\n",
    "import numpy as np\n",
    "import pandas as pd\n",
    "import datetime\n",
    "ps_utils.switch_to_prod_pvlss()\n",
    "#ps_utils.switch_to_psi()\n",
    "import matplotlib.pyplot as plt\n",
    "#ps_utils.switch_to_psi()\n",
    "dupire='DupireLocalVolatilityModel'\n",
    "no_skew_model = 'HybridLGM1FDupireLocalVolatilityModel'\n",
    "skew_model = 'HybridCheyette1FactorLocalVolatilityModel'\n",
    "ps_utils.global_algo_id()"
   ]
  },
  {
   "cell_type": "code",
   "execution_count": 2,
   "id": "3fb10f89",
   "metadata": {},
   "outputs": [
    {
     "data": {
      "text/plain": [
       "'C:\\\\Users\\\\19865272\\\\strat\\\\src\\\\ps_utils\\\\__init__.py'"
      ]
     },
     "execution_count": 2,
     "metadata": {},
     "output_type": "execute_result"
    }
   ],
   "source": [
    "ps_utils.__file__"
   ]
  },
  {
   "cell_type": "code",
   "execution_count": 3,
   "id": "54e5a85d",
   "metadata": {},
   "outputs": [
    {
     "data": {
      "text/plain": [
       "'http://tkles-dealm0004.vm.esrt.cloud.sbrf.ru'"
      ]
     },
     "execution_count": 3,
     "metadata": {},
     "output_type": "execute_result"
    }
   ],
   "source": [
    "ps_utils.get_env_url('psi')"
   ]
  },
  {
   "cell_type": "code",
   "execution_count": 4,
   "id": "63d6d853",
   "metadata": {},
   "outputs": [],
   "source": [
    "def get_bcva_df(a):\n",
    "    print('PV=',a['ProductValue'])\n",
    "    cva_vals=[]\n",
    "    cva_mas1=[]\n",
    "    cva_mas2=[]\n",
    "    dva_vals=[]\n",
    "    dva_mas1=[]\n",
    "    dva_mas2=[]\n",
    "    for el in a:\n",
    "        if el.startswith('CVA'):\n",
    "            if type(a[el])!=ps.message.Dict:\n",
    "                cva_mas1.append(el[1:])\n",
    "                cva_mas2.append(el[1:])\n",
    "                cva_vals.append(a[el])\n",
    "            if type(a[el])==ps.message.Dict:\n",
    "                for k in a[el]:\n",
    "                    cva_mas1.append(el[4:])\n",
    "                    cva_mas2.append(k)\n",
    "                    if (el.endswith('Exposure')):\n",
    "                        cva_vals.append(a[el][k])\n",
    "                    elif (el.endswith('Delta') or el.endswith('Rho') or el.endswith('RatesVega')):\n",
    "                        cva_vals.append(a[el][k]/10000)\n",
    "                    elif (el.endswith('ExchangeVega')):\n",
    "                        cva_vals.append(a[el][k]/100)\n",
    "                    else:\n",
    "                        print('Unexpected item:',el)\n",
    "        elif el.startswith('DVA'):\n",
    "            if type(a[el])!=ps.message.Dict:\n",
    "                dva_mas1.append(el[1:])\n",
    "                dva_mas2.append(el[1:])\n",
    "                dva_vals.append(a[el])\n",
    "            if type(a[el])==ps.message.Dict:\n",
    "                for k in a[el]:\n",
    "                    dva_mas1.append(el[4:])\n",
    "                    dva_mas2.append(k)\n",
    "                    if (el.endswith('Exposure')):\n",
    "                        dva_vals.append(a[el][k])\n",
    "                    elif (el.endswith('Delta') or el.endswith('Rho') or el.endswith('RatesVega')):\n",
    "                        dva_vals.append(a[el][k]/10000)\n",
    "                    elif (el.endswith('ExchangeVega')):\n",
    "                        dva_vals.append(a[el][k]/100)\n",
    "        else:\n",
    "            pass\n",
    "    cva_arrays = [np.array(cva_mas1),np.array(cva_mas2)]\n",
    "    cva_df=pd.DataFrame(cva_vals, index=cva_arrays)\n",
    "    dva_arrays = [np.array(dva_mas1),np.array(dva_mas2)]\n",
    "    dva_df=pd.DataFrame(dva_vals, index=dva_arrays)\n",
    "    #dfotv=pd.concat([cva_df, dva_df], axis=1)\n",
    "    #dfotv.fillna(0, inplace=True)\n",
    "    vals=np.zeros(len(cva_df.values)*3).reshape(-1,3)\n",
    "    vals[:,0]=cva_df.values.flatten()\n",
    "    vals[:,1]=dva_df.values.flatten()\n",
    "    vals[:,2]=(cva_df.values+dva_df.values).flatten()\n",
    "    #(cva_df.values+dva_df.values).shape\n",
    "    #dva_df=pd.DataFrame(dva_vals, index=dva_arrays)\n",
    "    return pd.DataFrame(vals, index=cva_df.index)\n"
   ]
  },
  {
   "cell_type": "code",
   "execution_count": 66,
   "id": "d8c5a052",
   "metadata": {},
   "outputs": [
    {
     "name": "stdout",
     "output_type": "stream",
     "text": [
      "SIBRH a1e5e9b110fe3b524183ead7001a93831452b83d\n"
     ]
    }
   ],
   "source": [
    "#mas=[]\n",
    "r=ps.get('e32436c7fea7522996787a6f66670afb91147792')\n",
    "for el in r.Result:\n",
    "    if(ps.get(el._nonce)['_Counterparty'] in ['SIBRH']):\n",
    "        print(ps.get(el._nonce)['_Counterparty'],el._id)\n",
    "        #mas.append(el._id)\n",
    "#mas"
   ]
  },
  {
   "cell_type": "code",
   "execution_count": 68,
   "id": "acb9776b",
   "metadata": {},
   "outputs": [
    {
     "data": {
      "text/plain": [
       "-166667.41508167284"
      ]
     },
     "execution_count": 68,
     "metadata": {},
     "output_type": "execute_result"
    }
   ],
   "source": [
    "-4.153685129984903e+06+3.9870177149032303e+06"
   ]
  },
  {
   "cell_type": "code",
   "execution_count": null,
   "id": "391f310f",
   "metadata": {},
   "outputs": [],
   "source": [
    "wanted=['DELMZ','VITMG', 'SBGGG']\n",
    "mas=[]\n",
    "r=ps.get('224c95e27ce3e559640f7f73ff221f6bd379fda9')\n",
    "for el in r.Result:\n",
    "    if(ps.get(el._nonce)['_Counterparty'] in wanted ):\n",
    "        mas.append(ps.get(el._nonce)._id)\n",
    "r=ps.get(ps.put(ps.new_cm(mas)))\n",
    "for el in r:\n",
    "    el.Queries=['ProductValue','BCVA']\n",
    "z=ps_utils.compute(ps.put(r))\n",
    "for i,el in enumerate(z):\n",
    "    print(el['ProductValue'],el['BCVA'],ps.get(r[i]._id)['_Counterparty'])"
   ]
  },
  {
   "cell_type": "code",
   "execution_count": 42,
   "id": "2d9ba96d",
   "metadata": {},
   "outputs": [
    {
     "name": "stdout",
     "output_type": "stream",
     "text": [
      "PTROL 17 2ca5f7284132b179895b4e54a5bbccb6563d5cca Unable to find index AI95K5_YAI_SPX_AVG in the static data set. w\n",
      "FSKSS 8 21b104ff94217758fc2a0c39c931b72dcd8c2af6 Unable to find index RU_CPI_2000 in the static data set. while co\n",
      "MBDDR 12 72110ae3b9d0e6a35985661c4d68a7f8b5a7e2df Unable to find index INRRUB in the static data set. while constru\n",
      "KCVET 14 6fd5d420283b0b7f89a050b121643d30b27b8776 Failed to locate IRVol[XPT_USD] in market while constructing DT_H\n",
      "SOLFE 15 4dcf4f280adc9c938ca0239f3eb3bce81cbddd8c Failed to locate Correlation[USDRUB&XAGRUB] in market while const\n",
      "MTSSS 10 49027e68c906174fc0ac26e93b10c232a2dfd857 Failed to locate fixing for USD_SOFR for date 2016-12-30T11:00:00\n",
      "AVGUT 8 575c005bc7d9e44f7a4702443c316bdb1250661b Failed to locate BYN in CalibrationUnderlyings while constructing\n",
      "MBMMR 10 6aa254331c91b4a898b330a7758174b2373d78bd Unable to find index INRRUB in the static data set. while constru\n",
      "DIEKS 8 556108e4c8e72bcb33e5340f6175a0a0fc260474 Failed to locate BYN in CalibrationUnderlyings while constructing\n",
      "VOENSK 9 0a4a61292f03421440aaca61ddac541823a8e9c4 Failed to locate IR[RUB_RUONIA_ON] in market while constructing D\n"
     ]
    }
   ],
   "source": [
    "#mas=[]\n",
    "r=ps.get('7ac40ba63ecb042f46d138d3ad8133668e1b20a1')\n",
    "for el in r.Result:\n",
    "    try:\n",
    "        s=el.StatusText\n",
    "    except:\n",
    "        s='None'\n",
    "    if (s!='done'):\n",
    "        print(ps.get(el._nonce)['_Counterparty'], ps.get(el._nonce).Product.CounterpartyCreditRating, el._id,s[0:65])\n",
    "        #mas.append(ps.get(el._nonce)._id)\n",
    "#mas"
   ]
  },
  {
   "cell_type": "code",
   "execution_count": 39,
   "id": "7b67e2ad",
   "metadata": {},
   "outputs": [
    {
     "name": "stderr",
     "output_type": "stream",
     "text": [
      "[INFO] 2023-07-03 14:15:26,463 - Uploaded message 0e85ca53c8f6dc9d873041529a4951be2c1f0a06 from dev to prod_pvlss\n",
      "[INFO] 2023-07-03 14:15:26,466 - Nothing to do: current environment is already prod_pvlss\n"
     ]
    },
    {
     "name": "stdout",
     "output_type": "stream",
     "text": [
      "check result\n",
      "\n",
      "done: 2566, not found: []\n",
      "\n"
     ]
    }
   ],
   "source": [
    "import ps, ps_utils\n",
    "_from = 'dev'; _to = 'prod_pvlss'\n",
    "#_from = 'prod_pvlss'; _to = 'dev'\n",
    "_id = '0e85ca53c8f6dc9d873041529a4951be2c1f0a06'\n",
    "\n",
    "ps_utils.upload_message(_id, _from, _to)\n",
    "\n",
    "ps_utils.switch_to_env(_to)\n",
    "print(f\"check result\")\n",
    "n, not_found = ps_utils.chk_msg_tree(ps.get(_id))\n",
    "print(f\"\\ndone: {n}, not found: {not_found}\\n\")\n",
    "if not_found:\n",
    "    print(f\"copy missing messages\")\n",
    "    for m_id in not_found:\n",
    "        ps_utils.upload_message(m_id, _from, _to)\n",
    "    print(f\"check result\")\n",
    "    n, not_found = ps_utils.chk_msg_tree(ps.get(_id))\n",
    "    print(f\"\\ndone: {n}, not found: {not_found}\\n\")\n"
   ]
  },
  {
   "cell_type": "markdown",
   "id": "1aecd2e6",
   "metadata": {},
   "source": [
    "# 3 июля 2023 понедельник"
   ]
  },
  {
   "cell_type": "markdown",
   "id": "d059ec9a",
   "metadata": {},
   "source": [
    "# Тема 18 рейтинг  FSKCD030723 Package booked (Package number: \"44362367\")."
   ]
  },
  {
   "cell_type": "code",
   "execution_count": 12,
   "id": "11b7ca25",
   "metadata": {},
   "outputs": [
    {
     "name": "stderr",
     "output_type": "stream",
     "text": [
      "[INFO] 2023-07-03 12:23:03,014 - Compute:a8e6ea0bf6933779315b9b6e8a5f8bff60af5d3f->e7319e6c815ac3f3f7a3ddeb74cf827e14d05f4d\n"
     ]
    },
    {
     "data": {
      "text/plain": [
       "Dict([('BCVA', -178756.14266496888),\n",
       "      ('LegBCVA', [-144547.01346153158, -34223.02625713992]),\n",
       "      ('Legs',\n",
       "       [1b624da946aa683e9da3ac6c6f31f27b2662c28c,\n",
       "        6e8cf02cf569261d645f2b8f93c9a0649b7ca9c1]),\n",
       "      ('CVA', -181732.3342124842),\n",
       "      ('DVA', 2976.1915475152973),\n",
       "      ('LegPresentValues', [1243778.5097299085, 273427.0680831617]),\n",
       "      ('ProductValue', 1517205.57781307),\n",
       "      ('ReportingCurrency', 'USD'),\n",
       "      ('StandardError', 6548.875268071165),\n",
       "      ('CashToSettleToday', 0.0)])"
      ]
     },
     "execution_count": 12,
     "metadata": {},
     "output_type": "execute_result"
    }
   ],
   "source": [
    "#r=ps.get('19ca44cac520b7734029955501f9569d290a3bf9')\n",
    "\n",
    "           \n",
    "#Greeks new deal\n",
    "r=ps_utils.pricing.XVA(ps.get('264e7d64a9527488e72657fbf573f8fddb887f7e')[0])\n",
    "#r.Model.MarketDataSet='f0fd133994799ffc6aeeeceb85f501b27d321afb'\n",
    "r.set_queries([\"ProductValue\",\"CVA\",\"DVA\",\"BCVA\",\"CVA_ParallelInterestRatesVega\",\"DVA_ParallelInterestRatesVega\",\"CVA_ParallelForeignExchangeVega\",\"DVA_ParallelForeignExchangeVega\",\"CVA_ParallelCreditDelta\",\"DVA_ParallelCreditDelta\",\"CVA_ParallelRho\",\"DVA_ParallelRho\",\"CVA_CurrencyExposure\",\"DVA_CurrencyExposure\"])\n",
    "\n",
    "\n",
    "#r.Model.MarketDataSet='18ff5367c65fcd43972a067c7888ba9c23e55415'\n",
    "\n",
    "#r.Product.NettingSets[0].MarginSets[0].Products=['00400afe5a72000da2fd9dd36d5d55808b233f2f']\n",
    "#r.Model.MarketDataSet='b8207adfdcb659a431753bd7a4e8ff1a77f6befc'\n",
    "#r.Model.MarketDataSet.Spots['CNHRUB']=11.31\n",
    "\n",
    "#r.set_correlation('EURRUB','CNHRUB',0.8)\n",
    "\n",
    "# r.Product.NettingSets[0].MarginSets[0].Products.pop(0)\n",
    "# r.Product.NettingSets[0].MarginSets[0].Products.pop(1)\n",
    "\n",
    "# r.set_correlation('USDRUB','XAURUB',0.6)\n",
    "# r.set_correlation('USD_LIBOR_3M','XAURUB',0.0)\n",
    "# r.set_correlation('USDRUB','XAU_USD',0.0)\n",
    "# r.set_correlation('USD_LIBOR_3M','XAU_USD',0.0)\n",
    "\n",
    "#r.Model.MarketDataSet.Correlations['CNHRUB&RUB_KEY_RATE']=0.3\n",
    "\n",
    "# # # r.set_mean_reversion('RUB_KEY_RATE',0.05)\n",
    "# # # r.set_correlation('USDRUB','CNHRUB',0.7)\n",
    "#r.Model.TypeName=skew_model\n",
    "\n",
    "# # #r.set_nb_paths(100000)\n",
    "\n",
    "#r.set_correlation('USDRUB','CNHRUB',0.8)\n",
    "\n",
    "# #r.set_model_parameter('AmericanMonteCarloNumberOfPaths',10240)\n",
    "\n",
    "# r.Product.pop('CounterpartyCreditRating')\n",
    "# r.Product.CounterpartyCreditCurveIdentifier='RUB_CHMF_OFZ_SNR_CR'\n",
    "\n",
    "# new_credit_values = {'RUB_SBER_OFZ_SNR_CR': 0.8, 'RUB_CHMF_OFZ_SNR_CR': 1.49}\n",
    "# for cr_curve, cr_value in new_credit_values.items():\n",
    "#     r.Model.MarketDataSet.CreditCurves[cr_curve].RatesSchedule.Rates = [cr_value / 0.75] * \\\n",
    "#                                                                        len(r.Model.MarketDataSet.CreditCurves[\n",
    "#                                                                                cr_curve].RatesSchedule.Rates)\n",
    "\n",
    "\n",
    "# r.Model.MarketDataSet.Correlations['CNHRUB&RUB_KEY_RATE']=0.3\n",
    "\n",
    "\n",
    "# r.Model.MarketDataSet.RatesCurvesBundles['RUB_KEY_RATE'].InterpolationMethod='Linear'\n",
    "# r.Model.MarketDataSet.RatesCurvesBundles['EUR_XCCY'].InterpolationMethod='Linear'\n",
    "# r.Model.MarketDataSet.RatesCurvesBundles['CNH_FX'].InterpolationMethod='Linear'\n",
    "# r.Model.MarketDataSet.RatesCurvesBundles['RUB_SOFR'].InterpolationMethod='Linear'\n",
    "# r.Model.MarketDataSet.RatesCurvesBundles['USD_SOFR'].InterpolationMethod='Linear'\n",
    "# r.Model.MarketDataSet.RatesCurvesBundles['RUB_RUONIA_OIS'].InterpolationMethod='Linear'\n",
    "# r.Model.MarketDataSet.RatesCurvesBundles['EUR_EURIBOR_6M'].InterpolationMethod='Linear'\n",
    "# r.Model.MarketDataSet.RatesCurvesBundles['EUR_RUB'].InterpolationMethod='Linear'\n",
    "# r.Model.MarketDataSet.RatesCurvesBundles['USD_SOFR'].InterpolationMethod='Linear'\n",
    "# r.Model.MarketDataSet.RatesCurvesBundles['USD_LIBOR_3M'].InterpolationMethod='Linear'\n",
    "# r.Model.MarketDataSet.RatesCurvesBundles['USD_XCCY'].InterpolationMethod='Linear'\n",
    "# r.Model.MarketDataSet.RatesCurvesBundles['XAU_USD'].InterpolationMethod='Linear'\n",
    "\n",
    "# r.Product.pop('CounterpartyCreditRating')\n",
    "# r.Product.CounterpartyCreditCurveIdentifier='RUB_CHMF_OFZ_SNR_CR'\n",
    "\n",
    "# new_credit_values = {'RUB_SBER_OFZ_SNR_CR': 0.8, 'RUB_CHMF_OFZ_SNR_CR': 6.00}\n",
    "# for cr_curve, cr_value in new_credit_values.items():\n",
    "#     r.Model.MarketDataSet.CreditCurves[cr_curve].RatesSchedule.Rates = [cr_value / 0.75] * \\\n",
    "#                                                                        len(r.Model.MarketDataSet.CreditCurves[\n",
    "#                                                                                cr_curve].RatesSchedule.Rates)\n",
    "\n",
    "a=r.price(algo_id='833aa9286a2951a0eac3fb38913d6990435e5c4c')\n",
    "get_bcva_df(a)"
   ]
  },
  {
   "cell_type": "code",
   "execution_count": 7,
   "id": "63f49baf",
   "metadata": {},
   "outputs": [
    {
     "name": "stderr",
     "output_type": "stream",
     "text": [
      "[INFO] 2023-07-03 11:59:44,726 - Compute:ee7198d9c5fa3334985eb517d58b72c8a3043e18->746f167dc5ac2b85a4eac47a884f3287c9ae7e6c\n"
     ]
    }
   ],
   "source": [
    "z=r.run_xva_breakdown(show=True)"
   ]
  },
  {
   "cell_type": "code",
   "execution_count": 8,
   "id": "c49ef4f6",
   "metadata": {},
   "outputs": [
    {
     "data": {
      "text/plain": [
       "1170292.2024854315"
      ]
     },
     "execution_count": 8,
     "metadata": {},
     "output_type": "execute_result"
    }
   ],
   "source": [
    "#44362368\n",
    "(104199099-21150)/r.Model.MarketDataSet.Spots['USDRUB']"
   ]
  },
  {
   "cell_type": "code",
   "execution_count": 9,
   "id": "1ebfb52e",
   "metadata": {},
   "outputs": [
    {
     "data": {
      "text/plain": [
       "254310.9401109317"
      ]
     },
     "execution_count": 9,
     "metadata": {},
     "output_type": "execute_result"
    }
   ],
   "source": [
    "#44362369\n",
    "(22643038-4596)/r.Model.MarketDataSet.Spots['USDRUB']"
   ]
  },
  {
   "cell_type": "code",
   "execution_count": 10,
   "id": "d406e3f2",
   "metadata": {},
   "outputs": [
    {
     "name": "stderr",
     "output_type": "stream",
     "text": [
      "[INFO] 2023-07-03 12:06:28,875 - Compute:b00b23afb7450268052f09f9f6fda076beffe833->387d2fe4e88285e84610030e6f5a93d96b1ee09e\n"
     ]
    },
    {
     "name": "stdout",
     "output_type": "stream",
     "text": [
      "PV= 1514817.5091396978\n"
     ]
    },
    {
     "data": {
      "text/html": [
       "<div>\n",
       "<style scoped>\n",
       "    .dataframe tbody tr th:only-of-type {\n",
       "        vertical-align: middle;\n",
       "    }\n",
       "\n",
       "    .dataframe tbody tr th {\n",
       "        vertical-align: top;\n",
       "    }\n",
       "\n",
       "    .dataframe thead th {\n",
       "        text-align: right;\n",
       "    }\n",
       "</style>\n",
       "<table border=\"1\" class=\"dataframe\">\n",
       "  <thead>\n",
       "    <tr style=\"text-align: right;\">\n",
       "      <th></th>\n",
       "      <th></th>\n",
       "      <th>0</th>\n",
       "      <th>1</th>\n",
       "      <th>2</th>\n",
       "    </tr>\n",
       "  </thead>\n",
       "  <tbody>\n",
       "    <tr>\n",
       "      <th>VA</th>\n",
       "      <th>VA</th>\n",
       "      <td>-181,676.31</td>\n",
       "      <td>2,975.99</td>\n",
       "      <td>-178,700.32</td>\n",
       "    </tr>\n",
       "    <tr>\n",
       "      <th>ParallelInterestRatesVega</th>\n",
       "      <th>RUB_KEY_RATE</th>\n",
       "      <td>-213.16</td>\n",
       "      <td>36.64</td>\n",
       "      <td>-176.52</td>\n",
       "    </tr>\n",
       "    <tr>\n",
       "      <th rowspan=\"2\" valign=\"top\">ParallelCreditDelta</th>\n",
       "      <th>RUB_MINFIN_OFZ</th>\n",
       "      <td>-304.64</td>\n",
       "      <td>0.00</td>\n",
       "      <td>-304.64</td>\n",
       "    </tr>\n",
       "    <tr>\n",
       "      <th>RUB_SBER_OFZ_SNR_CR</th>\n",
       "      <td>0.00</td>\n",
       "      <td>29.08</td>\n",
       "      <td>29.08</td>\n",
       "    </tr>\n",
       "    <tr>\n",
       "      <th rowspan=\"4\" valign=\"top\">ParallelRho</th>\n",
       "      <th>RUB_KEY_RATE</th>\n",
       "      <td>-850.34</td>\n",
       "      <td>-20.34</td>\n",
       "      <td>-870.68</td>\n",
       "    </tr>\n",
       "    <tr>\n",
       "      <th>RUB_RUONIA_OIS</th>\n",
       "      <td>41.47</td>\n",
       "      <td>-0.62</td>\n",
       "      <td>40.84</td>\n",
       "    </tr>\n",
       "    <tr>\n",
       "      <th>RUB_SOFR</th>\n",
       "      <td>0.00</td>\n",
       "      <td>0.00</td>\n",
       "      <td>0.00</td>\n",
       "    </tr>\n",
       "    <tr>\n",
       "      <th>USD_SOFR</th>\n",
       "      <td>-0.00</td>\n",
       "      <td>-0.00</td>\n",
       "      <td>-0.00</td>\n",
       "    </tr>\n",
       "    <tr>\n",
       "      <th rowspan=\"2\" valign=\"top\">CurrencyExposure</th>\n",
       "      <th>RUB</th>\n",
       "      <td>-181,676.31</td>\n",
       "      <td>2,975.99</td>\n",
       "      <td>-178,700.32</td>\n",
       "    </tr>\n",
       "    <tr>\n",
       "      <th>USD</th>\n",
       "      <td>0.00</td>\n",
       "      <td>-0.00</td>\n",
       "      <td>0.00</td>\n",
       "    </tr>\n",
       "  </tbody>\n",
       "</table>\n",
       "</div>"
      ],
      "text/plain": [
       "                                                        0        1           2\n",
       "VA                        VA                  -181,676.31 2,975.99 -178,700.32\n",
       "ParallelInterestRatesVega RUB_KEY_RATE            -213.16    36.64     -176.52\n",
       "ParallelCreditDelta       RUB_MINFIN_OFZ          -304.64     0.00     -304.64\n",
       "                          RUB_SBER_OFZ_SNR_CR        0.00    29.08       29.08\n",
       "ParallelRho               RUB_KEY_RATE            -850.34   -20.34     -870.68\n",
       "                          RUB_RUONIA_OIS            41.47    -0.62       40.84\n",
       "                          RUB_SOFR                   0.00     0.00        0.00\n",
       "                          USD_SOFR                  -0.00    -0.00       -0.00\n",
       "CurrencyExposure          RUB                 -181,676.31 2,975.99 -178,700.32\n",
       "                          USD                        0.00    -0.00        0.00"
      ]
     },
     "execution_count": 10,
     "metadata": {},
     "output_type": "execute_result"
    }
   ],
   "source": [
    "#r=ps.get('19ca44cac520b7734029955501f9569d290a3bf9')\n",
    "\n",
    "           \n",
    "#Greeks new deal\n",
    "r=ps_utils.pricing.XVA(ps.get('264e7d64a9527488e72657fbf573f8fddb887f7e')[0])\n",
    "#r.Model.MarketDataSet='f0fd133994799ffc6aeeeceb85f501b27d321afb'\n",
    "r.set_queries([\"ProductValue\",\"CVA\",\"DVA\",\"BCVA\",\"CVA_ParallelInterestRatesVega\",\"DVA_ParallelInterestRatesVega\",\"CVA_ParallelForeignExchangeVega\",\"DVA_ParallelForeignExchangeVega\",\"CVA_ParallelCreditDelta\",\"DVA_ParallelCreditDelta\",\"CVA_ParallelRho\",\"DVA_ParallelRho\",\"CVA_CurrencyExposure\",\"DVA_CurrencyExposure\"])\n",
    "\n",
    "\n",
    "\n",
    "a=r.price(algo_id='833aa9286a2951a0eac3fb38913d6990435e5c4c')\n",
    "get_bcva_df(a)"
   ]
  },
  {
   "cell_type": "code",
   "execution_count": 13,
   "id": "cd120852",
   "metadata": {},
   "outputs": [
    {
     "data": {
      "text/plain": [
       "8700"
      ]
     },
     "execution_count": 13,
     "metadata": {},
     "output_type": "execute_result"
    }
   ],
   "source": [
    "870*10"
   ]
  },
  {
   "cell_type": "code",
   "execution_count": 15,
   "id": "756d7437",
   "metadata": {},
   "outputs": [
    {
     "data": {
      "text/plain": [
       "147900.0"
      ]
     },
     "execution_count": 15,
     "metadata": {},
     "output_type": "execute_result"
    }
   ],
   "source": [
    "145000*1.02"
   ]
  },
  {
   "cell_type": "code",
   "execution_count": 17,
   "id": "0dc08b8b",
   "metadata": {},
   "outputs": [
    {
     "data": {
      "text/plain": [
       "35700.0"
      ]
     },
     "execution_count": 17,
     "metadata": {},
     "output_type": "execute_result"
    }
   ],
   "source": [
    "35000*1.02"
   ]
  },
  {
   "cell_type": "code",
   "execution_count": 18,
   "id": "8fa25c4a",
   "metadata": {},
   "outputs": [
    {
     "data": {
      "text/plain": [
       "182700"
      ]
     },
     "execution_count": 18,
     "metadata": {},
     "output_type": "execute_result"
    }
   ],
   "source": [
    "147000+35700"
   ]
  },
  {
   "cell_type": "code",
   "execution_count": 25,
   "id": "ef6d9b5d",
   "metadata": {},
   "outputs": [
    {
     "name": "stderr",
     "output_type": "stream",
     "text": [
      "[INFO] 2023-07-03 13:19:27,581 - Compute:62eac97f653f07e2d4697585ee803e234580bcfd->d23ed5d2451bab64e894a61d280957e1f33a3645\n"
     ]
    },
    {
     "data": {
      "text/plain": [
       "Dict([('BCVA', -32734.49485981069),\n",
       "      ('LegBCVA', [-26534.321236137173, -6200.173623673537]),\n",
       "      ('Legs',\n",
       "       [1b624da946aa683e9da3ac6c6f31f27b2662c28c,\n",
       "        6e8cf02cf569261d645f2b8f93c9a0649b7ca9c1]),\n",
       "      ('CVA', -35710.686407325986),\n",
       "      ('DVA', 2976.1915475152973),\n",
       "      ('LegPresentValues', [1243778.5097299085, 273427.0680831617]),\n",
       "      ('ProductValue', 1517205.57781307),\n",
       "      ('ReportingCurrency', 'USD'),\n",
       "      ('StandardError', 6548.875268071165),\n",
       "      ('CashToSettleToday', 0.0)])"
      ]
     },
     "execution_count": 25,
     "metadata": {},
     "output_type": "execute_result"
    }
   ],
   "source": [
    "#r=ps.get('19ca44cac520b7734029955501f9569d290a3bf9')\n",
    "\n",
    "           \n",
    "#Greeks new deal\n",
    "r=ps_utils.pricing.XVA(ps.get('264e7d64a9527488e72657fbf573f8fddb887f7e')[0])\n",
    "#r.Model.MarketDataSet='f0fd133994799ffc6aeeeceb85f501b27d321afb'\n",
    "#r.set_queries([\"ProductValue\",\"CVA\",\"DVA\",\"BCVA\",\"CVA_ParallelInterestRatesVega\",\"DVA_ParallelInterestRatesVega\",\"CVA_ParallelForeignExchangeVega\",\"DVA_ParallelForeignExchangeVega\",\"CVA_ParallelCreditDelta\",\"DVA_ParallelCreditDelta\",\"CVA_ParallelRho\",\"DVA_ParallelRho\",\"CVA_CurrencyExposure\",\"DVA_CurrencyExposure\"])\n",
    "\n",
    "\n",
    "\n",
    "r.Product.CounterpartyCreditRating=8\n",
    "\n",
    "\n",
    "r.price(algo_id='833aa9286a2951a0eac3fb38913d6990435e5c4c')"
   ]
  },
  {
   "cell_type": "code",
   "execution_count": 27,
   "id": "3b4daff4",
   "metadata": {},
   "outputs": [
    {
     "data": {
      "text/plain": [
       "58400.0"
      ]
     },
     "execution_count": 27,
     "metadata": {},
     "output_type": "execute_result"
    }
   ],
   "source": [
    "(179000-33000)*0.4"
   ]
  },
  {
   "cell_type": "markdown",
   "id": "de60f8ba",
   "metadata": {},
   "source": [
    "# У большого поменяли премию на большой irs Package booked (Package number: \"44363761\")."
   ]
  },
  {
   "cell_type": "code",
   "execution_count": 31,
   "id": "0adf1a3a",
   "metadata": {},
   "outputs": [
    {
     "name": "stderr",
     "output_type": "stream",
     "text": [
      "[INFO] 2023-07-03 14:07:39,149 - Compute:c070d0b0091be2dbd0f4b84c955da737cbc8c225->120a1c29d26793e2717192c0506aa780540a8a61\n"
     ]
    },
    {
     "data": {
      "text/plain": [
       "Dict([('BCVA', -177783.58931487796),\n",
       "      ('LegBCVA', [-144447.13275279236, -33362.0748741399]),\n",
       "      ('Legs',\n",
       "       [e449889afff64ca78a03b14f41e7da97622123c8,\n",
       "        dd69b9fef6e3f48043b71f4fc0ada732258b5e13]),\n",
       "      ('CVA', -180751.16615323228),\n",
       "      ('DVA', 2967.576838354323),\n",
       "      ('LegPresentValues', [1268820.0871339268, 267963.93250861706]),\n",
       "      ('ProductValue', 1536784.0196425437),\n",
       "      ('ReportingCurrency', 'USD'),\n",
       "      ('StandardError', 6494.118373861815),\n",
       "      ('CashToSettleToday', 0.0)])"
      ]
     },
     "execution_count": 31,
     "metadata": {},
     "output_type": "execute_result"
    }
   ],
   "source": [
    "#r=ps.get('19ca44cac520b7734029955501f9569d290a3bf9')\n",
    "\n",
    "           \n",
    "#Greeks new deal\n",
    "r=ps_utils.pricing.XVA(ps.get('6b8d8a21682b698eab1d024259ae61a019bb886a')[0])\n",
    "#r.Model.MarketDataSet='f0fd133994799ffc6aeeeceb85f501b27d321afb'\n",
    "#r.set_queries([\"ProductValue\",\"CVA\",\"DVA\",\"BCVA\",\"CVA_ParallelInterestRatesVega\",\"DVA_ParallelInterestRatesVega\",\"CVA_ParallelForeignExchangeVega\",\"DVA_ParallelForeignExchangeVega\",\"CVA_ParallelCreditDelta\",\"DVA_ParallelCreditDelta\",\"CVA_ParallelRho\",\"DVA_ParallelRho\",\"CVA_CurrencyExposure\",\"DVA_CurrencyExposure\"])\n",
    "\n",
    "\n",
    "\n",
    "#r.Product.CounterpartyCreditRating=8\n",
    "\n",
    "\n",
    "r.price(algo_id='833aa9286a2951a0eac3fb38913d6990435e5c4c')"
   ]
  },
  {
   "cell_type": "code",
   "execution_count": 35,
   "id": "fbb46ac7",
   "metadata": {},
   "outputs": [
    {
     "name": "stderr",
     "output_type": "stream",
     "text": [
      "[INFO] 2023-07-03 14:11:32,340 - Compute:5429bf680a8980d196a5071d2accb23cbaebb116->169dc850429a97c892f5d750d9e4a42b75390acc\n"
     ]
    },
    {
     "data": {
      "text/plain": [
       "Dict([('BCVA', -182078.68845865212),\n",
       "      ('LegBCVA', [-147880.45975923733, -34223.02625713992]),\n",
       "      ('Legs',\n",
       "       [e449889afff64ca78a03b14f41e7da97622123c8,\n",
       "        6e8cf02cf569261d645f2b8f93c9a0649b7ca9c1]),\n",
       "      ('CVA', -184957.30045714986),\n",
       "      ('DVA', 2878.6119984977486),\n",
       "      ('LegPresentValues', [1290334.5614794216, 273427.0680831617]),\n",
       "      ('ProductValue', 1563761.629562583),\n",
       "      ('ReportingCurrency', 'USD'),\n",
       "      ('StandardError', 6545.9228365506),\n",
       "      ('CashToSettleToday', 0.0)])"
      ]
     },
     "execution_count": 35,
     "metadata": {},
     "output_type": "execute_result"
    }
   ],
   "source": [
    "#r=ps.get('19ca44cac520b7734029955501f9569d290a3bf9')\n",
    "\n",
    "           \n",
    "#Greeks new deal\n",
    "r=ps_utils.pricing.XVA(ps.get('264e7d64a9527488e72657fbf573f8fddb887f7e')[0])\n",
    "#r.Model.MarketDataSet='f0fd133994799ffc6aeeeceb85f501b27d321afb'\n",
    "#r.set_queries([\"ProductValue\",\"CVA\",\"DVA\",\"BCVA\",\"CVA_ParallelInterestRatesVega\",\"DVA_ParallelInterestRatesVega\",\"CVA_ParallelForeignExchangeVega\",\"DVA_ParallelForeignExchangeVega\",\"CVA_ParallelCreditDelta\",\"DVA_ParallelCreditDelta\",\"CVA_ParallelRho\",\"DVA_ParallelRho\",\"CVA_CurrencyExposure\",\"DVA_CurrencyExposure\"])\n",
    "\n",
    "r.Product.NettingSets[0].MarginSets[0].Products[0]='e449889afff64ca78a03b14f41e7da97622123c8'\n",
    "\n",
    "\n",
    "r.price(algo_id='833aa9286a2951a0eac3fb38913d6990435e5c4c')\n"
   ]
  },
  {
   "cell_type": "code",
   "execution_count": 36,
   "id": "535ecce5",
   "metadata": {},
   "outputs": [
    {
     "data": {
      "text/plain": [
       "150837.6"
      ]
     },
     "execution_count": 36,
     "metadata": {},
     "output_type": "execute_result"
    }
   ],
   "source": [
    "147880*1.02"
   ]
  },
  {
   "cell_type": "code",
   "execution_count": 37,
   "id": "f179097d",
   "metadata": {},
   "outputs": [
    {
     "data": {
      "text/plain": [
       "1200.0"
      ]
     },
     "execution_count": 37,
     "metadata": {},
     "output_type": "execute_result"
    }
   ],
   "source": [
    "3000*0.4"
   ]
  },
  {
   "cell_type": "markdown",
   "id": "1de50915",
   "metadata": {},
   "source": [
    "# KAMER накоп 17 рейтинг"
   ]
  },
  {
   "cell_type": "code",
   "execution_count": 28,
   "id": "b39f0f4f",
   "metadata": {},
   "outputs": [
    {
     "name": "stderr",
     "output_type": "stream",
     "text": [
      "[INFO] 2023-07-03 13:45:09,975 - Compute:0982b9e89d903f30a034e16e9c613380dd5d0c57->3709753a1656c432ba2669599e9f5fc6faff8176\n"
     ]
    },
    {
     "data": {
      "text/plain": [
       "Dict([('BCVA', -1384.4704480055373),\n",
       "      ('CVA', -1384.470449290811),\n",
       "      ('DVA', 1.2852739166709276e-06),\n",
       "      ('ProductValue', 152599.91417087198),\n",
       "      ('ReportingCurrency', 'USD'),\n",
       "      ('StandardError', 9.45809594104177),\n",
       "      ('CashToSettleToday', 0.0)])"
      ]
     },
     "execution_count": 28,
     "metadata": {},
     "output_type": "execute_result"
    }
   ],
   "source": [
    "#r=ps.get('19ca44cac520b7734029955501f9569d290a3bf9')\n",
    "\n",
    "           \n",
    "#Greeks new deal\n",
    "r=ps_utils.pricing.XVA(ps.get('099cd5316408bccbd63d0aed575f2b2bb5801746')[0])\n",
    "#r.Model.MarketDataSet='f0fd133994799ffc6aeeeceb85f501b27d321afb'\n",
    "#r.set_queries([\"ProductValue\",\"CVA\",\"DVA\",\"BCVA\",\"CVA_ParallelInterestRatesVega\",\"DVA_ParallelInterestRatesVega\",\"CVA_ParallelForeignExchangeVega\",\"DVA_ParallelForeignExchangeVega\",\"CVA_ParallelCreditDelta\",\"DVA_ParallelCreditDelta\",\"CVA_ParallelRho\",\"DVA_ParallelRho\",\"CVA_CurrencyExposure\",\"DVA_CurrencyExposure\"])\n",
    "\n",
    "\n",
    "\n",
    "#r.Product.CounterpartyCreditRating=8\n",
    "\n",
    "\n",
    "r.price(algo_id='833aa9286a2951a0eac3fb38913d6990435e5c4c')"
   ]
  },
  {
   "cell_type": "markdown",
   "id": "4bf86b27",
   "metadata": {},
   "source": [
    "# # MERKT030723  15 рейтинг Package booked (Package number: \"44367201\")."
   ]
  },
  {
   "cell_type": "code",
   "execution_count": 53,
   "id": "7aa77bed",
   "metadata": {},
   "outputs": [
    {
     "name": "stderr",
     "output_type": "stream",
     "text": [
      "[INFO] 2023-07-03 16:42:50,467 - Compute:e3b85ab497e206eb9dcdef2f99d73acada74ea52->e04b3e66949b7777fa33147c043cb9efeefa8b51\n"
     ]
    },
    {
     "data": {
      "text/plain": [
       "Dict([('BCVA', -17170.23420068358),\n",
       "      ('LegBCVA', [-11999.459660073095, -5170.884832115276]),\n",
       "      ('Legs',\n",
       "       [81de4f9958956286eecb0ee8aaaaed3b8d4485a2,\n",
       "        3e5186a90277ce8a65476e82ee0d50a8d854a7ca]),\n",
       "      ('CVA', -17699.343305860126),\n",
       "      ('DVA', 529.1091051765462),\n",
       "      ('LegPresentValues', [422053.1933043177, 227138.64509604362]),\n",
       "      ('ProductValue', 649191.8384003611),\n",
       "      ('ReportingCurrency', 'USD'),\n",
       "      ('StandardError', 1271.970477336016),\n",
       "      ('CashToSettleToday', 0.0)])"
      ]
     },
     "execution_count": 53,
     "metadata": {},
     "output_type": "execute_result"
    }
   ],
   "source": [
    "# new deal \n",
    "           \n",
    "#Greeks new deal\n",
    "r=ps_utils.pricing.XVA(ps.get('690952459a5cb49e9b817e01efcdc5354bf48d29')[0])\n",
    "#r.Model.MarketDataSet='f0fd133994799ffc6aeeeceb85f501b27d321afb'\n",
    "#r.set_queries([\"ProductValue\",\"CVA\",\"DVA\",\"BCVA\",\"CVA_ParallelInterestRatesVega\",\"DVA_ParallelInterestRatesVega\",\"CVA_ParallelForeignExchangeVega\",\"DVA_ParallelForeignExchangeVega\",\"CVA_ParallelCreditDelta\",\"DVA_ParallelCreditDelta\",\"CVA_ParallelRho\",\"DVA_ParallelRho\",\"CVA_CurrencyExposure\",\"DVA_CurrencyExposure\"])\n",
    "\n",
    "\n",
    "\n",
    "#r.Product.CounterpartyCreditRating=8\n",
    "\n",
    "r.Model.TypeName=skew_model\n",
    "\n",
    "r.price(algo_id='833aa9286a2951a0eac3fb38913d6990435e5c4c')"
   ]
  },
  {
   "cell_type": "code",
   "execution_count": 50,
   "id": "5d87a41b",
   "metadata": {},
   "outputs": [
    {
     "name": "stderr",
     "output_type": "stream",
     "text": [
      "[INFO] 2023-07-03 16:41:46,730 - Compute:e99e92d9b45b2b5091a67c855004f72a79c7f6b3->0d0a4b6d79176f0b60ec30e9ad2fabdf05438cfd\n"
     ]
    },
    {
     "data": {
      "text/plain": [
       "Dict([('BCVA', -1409.3651249963852),\n",
       "      ('LegBCVA', [-1409.3651249963852]),\n",
       "      ('Legs', [b0499140312f607bc134547d1b64d2f4ff655860]),\n",
       "      ('CVA', -1409.404585514956),\n",
       "      ('DVA', 0.03946051857054275),\n",
       "      ('LegPresentValues', [251282.10521523442]),\n",
       "      ('ProductValue', 251282.10521523442),\n",
       "      ('ReportingCurrency', 'USD'),\n",
       "      ('StandardError', 39.85611970024839),\n",
       "      ('CashToSettleToday', 0.0)])"
      ]
     },
     "execution_count": 50,
     "metadata": {},
     "output_type": "execute_result"
    }
   ],
   "source": [
    "# было\n",
    "           \n",
    "#Greeks new deal\n",
    "r=ps_utils.pricing.XVA(ps.get('0c2f728a4db41ad351f168e0857d39899121c441')[0])\n",
    "#r.Model.MarketDataSet='f0fd133994799ffc6aeeeceb85f501b27d321afb'\n",
    "#r.set_queries([\"ProductValue\",\"CVA\",\"DVA\",\"BCVA\",\"CVA_ParallelInterestRatesVega\",\"DVA_ParallelInterestRatesVega\",\"CVA_ParallelForeignExchangeVega\",\"DVA_ParallelForeignExchangeVega\",\"CVA_ParallelCreditDelta\",\"DVA_ParallelCreditDelta\",\"CVA_ParallelRho\",\"DVA_ParallelRho\",\"CVA_CurrencyExposure\",\"DVA_CurrencyExposure\"])\n",
    "\n",
    "\n",
    "\n",
    "#r.Product.CounterpartyCreditRating=8\n",
    "\n",
    "r.Model.TypeName=skew_model\n",
    "\n",
    "r.price(algo_id='833aa9286a2951a0eac3fb38913d6990435e5c4c')"
   ]
  },
  {
   "cell_type": "code",
   "execution_count": 51,
   "id": "0878bc37",
   "metadata": {},
   "outputs": [
    {
     "name": "stderr",
     "output_type": "stream",
     "text": [
      "[INFO] 2023-07-03 16:41:49,924 - Compute:889c0451768a2d2edf0da5c54ab052ba84e852cf->ee99b8c20c65042218840d1eea96301358f7a26b\n"
     ]
    },
    {
     "data": {
      "text/plain": [
       "Dict([('BCVA', -18953.091928893697),\n",
       "      ('LegBCVA',\n",
       "       [-1411.0924940169982, -12260.506865669555, -5281.852754492862]),\n",
       "      ('Legs',\n",
       "       [b0499140312f607bc134547d1b64d2f4ff655860,\n",
       "        81de4f9958956286eecb0ee8aaaaed3b8d4485a2,\n",
       "        3e5186a90277ce8a65476e82ee0d50a8d854a7ca]),\n",
       "      ('CVA', -19420.92177321082),\n",
       "      ('DVA', 467.8298443171242),\n",
       "      ('LegPresentValues',\n",
       "       [251348.3679310361, 422274.5836650333, 227241.44001399356]),\n",
       "      ('ProductValue', 900864.3916100627),\n",
       "      ('ReportingCurrency', 'USD'),\n",
       "      ('StandardError', 1286.0099145463557),\n",
       "      ('CashToSettleToday', 0.0)])"
      ]
     },
     "execution_count": 51,
     "metadata": {},
     "output_type": "execute_result"
    }
   ],
   "source": [
    "# стало\n",
    "           \n",
    "#Greeks new deal\n",
    "r=ps_utils.pricing.XVA(ps.get('848499049518b6d6a11ff99d673caab23537cfb0')[0])\n",
    "#r.Model.MarketDataSet='f0fd133994799ffc6aeeeceb85f501b27d321afb'\n",
    "#r.set_queries([\"ProductValue\",\"CVA\",\"DVA\",\"BCVA\",\"CVA_ParallelInterestRatesVega\",\"DVA_ParallelInterestRatesVega\",\"CVA_ParallelForeignExchangeVega\",\"DVA_ParallelForeignExchangeVega\",\"CVA_ParallelCreditDelta\",\"DVA_ParallelCreditDelta\",\"CVA_ParallelRho\",\"DVA_ParallelRho\",\"CVA_CurrencyExposure\",\"DVA_CurrencyExposure\"])\n",
    "\n",
    "\n",
    "\n",
    "#r.Product.CounterpartyCreditRating=8\n",
    "\n",
    "r.Model.TypeName=skew_model\n",
    "\n",
    "r.price(algo_id='833aa9286a2951a0eac3fb38913d6990435e5c4c')"
   ]
  },
  {
   "cell_type": "code",
   "execution_count": 47,
   "id": "8c7122ff",
   "metadata": {},
   "outputs": [
    {
     "data": {
      "text/plain": [
       "17719.44"
      ]
     },
     "execution_count": 47,
     "metadata": {},
     "output_type": "execute_result"
    }
   ],
   "source": [
    "(18953-1409)*1.01"
   ]
  },
  {
   "cell_type": "code",
   "execution_count": 48,
   "id": "aaa7ee50",
   "metadata": {},
   "outputs": [
    {
     "data": {
      "text/plain": [
       "441269.41211159626"
      ]
     },
     "execution_count": 48,
     "metadata": {},
     "output_type": "execute_result"
    }
   ],
   "source": [
    "#44367202\n",
    "(-11995279+56843836-5563996)/r.Model.MarketDataSet.Spots['USDRUB']"
   ]
  },
  {
   "cell_type": "code",
   "execution_count": 52,
   "id": "0e635374",
   "metadata": {},
   "outputs": [
    {
     "data": {
      "text/plain": [
       "235447.27538226085"
      ]
     },
     "execution_count": 52,
     "metadata": {},
     "output_type": "execute_result"
    }
   ],
   "source": [
    "#44367203\n",
    "(-4998727+28343836-2384121)/r.Model.MarketDataSet.Spots['USDRUB']"
   ]
  },
  {
   "cell_type": "code",
   "execution_count": 57,
   "id": "c87c7d8d",
   "metadata": {},
   "outputs": [
    {
     "data": {
      "text/plain": [
       "18584.53799899105"
      ]
     },
     "execution_count": 57,
     "metadata": {},
     "output_type": "execute_result"
    }
   ],
   "source": [
    "(441269/422053*12000 + 235447/227138*5170)*1.01 +500"
   ]
  },
  {
   "cell_type": "code",
   "execution_count": 60,
   "id": "06af6bdd",
   "metadata": {},
   "outputs": [
    {
     "data": {
      "text/plain": [
       "13171.821501091095"
      ]
     },
     "execution_count": 60,
     "metadata": {},
     "output_type": "execute_result"
    }
   ],
   "source": [
    "441269/422053*12000*1.01 +500"
   ]
  },
  {
   "cell_type": "code",
   "execution_count": 61,
   "id": "1940dc51",
   "metadata": {},
   "outputs": [
    {
     "name": "stderr",
     "output_type": "stream",
     "text": [
      "[INFO] 2023-07-03 17:00:52,497 - Compute:9bc029ee4fa2a06c99ff2f2e37b5645b5d6f9a08->ab9c4da20b7bee366f371f1777e5410e71c8da82\n"
     ]
    },
    {
     "data": {
      "text/plain": [
       "Dict([('BCVA', -6406.124754185446),\n",
       "      ('LegBCVA', [-4478.955043955151, -1927.1697102302955]),\n",
       "      ('Legs',\n",
       "       [81de4f9958956286eecb0ee8aaaaed3b8d4485a2,\n",
       "        3e5186a90277ce8a65476e82ee0d50a8d854a7ca]),\n",
       "      ('CVA', -6935.2338593619925),\n",
       "      ('DVA', 529.1091051765462),\n",
       "      ('LegPresentValues', [422053.1933043177, 227138.64509604362]),\n",
       "      ('ProductValue', 649191.8384003611),\n",
       "      ('ReportingCurrency', 'USD'),\n",
       "      ('StandardError', 1271.970477336016),\n",
       "      ('CashToSettleToday', 0.0)])"
      ]
     },
     "execution_count": 61,
     "metadata": {},
     "output_type": "execute_result"
    }
   ],
   "source": [
    "# new deal \n",
    "           \n",
    "#Greeks new deal\n",
    "r=ps_utils.pricing.XVA(ps.get('690952459a5cb49e9b817e01efcdc5354bf48d29')[0])\n",
    "#r.Model.MarketDataSet='f0fd133994799ffc6aeeeceb85f501b27d321afb'\n",
    "#r.set_queries([\"ProductValue\",\"CVA\",\"DVA\",\"BCVA\",\"CVA_ParallelInterestRatesVega\",\"DVA_ParallelInterestRatesVega\",\"CVA_ParallelForeignExchangeVega\",\"DVA_ParallelForeignExchangeVega\",\"CVA_ParallelCreditDelta\",\"DVA_ParallelCreditDelta\",\"CVA_ParallelRho\",\"DVA_ParallelRho\",\"CVA_CurrencyExposure\",\"DVA_CurrencyExposure\"])\n",
    "\n",
    "\n",
    "\n",
    "r.Product.CounterpartyCreditRating=8\n",
    "\n",
    "r.Model.TypeName=skew_model\n",
    "\n",
    "r.price(algo_id='833aa9286a2951a0eac3fb38913d6990435e5c4c')"
   ]
  },
  {
   "cell_type": "code",
   "execution_count": 62,
   "id": "6f45d4d4",
   "metadata": {},
   "outputs": [
    {
     "data": {
      "text/plain": [
       "4728.70139015716"
      ]
     },
     "execution_count": 62,
     "metadata": {},
     "output_type": "execute_result"
    }
   ],
   "source": [
    "441269/422053*4478*1.01"
   ]
  },
  {
   "cell_type": "code",
   "execution_count": 63,
   "id": "b838f20c",
   "metadata": {},
   "outputs": [
    {
     "data": {
      "text/plain": [
       "1997.4921369387773"
      ]
     },
     "execution_count": 63,
     "metadata": {},
     "output_type": "execute_result"
    }
   ],
   "source": [
    "235447/227138*1927"
   ]
  },
  {
   "cell_type": "code",
   "execution_count": 64,
   "id": "5342fc4f",
   "metadata": {},
   "outputs": [
    {
     "data": {
      "text/plain": [
       "8.399999999999999"
      ]
     },
     "execution_count": 64,
     "metadata": {},
     "output_type": "execute_result"
    }
   ],
   "source": [
    "(13.2-4.8)"
   ]
  },
  {
   "cell_type": "markdown",
   "id": "b27a1d67",
   "metadata": {},
   "source": [
    "# RAZYU termination 18 rating"
   ]
  },
  {
   "cell_type": "code",
   "execution_count": null,
   "id": "ad067467",
   "metadata": {},
   "outputs": [],
   "source": []
  },
  {
   "cell_type": "code",
   "execution_count": 41,
   "id": "3fe86e72",
   "metadata": {},
   "outputs": [
    {
     "name": "stderr",
     "output_type": "stream",
     "text": [
      "[INFO] 2023-07-03 15:19:59,737 - Compute:d96e8df43d0ae0c74030ec62393e51565697b6c6->6d5357a9daccd2ce6df77e020218c2a6e372699b\n"
     ]
    },
    {
     "data": {
      "text/plain": [
       "Dict([('BCVA', -61114.654607202465),\n",
       "      ('CVA', -147860.79729829312),\n",
       "      ('DVA', 86746.14269109066),\n",
       "      ('ProductValue', -2845221.2012836915),\n",
       "      ('ReportingCurrency', 'USD'),\n",
       "      ('StandardError', 22240.681327429484),\n",
       "      ('CashToSettleToday', 0.0)])"
      ]
     },
     "execution_count": 41,
     "metadata": {},
     "output_type": "execute_result"
    }
   ],
   "source": [
    "#r=ps.get('19ca44cac520b7734029955501f9569d290a3bf9')\n",
    "\n",
    "           \n",
    "#Greeks new deal\n",
    "r=ps_utils.pricing.XVA(ps.get('89d7e8f2d999c09f353c5b81b3575b759beb5f64')[0])\n",
    "#r.Model.MarketDataSet='f0fd133994799ffc6aeeeceb85f501b27d321afb'\n",
    "#r.set_queries([\"ProductValue\",\"CVA\",\"DVA\",\"BCVA\",\"CVA_ParallelInterestRatesVega\",\"DVA_ParallelInterestRatesVega\",\"CVA_ParallelForeignExchangeVega\",\"DVA_ParallelForeignExchangeVega\",\"CVA_ParallelCreditDelta\",\"DVA_ParallelCreditDelta\",\"CVA_ParallelRho\",\"DVA_ParallelRho\",\"CVA_CurrencyExposure\",\"DVA_CurrencyExposure\"])\n",
    "\n",
    "r.Model.TypeName=skew_model\n",
    "\n",
    "#r.Product.CounterpartyCreditRating=8\n",
    "\n",
    "\n",
    "r.price(algo_id='833aa9286a2951a0eac3fb38913d6990435e5c4c')"
   ]
  },
  {
   "cell_type": "code",
   "execution_count": null,
   "id": "55d0f441",
   "metadata": {},
   "outputs": [],
   "source": []
  }
 ],
 "metadata": {
  "kernelspec": {
   "display_name": "Python 3",
   "language": "python",
   "name": "python3"
  },
  "language_info": {
   "codemirror_mode": {
    "name": "ipython",
    "version": 3
   },
   "file_extension": ".py",
   "mimetype": "text/x-python",
   "name": "python",
   "nbconvert_exporter": "python",
   "pygments_lexer": "ipython3",
   "version": "3.8.8"
  }
 },
 "nbformat": 4,
 "nbformat_minor": 5
}
